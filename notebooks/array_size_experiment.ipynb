{
 "cells": [
  {
   "cell_type": "markdown",
   "metadata": {},
   "source": [
    "# Bonus: Comparing object sizes depending on outcome encoding technique\n"
   ]
  },
  {
   "cell_type": "code",
   "execution_count": null,
   "metadata": {},
   "outputs": [
    {
     "name": "stdout",
     "output_type": "stream",
     "text": [
      "np.uint8  : 16.0 Mb\n",
      "np.int64  : 128.0 Mb\n",
      "np.string : 320.0 Mb\n",
      "pd.string : 992.2 Mb\n",
      "pd.uint8  : 16.2 Mb\n"
     ]
    }
   ],
   "source": [
    "import sys\n",
    "import numpy as np\n",
    "import pandas as pd\n",
    "\n",
    "n = 4_000\n",
    "\n",
    "objs = {\n",
    "    \"np.uint8\": np.random.randint(256, size=(n,n), dtype=np.uint8),\n",
    "    \"np.int64\": np.random.randint(256, size=(n,n), dtype=np.int64),\n",
    "    \"np.string\": np.array([[\"11012\" for _ in range(n)] for _ in range(n)]),\n",
    "    \"pd.string\": pd.DataFrame(np.array([[\"11012\" for _ in range(n)] for _ in range(n)]), columns=[f\"c{i}\" for i in range(n)], index=[f\"c{i}\" for i in range(n)]),\n",
    "    \"pd.uint8\": pd.DataFrame(np.random.randint(256, size=(n,n), dtype=np.uint8), columns=[f\"c{i}\" for i in range(n)], index=[f\"c{i}\" for i in range(n)]),\n",
    "    }\n",
    "\n",
    "for key, obj in objs.items():\n",
    "    print(f\"{key:<10}: {sys.getsizeof(obj) /1e6:,.1f} Mb\")"
   ]
  },
  {
   "cell_type": "markdown",
   "metadata": {},
   "source": [
    "**Conclusion**: moving from string to uint8 allowes to reduce objects size by ~40x"
   ]
  }
 ],
 "metadata": {
  "language_info": {
   "name": "python"
  },
  "orig_nbformat": 4
 },
 "nbformat": 4,
 "nbformat_minor": 2
}
