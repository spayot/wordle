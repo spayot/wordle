{
 "cells": [
  {
   "cell_type": "code",
   "execution_count": 5,
   "metadata": {},
   "outputs": [],
   "source": [
    "from pathlib import Path\n",
    "\n",
    "import matplotlib.pyplot as plt\n",
    "import numpy as np\n",
    "import pandas as pd\n",
    "\n",
    "import wordle as wd\n",
    "\n",
    "\n",
    "%load_ext autoreload\n",
    "%autoreload 2\n",
    "\n",
    "DATA_PATH = Path(\"../data/\")\n",
    "ALLOWED_WORDS_FNAME = \"raw/allowed_words.txt\"\n",
    "POSSIBLE_WORDS_FNAME = \"raw/possible_words.txt\"\n",
    "WORDS_PAIRS_FNAME = \"transformed/guess_solution_map_{version}.pkl\"\n",
    "IMG_PATH = Path(\"../images/\")\n",
    "\n",
    "WORD = \"crepe\""
   ]
  },
  {
   "attachments": {},
   "cell_type": "markdown",
   "metadata": {},
   "source": [
    "# Wordle Solver\n",
    "## Goal\n",
    "* build an agent that can play Wordle, with the goal to maximize its score on a given evaluation set.\n",
    "\n",
    "## Heuristic\n",
    "* use $entropy=-\\sum p * log_2(p)$ to calculate by how much a given guess is expected to reduce the number of possible choices (wegihted average)\n",
    "* v1: no prior on what are actual possible solutions\n",
    "* v2: using knowledge about actual possible words\n",
    "* v3: add 2 step look-ahead (consider expected entropy given best next guess following original one and guess outcome)\n",
    "\n",
    "# Setup Game Engine\n",
    "* game rules encapsulated in `WordleGame` class\n",
    "* color-coded HTML display of guess outcome: `display_wordle_guess_outcome`\n",
    "* basic function to validate whether a guess is possible: `is_word_possible_given_guess_outcome`\n"
   ]
  },
  {
   "cell_type": "code",
   "execution_count": 2,
   "metadata": {},
   "outputs": [
    {
     "data": {
      "text/html": [
       "<font size=\"7\" style=\"font-family:Monospace\"><span style=\"background-color:black\">T</span><span style=\"background-color:#098710\">R</span><span style=\"background-color:#b89d02\">E</span><span style=\"background-color:#098710\">T</span><span style=\"background-color:#b89d02\">A</span>"
      ],
      "text/plain": [
       "<IPython.core.display.HTML object>"
      ]
     },
     "metadata": {},
     "output_type": "display_data"
    },
    {
     "name": "stdout",
     "output_type": "stream",
     "text": [
      "candidate word: areti\n"
     ]
    },
    {
     "data": {
      "text/plain": [
       "(False, 'OOP letter `E` should have different position')"
      ]
     },
     "execution_count": 2,
     "metadata": {},
     "output_type": "execute_result"
    }
   ],
   "source": [
    "game = wd.WordleGame(\"crate\")\n",
    "outcome = game.evaluate_guess(\"treta\")\n",
    "wd.display_wordle_guess_outcome(outcome)\n",
    "candidate_word = \"areti\"\n",
    "print(f\"candidate word: {candidate_word}\")\n",
    "wd.valid.is_word_possible_given_guess_outcome(candidate_word, outcome)"
   ]
  },
  {
   "attachments": {},
   "cell_type": "markdown",
   "metadata": {},
   "source": [
    "## play a game manually"
   ]
  },
  {
   "cell_type": "code",
   "execution_count": 3,
   "metadata": {},
   "outputs": [],
   "source": [
    "def make_guess(guess):\n",
    "    guess_outcome = game.record_player_guess(guess)\n",
    "    wd.display_wordle_guess_outcome(guess_outcome)\n",
    "    if game.is_over:\n",
    "        print(\"the game is over!\")\n",
    "        if game.solved:\n",
    "            print(f\"you won in {game.number_of_guesses} guesses\")\n",
    "        else:\n",
    "            print(f\"you have used your {game.max_guesses} guesses.\")"
   ]
  },
  {
   "cell_type": "code",
   "execution_count": 19,
   "metadata": {},
   "outputs": [
    {
     "data": {
      "text/html": [
       "<font size=\"7\" style=\"font-family:Monospace\"><span style=\"background-color:#098710\">C</span><span style=\"background-color:#098710\">R</span><span style=\"background-color:black\">A</span><span style=\"background-color:black\">T</span><span style=\"background-color:#098710\">E</span>"
      ],
      "text/plain": [
       "<IPython.core.display.HTML object>"
      ]
     },
     "metadata": {},
     "output_type": "display_data"
    },
    {
     "data": {
      "text/html": [
       "<font size=\"7\" style=\"font-family:Monospace\"><span style=\"background-color:#098710\">C</span><span style=\"background-color:#098710\">R</span><span style=\"background-color:#098710\">E</span><span style=\"background-color:#098710\">P</span><span style=\"background-color:#098710\">E</span>"
      ],
      "text/plain": [
       "<IPython.core.display.HTML object>"
      ]
     },
     "metadata": {},
     "output_type": "display_data"
    },
    {
     "name": "stdout",
     "output_type": "stream",
     "text": [
      "the game is over!\n",
      "you won in 2 guesses\n"
     ]
    }
   ],
   "source": [
    "# `word` has been defined in first notebook cell\n",
    "game = wd.WordleGame(WORD)\n",
    "while not game.is_over:\n",
    "    guess = input(\"make a 5 letter guess:\")\n",
    "    make_guess(guess)"
   ]
  },
  {
   "attachments": {},
   "cell_type": "markdown",
   "metadata": {},
   "source": [
    "## load allowed words"
   ]
  },
  {
   "cell_type": "code",
   "execution_count": 13,
   "metadata": {},
   "outputs": [],
   "source": [
    "# 5-letter words that are allowed to use as a guess\n",
    "allowed_words = wd.load.load_words_as_dict(DATA_PATH / ALLOWED_WORDS_FNAME)\n",
    "\n",
    "# possible words: actual possible solutions (a subset of 2.9k words of allowed words)\n",
    "possible_words = wd.load.load_words_as_list(DATA_PATH / POSSIBLE_WORDS_FNAME)"
   ]
  },
  {
   "attachments": {},
   "cell_type": "markdown",
   "metadata": {},
   "source": [
    "# EDA"
   ]
  },
  {
   "cell_type": "code",
   "execution_count": 14,
   "metadata": {},
   "outputs": [
    {
     "data": {
      "text/plain": [
       "12953"
      ]
     },
     "execution_count": 14,
     "metadata": {},
     "output_type": "execute_result"
    }
   ],
   "source": [
    "# number of allowed 5 letter words\n",
    "five_letter_words = pd.Series(allowed_words.keys())\n",
    "len(five_letter_words)"
   ]
  },
  {
   "cell_type": "code",
   "execution_count": 15,
   "metadata": {},
   "outputs": [
    {
     "data": {
      "image/png": "[encoded data removed]",
      "text/plain": [
       "<Figure size 640x480 with 1 Axes>"
      ]
     },
     "metadata": {},
     "output_type": "display_data"
    }
   ],
   "source": [
    "# letter prevalence as a whole\n",
    "(five_letter_words\n",
    "    .apply(lambda x: list(x))\n",
    "    .explode()\n",
    "    .value_counts()\n",
    "    .plot(\n",
    "        kind=\"bar\",\n",
    "        title=\"letter frequency in 5-letter words\",\n",
    "        ));"
   ]
  },
  {
   "cell_type": "code",
   "execution_count": 16,
   "metadata": {},
   "outputs": [
    {
     "data": {
      "text/plain": [
       "<Axes: title={'center': 'How often does a letter appear in a 5 letter word?'}>"
      ]
     },
     "execution_count": 16,
     "metadata": {},
     "output_type": "execute_result"
    },
    {
     "data": {
      "image/png": "[encoded data removed]",
      "text/plain": [
       "<Figure size 2000x500 with 2 Axes>"
      ]
     },
     "metadata": {},
     "output_type": "display_data"
    }
   ],
   "source": [
    "ALPHABET = \"abcdefghijklmnopqrstuvwxyz\"\n",
    "# how often does a letter appear in a 5 letter word?\n",
    "letter_frequency = pd.Series({letter: five_letter_words.str.contains(letter).mean() for letter in ALPHABET})\n",
    "\n",
    "fig, ax = plt.subplots(1,2, figsize=(20,5))\n",
    "letter_frequency.plot.bar(title=\"How often does a letter appear in a 5 letter word?\", ax=ax[0])\n",
    "letter_frequency.sort_values(ascending=False).plot.bar(title=\"How often does a letter appear in a 5 letter word?\", ax=ax[1])"
   ]
  },
  {
   "attachments": {},
   "cell_type": "markdown",
   "metadata": {},
   "source": [
    "## Building a map of possible solutions given a guess outcome\n",
    "We can pre-compute the outcome you would get if you enter a certain guess word, given a specific solution word. this can be stored in the form of a ($n_{possible solutions} x n_{allowed words} numpy array) which we call a`PossibleSolutionsMap`. outcomes are stored as uint8 to reduce the size of this map (cf. bonus)\n",
    "### v1: no prior assumption about actual possible solutions\n",
    "* no integration of word likelihood based on word popularity (all words in dic have same probability = 1)\n",
    "* no integration of prior knowledge about possible solutiosn (aka `possible_words`)\n",
    "* one step ahead lookup"
   ]
  },
  {
   "cell_type": "code",
   "execution_count": 9,
   "metadata": {},
   "outputs": [
    {
     "data": {
      "application/vnd.jupyter.widget-view+json": {
       "model_id": "13f718b9085840f5bccb877d22d96c21",
       "version_major": 2,
       "version_minor": 0
      },
      "text/plain": [
       "  0%|          | 0/12953 [00:00<?, ?it/s]"
      ]
     },
     "metadata": {},
     "output_type": "display_data"
    },
    {
     "name": "stdout",
     "output_type": "stream",
     "text": [
      "CPU times: user 24min 39s, sys: 45.1 s, total: 25min 24s\n",
      "Wall time: 25min 1s\n",
      "PossibleSolutionsMap(n_solutions=12953,n_allowed=12953,entropy=13.66)\n",
      "CPU times: user 12.1 ms, sys: 41.2 ms, total: 53.3 ms\n",
      "Wall time: 62.9 ms\n"
     ]
    }
   ],
   "source": [
    "psm = wd.PossibleSolutionsMap(allowed_words, list(allowed_words))\n",
    "%time psm.build_map()\n",
    "print(psm)\n",
    "\n",
    "%time psm.to_pickle(DATA_PATH / WORDS_PAIRS_FNAME.format(version=\"v1\"))"
   ]
  },
  {
   "attachments": {},
   "cell_type": "markdown",
   "metadata": {},
   "source": [
    "### v2: using prior knowledge about actual possible words"
   ]
  },
  {
   "cell_type": "code",
   "execution_count": 10,
   "metadata": {},
   "outputs": [
    {
     "data": {
      "application/vnd.jupyter.widget-view+json": {
       "model_id": "e134cb33545142e29391fbcbd08cfe26",
       "version_major": 2,
       "version_minor": 0
      },
      "text/plain": [
       "  0%|          | 0/2309 [00:00<?, ?it/s]"
      ]
     },
     "metadata": {},
     "output_type": "display_data"
    },
    {
     "name": "stdout",
     "output_type": "stream",
     "text": [
      "CPU times: user 4min 25s, sys: 9.94 s, total: 4min 35s\n",
      "Wall time: 4min 30s\n",
      "PossibleSolutionsMap(n_solutions=2309,n_allowed=12953,entropy=11.17)\n",
      "CPU times: user 3.23 ms, sys: 7.96 ms, total: 11.2 ms\n",
      "Wall time: 12.4 ms\n"
     ]
    }
   ],
   "source": [
    "psm_v2 = wd.PossibleSolutionsMap({word: 1.0 for word in possible_words}, list(allowed_words))\n",
    "%time psm_v2.build_map()\n",
    "print(psm_v2)\n",
    "\n",
    "%time psm_v2.to_pickle(DATA_PATH / WORDS_PAIRS_FNAME.format(version=\"v2\"))"
   ]
  },
  {
   "attachments": {},
   "cell_type": "markdown",
   "metadata": {},
   "source": [
    "## Reload"
   ]
  },
  {
   "cell_type": "code",
   "execution_count": 2,
   "metadata": {},
   "outputs": [],
   "source": [
    "# reload\n",
    "psm = wd.PossibleSolutionsMap.from_pickle(DATA_PATH / WORDS_PAIRS_FNAME.format(version=\"v1\"))\n",
    "psm_v2 = wd.PossibleSolutionsMap.from_pickle(DATA_PATH / WORDS_PAIRS_FNAME.format(version=\"v2\"))"
   ]
  },
  {
   "cell_type": "code",
   "execution_count": 11,
   "metadata": {},
   "outputs": [],
   "source": [
    "def simulate_game_so_far(solution: str, guesses: list[str]):\n",
    "    game = wd.WordleGame(solution)\n",
    "    for guess in guesses:\n",
    "        game.record_player_guess(guess)\n",
    "        wd.display_wordle_guess_outcome(game.guesses_so_far[-1])\n",
    "    \n",
    "    return game"
   ]
  },
  {
   "attachments": {},
   "cell_type": "markdown",
   "metadata": {},
   "source": [
    "## test performance with caching of entropies calculation for all candidates"
   ]
  },
  {
   "cell_type": "code",
   "execution_count": 13,
   "metadata": {},
   "outputs": [
    {
     "name": "stdout",
     "output_type": "stream",
     "text": [
      "CPU times: user 12.1 s, sys: 2.19 s, total: 14.3 s\n",
      "Wall time: 15.2 s\n",
      "CPU times: user 520 µs, sys: 26 µs, total: 546 µs\n",
      "Wall time: 549 µs\n",
      "CPU times: user 3.28 s, sys: 207 ms, total: 3.49 s\n",
      "Wall time: 3.58 s\n"
     ]
    }
   ],
   "source": [
    "# game start: all words are possible solutions (map = 13k x 13k)\n",
    "%time candidate_entropies = wd.player.get_all_candidate_entropies(psm)\n",
    "%time candidate_entropies = wd.player.get_all_candidate_entropies(psm)\n",
    "\n",
    "# after one guess: \n",
    "%time candidate_entropies = wd.player.get_all_candidate_entropies(psm_v2)"
   ]
  },
  {
   "attachments": {},
   "cell_type": "markdown",
   "metadata": {},
   "source": [
    "## Players\n",
    "### Test GreedyPlayer\n",
    "* maximizing expected information gain for the next step"
   ]
  },
  {
   "cell_type": "code",
   "execution_count": 18,
   "metadata": {},
   "outputs": [
    {
     "data": {
      "text/html": [
       "<font size=\"7\" style=\"font-family:Monospace\"><span style=\"background-color:black\">T</span><span style=\"background-color:black\">A</span><span style=\"background-color:#b89d02\">R</span><span style=\"background-color:black\">E</span><span style=\"background-color:black\">S</span>"
      ],
      "text/plain": [
       "<IPython.core.display.HTML object>"
      ]
     },
     "metadata": {},
     "output_type": "display_data"
    },
    {
     "data": {
      "text/html": [
       "<font size=\"7\" style=\"font-family:Monospace\"><span style=\"background-color:black\">B</span><span style=\"background-color:#098710\">O</span><span style=\"background-color:#098710\">U</span><span style=\"background-color:#098710\">N</span><span style=\"background-color:#098710\">D</span>"
      ],
      "text/plain": [
       "<IPython.core.display.HTML object>"
      ]
     },
     "metadata": {},
     "output_type": "display_data"
    },
    {
     "data": {
      "text/html": [
       "<font size=\"7\" style=\"font-family:Monospace\"><span style=\"background-color:#098710\">R</span><span style=\"background-color:#098710\">O</span><span style=\"background-color:#098710\">U</span><span style=\"background-color:#098710\">N</span><span style=\"background-color:#098710\">D</span>"
      ],
      "text/plain": [
       "<IPython.core.display.HTML object>"
      ]
     },
     "metadata": {},
     "output_type": "display_data"
    },
    {
     "name": "stdout",
     "output_type": "stream",
     "text": [
      "CPU times: user 9.42 s, sys: 169 ms, total: 9.59 s\n",
      "Wall time: 9.6 s\n"
     ]
    },
    {
     "data": {
      "text/plain": [
       "WordleGame(target_word='ROUND', max_guesses=6, number_of_guesses=3, is_over=True, solved=True)"
      ]
     },
     "execution_count": 18,
     "metadata": {},
     "output_type": "execute_result"
    }
   ],
   "source": [
    "player = wd.player.GreedyPlayer(psm)\n",
    "game = wd.WordleGame(\"round\")\n",
    "%time wd.player.play_game(player, game=game)\n",
    "\n"
   ]
  },
  {
   "attachments": {},
   "cell_type": "markdown",
   "metadata": {},
   "source": [
    "# Visualizing outcome distributions\n",
    "## best starter guesses"
   ]
  },
  {
   "cell_type": "code",
   "execution_count": 19,
   "metadata": {},
   "outputs": [
    {
     "data": {
      "text/plain": [
       "soare    5.885203\n",
       "roate    5.884856\n",
       "raise    5.878303\n",
       "reast    5.867738\n",
       "raile    5.865154\n",
       "dtype: float64"
      ]
     },
     "execution_count": 19,
     "metadata": {},
     "output_type": "execute_result"
    }
   ],
   "source": [
    "wd.player.get_all_candidate_entropies(psm_v2).head(5)"
   ]
  },
  {
   "cell_type": "code",
   "execution_count": 20,
   "metadata": {},
   "outputs": [
    {
     "data": {
      "application/vnd.plotly.v1+json": {
       "config": {
        "plotlyServerURL": "https://plot.ly"
       },
       "data": [
        {
         "alignmentgroup": "True",
         "customdata": [
          [
           768,
           [
            "actin",
            "amity",
            "aptly",
            "canty",
            "daggy",
            "danny",
            "halid",
            "katti",
            "mafic",
            "mangy",
            "pulka",
            "unpay"
           ]
          ],
          [
           638,
           [
            "cides",
            "feels",
            "fused",
            "fuzes",
            "gents",
            "hends",
            "hypes",
            "menus",
            "nexts",
            "pecks",
            "teths",
            "vives"
           ]
          ],
          [
           606,
           [
            "betty",
            "edged",
            "fumed",
            "intel",
            "letch",
            "letup",
            "newed",
            "pened",
            "piend",
            "tided",
            "typey",
            "umbel"
           ]
          ],
          [
           601,
           [
            "baits",
            "basks",
            "cavas",
            "dalts",
            "lakhs",
            "lambs",
            "litas",
            "maims",
            "mains",
            "packs",
            "pshaw",
            "qadis"
           ]
          ],
          [
           575,
           [
            "buffi",
            "bully",
            "cutup",
            "gulch",
            "milky",
            "minim",
            "pight",
            "punch",
            "tulip",
            "unify",
            "unkid",
            "yummy"
           ]
          ],
          [
           504,
           [
            "bidis",
            "binds",
            "byssi",
            "ducts",
            "ginks",
            "gists",
            "kiwis",
            "lings",
            "lupus",
            "tutus",
            "wists",
            "yills"
           ]
          ],
          [
           401,
           [
            "brief",
            "ender",
            "fifer",
            "greed",
            "herby",
            "inker",
            "inter",
            "lemur",
            "liber",
            "preed",
            "trier",
            "wrier"
           ]
          ],
          [
           397,
           [
            "bolus",
            "dojos",
            "godso",
            "lolls",
            "mocks",
            "mools",
            "mosks",
            "motus",
            "nouls",
            "posts",
            "touns",
            "toyos"
           ]
          ],
          [
           369,
           [
            "bocci",
            "booty",
            "doubt",
            "folic",
            "goldy",
            "mochi",
            "mommy",
            "nooky",
            "oobit",
            "toppy",
            "volti",
            "wound"
           ]
          ],
          [
           349,
           [
            "adeem",
            "ameba",
            "apnea",
            "becap",
            "bepat",
            "cecal",
            "eaved",
            "genal",
            "paned",
            "pelma",
            "penal",
            "yawed"
           ]
          ],
          [
           302,
           [
            "bilge",
            "deice",
            "ezine",
            "flume",
            "kluge",
            "lumme",
            "nieve",
            "nudge",
            "tenge",
            "tynde",
            "winze",
            "zinke"
           ]
          ],
          [
           257,
           [
            "aread",
            "aurei",
            "carex",
            "debar",
            "eater",
            "feral",
            "lamer",
            "pager",
            "rager",
            "regma",
            "retag",
            "wager"
           ]
          ],
          [
           254,
           [
            "bigot",
            "cholo",
            "choux",
            "cloff",
            "clomb",
            "dhobi",
            "flout",
            "gizmo",
            "gluon",
            "known",
            "outdo",
            "upbow"
           ]
          ],
          [
           250,
           [
            "carap",
            "cigar",
            "farci",
            "haram",
            "purda",
            "ragga",
            "ramin",
            "rangi",
            "rangy",
            "rapid",
            "rawin",
            "tarty"
           ]
          ],
          [
           227,
           [
            "scudi",
            "sculs",
            "shchi",
            "simis",
            "skids",
            "slish",
            "slubb",
            "smugs",
            "smush",
            "study",
            "sushi",
            "swigs"
           ]
          ],
          [
           219,
           [
            "almes",
            "assez",
            "cages",
            "fades",
            "gades",
            "gales",
            "games",
            "haves",
            "lased",
            "taces",
            "taxes",
            "wekas"
           ]
          ],
          [
           211,
           [
            "scyes",
            "sedes",
            "sensi",
            "septs",
            "sheds",
            "shlep",
            "sined",
            "sized",
            "skein",
            "sneck",
            "snyes",
            "steed"
           ]
          ],
          [
           198,
           [
            "berks",
            "brews",
            "certs",
            "erhus",
            "esker",
            "feres",
            "kerbs",
            "lerps",
            "prest",
            "reeks",
            "reges",
            "ruses"
           ]
          ],
          [
           194,
           [
            "aboon",
            "amnio",
            "annoy",
            "axiom",
            "azoic",
            "canto",
            "gazon",
            "halon",
            "magot",
            "ngoma",
            "patio",
            "pilao"
           ]
          ],
          [
           178,
           [
            "birks",
            "brisk",
            "brits",
            "burbs",
            "crush",
            "lirks",
            "prism",
            "pursy",
            "rinds",
            "ripps",
            "ruins",
            "trips"
           ]
          ],
          [
           177,
           [
            "coley",
            "coney",
            "cooed",
            "coven",
            "dowel",
            "goeth",
            "hoten",
            "hoved",
            "noted",
            "topek",
            "woken",
            "zooey"
           ]
          ],
          [
           175,
           [
            "birch",
            "curny",
            "dhikr",
            "dript",
            "druid",
            "druxy",
            "girth",
            "krubi",
            "mirid",
            "rummy",
            "thrid",
            "yirth"
           ]
          ],
          [
           170,
           [
            "biogs",
            "buoys",
            "glows",
            "lidos",
            "limos",
            "ludos",
            "minos",
            "ombus",
            "oulks",
            "phots",
            "uncos",
            "vlogs"
           ]
          ],
          [
           168,
           [
            "abaft",
            "abaka",
            "apayd",
            "bialy",
            "bland",
            "champ",
            "glady",
            "khaki",
            "taata",
            "thack",
            "twang",
            "viand"
           ]
          ],
          [
           161,
           [
            "abris",
            "airts",
            "carbs",
            "garbs",
            "jarls",
            "karts",
            "marcs",
            "parts",
            "ratus",
            "rayas",
            "warst",
            "yarks"
           ]
          ],
          [
           156,
           [
            "aleye",
            "alive",
            "amice",
            "azide",
            "cache",
            "dalle",
            "damme",
            "fayne",
            "gauze",
            "hance",
            "mauve",
            "valve"
           ]
          ],
          [
           155,
           [
            "scamp",
            "shank",
            "shaws",
            "skaws",
            "slams",
            "smaik",
            "snath",
            "spall",
            "spams",
            "spazz",
            "stalk",
            "stash"
           ]
          ],
          [
           149,
           [
            "buats",
            "chais",
            "class",
            "clays",
            "daals",
            "dials",
            "gnash",
            "gyals",
            "khans",
            "luaus",
            "plasm",
            "udals"
           ]
          ],
          [
           143,
           [
            "broil",
            "crock",
            "froth",
            "grody",
            "groom",
            "orcin",
            "prior",
            "proll",
            "rumpo",
            "throb",
            "throw",
            "vigor"
           ]
          ],
          [
           141,
           [
            "scion",
            "scoff",
            "shogs",
            "shojo",
            "shoos",
            "showd",
            "skool",
            "sloyd",
            "spoof",
            "spoom",
            "swoln",
            "sybow"
           ]
          ],
          [
           138,
           [
            "boets",
            "bokes",
            "boxes",
            "coeds",
            "coses",
            "cosey",
            "coves",
            "goxes",
            "moles",
            "mozes",
            "noxes",
            "posed"
           ]
          ],
          [
           132,
           [
            "coyau",
            "goban",
            "hodja",
            "lohan",
            "lowan",
            "molla",
            "noxal",
            "podia",
            "polka",
            "tokay",
            "toman",
            "zoppa"
           ]
          ],
          [
           128,
           [
            "bodle",
            "bogue",
            "bombe",
            "boule",
            "cooee",
            "holme",
            "monte",
            "moxie",
            "podge",
            "pombe",
            "toile",
            "vogue"
           ]
          ],
          [
           127,
           [
            "grize",
            "merge",
            "nerve",
            "regie",
            "rente",
            "retie",
            "revie",
            "revue",
            "ridge",
            "trike",
            "trite",
            "tryke"
           ]
          ],
          [
           123,
           [
            "buteo",
            "celom",
            "chemo",
            "deffo",
            "elogy",
            "eloin",
            "jeton",
            "metol",
            "olein",
            "oleum",
            "pelon",
            "zendo"
           ]
          ],
          [
           119,
           [
            "sabal",
            "sails",
            "saint",
            "samps",
            "sangs",
            "sasin",
            "sassy",
            "sayst",
            "shwas",
            "sigla",
            "spial",
            "stupa"
           ]
          ],
          [
           107,
           [
            "brach",
            "brava",
            "craig",
            "drail",
            "drama",
            "drawl",
            "glair",
            "graft",
            "krang",
            "prahu",
            "tract",
            "trait"
           ]
          ],
          [
           91,
           [
            "corms",
            "corps",
            "dorms",
            "gorps",
            "horsy",
            "lords",
            "norks",
            "porns",
            "rooks",
            "rosti",
            "rosts",
            "toros"
           ]
          ],
          [
           88,
           [
            "boxer",
            "doter",
            "forex",
            "gofer",
            "goier",
            "honer",
            "mover",
            "mower",
            "roper",
            "rower",
            "wooer",
            "zoner"
           ]
          ],
          [
           80,
           [
            "corky",
            "corny",
            "dormy",
            "dorty",
            "forky",
            "lordy",
            "porgy",
            "porky",
            "robin",
            "robot",
            "roguy",
            "roupy"
           ]
          ],
          [
           80,
           [
            "apods",
            "ascot",
            "atoms",
            "awols",
            "canso",
            "fanos",
            "gaols",
            "kagos",
            "lasso",
            "mayos",
            "octas",
            "tacos"
           ]
          ],
          [
           79,
           [
            "argol",
            "ariot",
            "aroma",
            "carbo",
            "croak",
            "garbo",
            "narco",
            "radio",
            "radon",
            "ratio",
            "tardo",
            "tarok"
           ]
          ],
          [
           74,
           [
            "aggri",
            "angry",
            "hairy",
            "hijra",
            "infra",
            "intra",
            "labra",
            "libra",
            "lycra",
            "marri",
            "micra",
            "raird"
           ]
          ],
          [
           74,
           [
            "scene",
            "shive",
            "siege",
            "skene",
            "slipe",
            "spide",
            "steme",
            "stile",
            "swile",
            "swive",
            "sycee",
            "sythe"
           ]
          ],
          [
           72,
           [
            "agape",
            "blame",
            "blate",
            "blaze",
            "chace",
            "clave",
            "etape",
            "evade",
            "heave",
            "knave",
            "peaze",
            "thale"
           ]
          ],
          [
           70,
           [
            "beaks",
            "claes",
            "ecads",
            "jeats",
            "least",
            "meals",
            "neals",
            "neaps",
            "peans",
            "teals",
            "twaes",
            "yeads"
           ]
          ],
          [
           66,
           [
            "safed",
            "sakes",
            "salet",
            "saned",
            "sates",
            "scena",
            "sedan",
            "sella",
            "skean",
            "spean",
            "stela",
            "sweat"
           ]
          ],
          [
           66,
           [
            "brats",
            "craps",
            "crays",
            "draws",
            "frass",
            "fraus",
            "frays",
            "grams",
            "grays",
            "prads",
            "prams",
            "wraps"
           ]
          ],
          [
           66,
           [
            "crons",
            "drops",
            "grogs",
            "gross",
            "ornis",
            "profs",
            "proso",
            "prost",
            "tiros",
            "trois",
            "tyros",
            "vrows"
           ]
          ],
          [
           64,
           [
            "berob",
            "bevor",
            "credo",
            "ofter",
            "oncer",
            "opter",
            "owner",
            "rebop",
            "recco",
            "tenor",
            "uredo",
            "vireo"
           ]
          ],
          [
           62,
           [
            "bloke",
            "clove",
            "elope",
            "epode",
            "exode",
            "exome",
            "geode",
            "gloze",
            "knowe",
            "ohone",
            "ounce",
            "pekoe"
           ]
          ],
          [
           61,
           [
            "acres",
            "areas",
            "arets",
            "arsey",
            "aures",
            "cares",
            "dares",
            "eyras",
            "fares",
            "resat",
            "resaw",
            "rheas"
           ]
          ],
          [
           59,
           [
            "devos",
            "enols",
            "escot",
            "ethos",
            "helos",
            "lenos",
            "meous",
            "neons",
            "opens",
            "ovels",
            "ovens",
            "pesto"
           ]
          ],
          [
           57,
           [
            "socks",
            "soldi",
            "soldo",
            "sonic",
            "sonly",
            "sools",
            "soops",
            "soots",
            "soppy",
            "souks",
            "sowls",
            "sownd"
           ]
          ],
          [
           56,
           [
            "aerie",
            "agree",
            "arvee",
            "ayrie",
            "barye",
            "carle",
            "carve",
            "rache",
            "ragde",
            "raile",
            "ramie",
            "varve"
           ]
          ],
          [
           56,
           [
            "screw",
            "seder",
            "serer",
            "shier",
            "sired",
            "siren",
            "suber",
            "sured",
            "surer",
            "syker",
            "syren",
            "syver"
           ]
          ],
          [
           54,
           [
            "aorta",
            "borax",
            "coral",
            "dowar",
            "korai",
            "korma",
            "lobar",
            "loral",
            "moral",
            "morat",
            "norma",
            "royal"
           ]
          ],
          [
           51,
           [
            "baaed",
            "beaut",
            "dealt",
            "heald",
            "leafy",
            "mealy",
            "meany",
            "peach",
            "peaky",
            "peavy",
            "vealy",
            "weamb"
           ]
          ],
          [
           49,
           [
            "cense",
            "dense",
            "feese",
            "gesse",
            "guyse",
            "issue",
            "jesse",
            "mesne",
            "neese",
            "peise",
            "piste",
            "visne"
           ]
          ],
          [
           46,
           [
            "blurb",
            "chirr",
            "chiru",
            "cirri",
            "flirt",
            "flurr",
            "libri",
            "lurry",
            "thurl",
            "uhuru",
            "updry",
            "whirl"
           ]
          ],
          [
           44,
           [
            "berry",
            "clerk",
            "emerg",
            "enurn",
            "inerm",
            "leery",
            "merry",
            "piert",
            "reird",
            "therm",
            "twerp",
            "weird"
           ]
          ],
          [
           43,
           [
            "alarm",
            "chara",
            "charr",
            "chart",
            "diary",
            "glary",
            "gnarl",
            "guard",
            "laari",
            "quark",
            "unary",
            "urari"
           ]
          ],
          [
           39,
           [
            "colas",
            "fossa",
            "iotas",
            "jotas",
            "mowas",
            "moxas",
            "moyas",
            "nomas",
            "nonas",
            "novas",
            "togas",
            "yogas"
           ]
          ],
          [
           39,
           [
            "arame",
            "braze",
            "crape",
            "drake",
            "drape",
            "frame",
            "frape",
            "grace",
            "graze",
            "irade",
            "reate",
            "reave"
           ]
          ],
          [
           39,
           [
            "sabir",
            "sards",
            "sarky",
            "scrat",
            "sitar",
            "sizar",
            "sprat",
            "strad",
            "strag",
            "strap",
            "straw",
            "surat"
           ]
          ],
          [
           36,
           [
            "anise",
            "ansae",
            "avise",
            "false",
            "hanse",
            "hause",
            "hawse",
            "kasme",
            "passe",
            "tasse",
            "tawse",
            "valse"
           ]
          ],
          [
           35,
           [
            "shade",
            "shame",
            "skate",
            "slake",
            "slane",
            "slave",
            "snake",
            "space",
            "spane",
            "state",
            "suave",
            "swale"
           ]
          ],
          [
           34,
           [
            "broke",
            "crome",
            "drome",
            "grope",
            "grove",
            "orgue",
            "owrie",
            "proke",
            "prone",
            "prove",
            "rhone",
            "troke"
           ]
          ],
          [
           34,
           [
            "biers",
            "brers",
            "deers",
            "ewers",
            "heirs",
            "icers",
            "jeers",
            "liers",
            "meers",
            "peers",
            "ruers",
            "veers"
           ]
          ],
          [
           31,
           [
            "borde",
            "corbe",
            "doree",
            "forme",
            "gorge",
            "horde",
            "morne",
            "roble",
            "roque",
            "rouge",
            "roule",
            "torte"
           ]
          ],
          [
           31,
           [
            "bores",
            "cores",
            "dores",
            "doser",
            "loser",
            "rodes",
            "rones",
            "roses",
            "roset",
            "rotes",
            "roues",
            "yores"
           ]
          ],
          [
           31,
           [
            "scarp",
            "scary",
            "sharn",
            "sharp",
            "skart",
            "snarf",
            "snark",
            "spard",
            "spars",
            "starn",
            "starr",
            "sward"
           ]
          ],
          [
           30,
           [
            "bouse",
            "bowse",
            "copse",
            "dowse",
            "goose",
            "gosse",
            "hoise",
            "house",
            "loose",
            "noise",
            "poyse",
            "woose"
           ]
          ],
          [
           29,
           [
            "boast",
            "coals",
            "doats",
            "goafs",
            "goats",
            "hoast",
            "loads",
            "loafs",
            "loans",
            "moats",
            "toast",
            "woads"
           ]
          ],
          [
           29,
           [
            "boord",
            "bourg",
            "courd",
            "court",
            "cowry",
            "dobro",
            "doorn",
            "houri",
            "lorry",
            "morro",
            "poort",
            "worry"
           ]
          ],
          [
           28,
           [
            "burro",
            "chord",
            "flory",
            "glory",
            "hydro",
            "impro",
            "mhorr",
            "nitro",
            "ochry",
            "thoro",
            "thorp",
            "whort"
           ]
          ],
          [
           28,
           [
            "scurs",
            "shirk",
            "shirr",
            "skirl",
            "skirr",
            "skyrs",
            "slurb",
            "slurs",
            "smirr",
            "smirs",
            "stirk",
            "swirl"
           ]
          ],
          [
           28,
           [
            "brere",
            "deere",
            "frere",
            "genre",
            "inure",
            "litre",
            "livre",
            "mitre",
            "quire",
            "titre",
            "umbre",
            "yfere"
           ]
          ],
          [
           27,
           [
            "scrim",
            "scrip",
            "scrub",
            "shris",
            "sirup",
            "skrik",
            "sprig",
            "strim",
            "strut",
            "surfs",
            "surfy",
            "surgy"
           ]
          ],
          [
           27,
           [
            "sados",
            "sajou",
            "salop",
            "salto",
            "sango",
            "sanko",
            "savoy",
            "scopa",
            "shoal",
            "shoat",
            "shola",
            "stoma"
           ]
          ],
          [
           24,
           [
            "birse",
            "brise",
            "burse",
            "crise",
            "cruse",
            "curse",
            "grese",
            "grise",
            "herse",
            "merse",
            "resee",
            "reuse"
           ]
          ],
          [
           23,
           [
            "afire",
            "alure",
            "arere",
            "aygre",
            "azure",
            "cabre",
            "cadre",
            "darre",
            "eagre",
            "garre",
            "tarre",
            "zaire"
           ]
          ],
          [
           23,
           [
            "adobe",
            "adoze",
            "agoge",
            "amole",
            "anole",
            "apode",
            "atoke",
            "awoke",
            "azole",
            "haole",
            "mahoe",
            "olpae"
           ]
          ],
          [
           22,
           [
            "agars",
            "chars",
            "czars",
            "duars",
            "fiars",
            "guars",
            "haars",
            "kyars",
            "thars",
            "tsars",
            "tzars",
            "yaars"
           ]
          ],
          [
           22,
           [
            "ceros",
            "deros",
            "froes",
            "orles",
            "osier",
            "owres",
            "renos",
            "repos",
            "resod",
            "resow",
            "weros",
            "zeros"
           ]
          ],
          [
           21,
           [
            "scone",
            "scope",
            "shote",
            "smoke",
            "smote",
            "snoke",
            "spode",
            "stoke",
            "stone",
            "stope",
            "stove",
            "swole"
           ]
          ],
          [
           21,
           [
            "safer",
            "sager",
            "saker",
            "sared",
            "saser",
            "saver",
            "sayer",
            "segar",
            "serac",
            "seral",
            "shear",
            "stear"
           ]
          ],
          [
           20,
           [
            "bowrs",
            "fours",
            "goors",
            "hoors",
            "hours",
            "jours",
            "loirs",
            "lours",
            "moors",
            "noirs",
            "pours",
            "torrs"
           ]
          ],
          [
           20,
           [
            "birrs",
            "buhrs",
            "burrs",
            "currs",
            "flirs",
            "furrs",
            "girrs",
            "murrs",
            "tirrs",
            "usurp",
            "usury",
            "yirrs"
           ]
          ],
          [
           20,
           [
            "amirs",
            "asura",
            "baurs",
            "carrs",
            "daurs",
            "fairs",
            "gaurs",
            "hairs",
            "lairs",
            "parrs",
            "vairs",
            "wairs"
           ]
          ],
          [
           19,
           [
            "coact",
            "coala",
            "coaly",
            "coati",
            "foamy",
            "hoagy",
            "loamy",
            "loath",
            "poaka",
            "toady",
            "woald",
            "xoana"
           ]
          ],
          [
           19,
           [
            "chaco",
            "cyano",
            "igapo",
            "imago",
            "llano",
            "miaou",
            "miaow",
            "ngaio",
            "obang",
            "otaku",
            "piano",
            "whamo"
           ]
          ],
          [
           19,
           [
            "aware",
            "beare",
            "blare",
            "deare",
            "geare",
            "glare",
            "leare",
            "maare",
            "peare",
            "phare",
            "urare",
            "whare"
           ]
          ],
          [
           18,
           [
            "segno",
            "segol",
            "segos",
            "sekos",
            "sexto",
            "sheol",
            "shoed",
            "skeos",
            "snoek",
            "snoep",
            "steno",
            "stoep"
           ]
          ],
          [
           18,
           [
            "scrob",
            "scrog",
            "scrow",
            "shrow",
            "smoor",
            "spoor",
            "sprod",
            "sprog",
            "strop",
            "strow",
            "stroy",
            "sudor"
           ]
          ],
          [
           16,
           [
            "socle",
            "solde",
            "solve",
            "sonce",
            "sonde",
            "sonne",
            "sonse",
            "soole",
            "souse",
            "sowne",
            "sowse",
            "soyle"
           ]
          ],
          [
           16,
           [
            "dearn",
            "enarm",
            "feart",
            "heard",
            "learn",
            "pearl",
            "peart",
            "rearm",
            "teary",
            "weary",
            "yeard",
            "yearn"
           ]
          ],
          [
           16,
           [
            "abord",
            "abort",
            "adorn",
            "aggro",
            "amort",
            "andro",
            "aport",
            "appro",
            "awork",
            "barro",
            "flora",
            "ixora"
           ]
          ],
          [
           15,
           [
            "acerb",
            "aiery",
            "alert",
            "apert",
            "apery",
            "avert",
            "extra",
            "faery",
            "hejra",
            "lepra",
            "maerl",
            "verra"
           ]
          ],
          [
           15,
           [
            "acros",
            "afros",
            "agros",
            "arson",
            "faros",
            "haros",
            "karos",
            "okras",
            "orcas",
            "proas",
            "ratos",
            "taros"
           ]
          ],
          [
           15,
           [
            "blase",
            "cease",
            "chase",
            "lyase",
            "mease",
            "pease",
            "phase",
            "tease",
            "tsade",
            "ukase",
            "usage",
            "ysame"
           ]
          ],
          [
           15,
           [
            "scorn",
            "shorl",
            "shorn",
            "short",
            "skort",
            "slorm",
            "smorg",
            "sport",
            "stork",
            "storm",
            "sword",
            "sworn"
           ]
          ],
          [
           13,
           [
            "sobas",
            "socas",
            "sodas",
            "sofas",
            "softa",
            "sojas",
            "sokah",
            "solah",
            "solan",
            "solas",
            "somas",
            "soyas"
           ]
          ],
          [
           13,
           [
            "sadhe",
            "saice",
            "saine",
            "salle",
            "salse",
            "salue",
            "salve",
            "sasse",
            "sauce",
            "saute",
            "sayne",
            "setae"
           ]
          ],
          [
           13,
           [
            "ceorl",
            "derro",
            "enorm",
            "fuero",
            "genro",
            "metro",
            "negro",
            "onery",
            "overt",
            "pedro",
            "repro",
            "retro"
           ]
          ],
          [
           13,
           [
            "aloed",
            "aweto",
            "cameo",
            "genoa",
            "laevo",
            "oaked",
            "oaken",
            "oaten",
            "ocean",
            "omega",
            "paedo",
            "paeon"
           ]
          ],
          [
           12,
           [
            "seers",
            "sehri",
            "seirs",
            "serrs",
            "serry",
            "sherd",
            "skers",
            "smerk",
            "sperm",
            "stern",
            "suers",
            "swerf"
           ]
          ],
          [
           12,
           [
            "bears",
            "dears",
            "fears",
            "gears",
            "hears",
            "lears",
            "nears",
            "pears",
            "rears",
            "tears",
            "wears",
            "years"
           ]
          ],
          [
           12,
           [
            "serre",
            "shere",
            "shire",
            "skyre",
            "spire",
            "spyre",
            "stere",
            "stire",
            "sture",
            "styre",
            "sucre",
            "swire"
           ]
          ],
          [
           11,
           [
            "chaos",
            "jiaos",
            "odahs",
            "odals",
            "ofays",
            "ogams",
            "okays",
            "omasa",
            "opahs",
            "opals",
            "ovals"
           ]
          ],
          [
           10,
           [
            "blaer",
            "deair",
            "reach",
            "react",
            "readd",
            "ready",
            "realm",
            "reamy",
            "reata",
            "uraei"
           ]
          ],
          [
           10,
           [
            "cobra",
            "copra",
            "dobra",
            "doura",
            "goura",
            "kokra",
            "koura",
            "moira",
            "morra",
            "mowra"
           ]
          ],
          [
           10,
           [
            "blore",
            "chore",
            "crore",
            "frore",
            "kiore",
            "ochre",
            "ombre",
            "outre",
            "prore",
            "ybore"
           ]
          ],
          [
           10,
           [
            "sohur",
            "sopor",
            "sorbo",
            "sorbs",
            "sordo",
            "sords",
            "sorgo",
            "sorns",
            "sorts",
            "sorus"
           ]
          ],
          [
           9,
           [
            "corse",
            "dorse",
            "gorse",
            "horse",
            "morse",
            "roose",
            "rouse",
            "torse",
            "worse"
           ]
          ],
          [
           9,
           [
            "sabra",
            "sacra",
            "sairs",
            "saury",
            "shura",
            "sirra",
            "supra",
            "surra",
            "sutra"
           ]
          ],
          [
           9,
           [
            "soces",
            "soken",
            "sokes",
            "soled",
            "solei",
            "soles",
            "sones",
            "sooey",
            "sowed"
           ]
          ],
          [
           9,
           [
            "braes",
            "reads",
            "reais",
            "reaks",
            "reals",
            "reams",
            "reans",
            "reaps",
            "reast"
           ]
          ],
          [
           9,
           [
            "sober",
            "soger",
            "soler",
            "sored",
            "sorel",
            "sorer",
            "sores",
            "sorex",
            "sower"
           ]
          ],
          [
           9,
           [
            "boras",
            "dorsa",
            "goras",
            "horas",
            "koras",
            "moras",
            "roosa",
            "rotas",
            "toras"
           ]
          ],
          [
           8,
           [
            "sofar",
            "solar",
            "sonar",
            "soral",
            "soras",
            "sorda",
            "sorta",
            "sowar"
           ]
          ],
          [
           8,
           [
            "arise",
            "carse",
            "farse",
            "marse",
            "parse",
            "raise",
            "rasse",
            "ursae"
           ]
          ],
          [
           8,
           [
            "comae",
            "coxae",
            "novae",
            "potae",
            "togae",
            "volae",
            "zoeae",
            "zonae"
           ]
          ],
          [
           8,
           [
            "seals",
            "seams",
            "seamy",
            "seans",
            "seats",
            "slaes",
            "spaed",
            "spaes"
           ]
          ],
          [
           7,
           [
            "scree",
            "serge",
            "serve",
            "siree",
            "spree",
            "sprue",
            "surge"
           ]
          ],
          [
           7,
           [
            "board",
            "boart",
            "coarb",
            "goary",
            "hoard",
            "hoary",
            "roary"
           ]
          ],
          [
           7,
           [
            "score",
            "shore",
            "smore",
            "snore",
            "spore",
            "store",
            "swore"
           ]
          ],
          [
           7,
           [
            "scare",
            "seare",
            "share",
            "snare",
            "spare",
            "stare",
            "sware"
           ]
          ],
          [
           6,
           [
            "bohea",
            "fovea",
            "hovea",
            "voema",
            "zoeal",
            "zooea"
           ]
          ],
          [
           6,
           [
            "oaker",
            "oared",
            "oater",
            "ocrea",
            "oread",
            "pareo"
           ]
          ],
          [
           6,
           [
            "abers",
            "acers",
            "agers",
            "apers",
            "avers",
            "laers"
           ]
          ],
          [
           6,
           [
            "estro",
            "omers",
            "oners",
            "overs",
            "oxers",
            "oyers"
           ]
          ],
          [
           6,
           [
            "bravo",
            "draco",
            "orach",
            "oracy",
            "orang",
            "orant"
           ]
          ],
          [
           5,
           [
            "coure",
            "howre",
            "loure",
            "moire",
            "powre"
           ]
          ],
          [
           5,
           [
            "aeons",
            "aloes",
            "oases",
            "oaves",
            "paseo"
           ]
          ],
          [
           5,
           [
            "chose",
            "close",
            "obese",
            "those",
            "whose"
           ]
          ],
          [
           5,
           [
            "senor",
            "seron",
            "serow",
            "servo",
            "shoer"
           ]
          ],
          [
           5,
           [
            "sapor",
            "sargo",
            "sarod",
            "saros",
            "savor"
           ]
          ],
          [
           4,
           [
            "coate",
            "loave",
            "poake",
            "toaze"
           ]
          ],
          [
           4,
           [
            "roads",
            "roams",
            "roans",
            "roast"
           ]
          ],
          [
           4,
           [
            "boars",
            "hoars",
            "roars",
            "voars"
           ]
          ],
          [
           4,
           [
            "saree",
            "sarge",
            "scrae",
            "strae"
           ]
          ],
          [
           4,
           [
            "doers",
            "goers",
            "hoers",
            "moers"
           ]
          ],
          [
           3,
           [
            "claro",
            "otary",
            "ovary"
           ]
          ],
          [
           3,
           [
            "flors",
            "khors",
            "odors"
           ]
          ],
          [
           3,
           [
            "abore",
            "adore",
            "afore"
           ]
          ],
          [
           3,
           [
            "soaks",
            "soaps",
            "soapy"
           ]
          ],
          [
           3,
           [
            "orals",
            "praos",
            "uraos"
           ]
          ],
          [
           3,
           [
            "erase",
            "prase",
            "urase"
           ]
          ],
          [
           3,
           [
            "brose",
            "erose",
            "prose"
           ]
          ],
          [
           2,
           [
            "sorry",
            "sours"
           ]
          ],
          [
           2,
           [
            "aspro",
            "psora"
           ]
          ],
          [
           2,
           [
            "sopra",
            "sorra"
           ]
          ],
          [
           2,
           [
            "toeas",
            "zoeas"
           ]
          ],
          [
           2,
           [
            "hoaed",
            "zoaea"
           ]
          ],
          [
           2,
           [
            "scaur",
            "stair"
           ]
          ],
          [
           2,
           [
            "shako",
            "spado"
           ]
          ],
          [
           2,
           [
            "morae",
            "porae"
           ]
          ],
          [
           1,
           [
            "roate"
           ]
          ],
          [
           1,
           [
            "roach"
           ]
          ],
          [
           1,
           [
            "usure"
           ]
          ],
          [
           1,
           [
            "orate"
           ]
          ],
          [
           1,
           [
            "sabre"
           ]
          ],
          [
           1,
           [
            "sears"
           ]
          ],
          [
           1,
           [
            "arose"
           ]
          ],
          [
           1,
           [
            "soree"
           ]
          ],
          [
           1,
           [
            "opera"
           ]
          ],
          [
           1,
           [
            "soars"
           ]
          ],
          [
           1,
           [
            "soave"
           ]
          ],
          [
           1,
           [
            "ovate"
           ]
          ],
          [
           1,
           [
            "beano"
           ]
          ],
          [
           1,
           [
            "stoae"
           ]
          ],
          [
           1,
           [
            "psoae"
           ]
          ],
          [
           1,
           [
            "aeros"
           ]
          ],
          [
           1,
           [
            "spaer"
           ]
          ],
          [
           1,
           [
            "realo"
           ]
          ],
          [
           1,
           [
            "shero"
           ]
          ],
          [
           1,
           [
            "serra"
           ]
          ],
          [
           1,
           [
            "soare"
           ]
          ]
         ],
         "hovertemplate": "pattern=%{x}<br>probability=%{y}<br>n_words_matching=%{customdata[0]}<br>possible_solutions=%{customdata[1]}<extra></extra>",
         "legendgroup": "",
         "marker": {
          "color": "#636efa",
          "pattern": {
           "shape": ""
          }
         },
         "name": "",
         "offsetgroup": "",
         "orientation": "v",
         "showlegend": false,
         "textposition": "auto",
         "type": "bar",
         "x": [
          "00100",
          "10001",
          "00001",
          "10100",
          "00000",
          "10000",
          "00011",
          "12000",
          "02000",
          "00101",
          "00002",
          "00111",
          "01000",
          "00110",
          "20000",
          "10101",
          "20001",
          "10011",
          "01100",
          "10010",
          "02001",
          "00010",
          "11000",
          "00200",
          "10110",
          "00102",
          "20200",
          "10200",
          "01010",
          "21000",
          "12001",
          "02100",
          "02002",
          "00012",
          "01001",
          "20100",
          "00210",
          "12010",
          "02011",
          "02010",
          "11100",
          "01110",
          "00120",
          "20002",
          "00202",
          "10201",
          "20101",
          "10210",
          "11010",
          "01011",
          "01002",
          "10111",
          "11001",
          "22000",
          "00112",
          "20011",
          "02110",
          "00201",
          "10002",
          "00020",
          "00021",
          "00220",
          "12100",
          "00212",
          "20110",
          "10102",
          "20202",
          "01012",
          "10021",
          "02012",
          "12011",
          "20220",
          "12002",
          "12200",
          "02020",
          "01020",
          "20020",
          "00022",
          "20010",
          "21100",
          "10012",
          "00122",
          "01102",
          "10220",
          "11011",
          "21002",
          "20111",
          "12020",
          "10020",
          "10120",
          "02200",
          "01200",
          "00222",
          "21001",
          "21010",
          "22002",
          "00221",
          "01120",
          "00121",
          "11110",
          "10202",
          "21020",
          "22100",
          "20102",
          "01021",
          "01101",
          "20021",
          "10221",
          "20022",
          "11200",
          "00211",
          "02120",
          "01022",
          "22010",
          "12012",
          "20120",
          "22001",
          "10211",
          "22011",
          "12110",
          "22110",
          "10112",
          "02102",
          "20201",
          "20012",
          "02220",
          "21022",
          "20222",
          "02101",
          "01111",
          "10121",
          "11021",
          "01210",
          "02022",
          "11101",
          "11002",
          "21011",
          "21110",
          "02202",
          "12210",
          "12220",
          "20112",
          "12021",
          "01220",
          "11020",
          "01122",
          "22200",
          "11210",
          "10212",
          "11012",
          "22020",
          "11120",
          "22120",
          "12101",
          "02201",
          "20210",
          "21200",
          "02112",
          "02212",
          "02210",
          "10022",
          "01212",
          "20122",
          "20221",
          "11112",
          "22012",
          "01121",
          "22220",
          "22202",
          "01202",
          "01201",
          "21102",
          "11102",
          "11111",
          "20211",
          "01211",
          "21021",
          "20121",
          "22222"
         ],
         "xaxis": "x",
         "y": [
          0.05929128387246198,
          0.049254998841967115,
          0.04678452868061453,
          0.04639851771790319,
          0.044391260711804215,
          0.03890990504130317,
          0.030958079209449547,
          0.030649270439280476,
          0.028487609048096964,
          0.026943565197251603,
          0.023315062147764996,
          0.01984096348336293,
          0.019609356905736123,
          0.01930054813556705,
          0.01752489770709488,
          0.016907280166756737,
          0.01628966262641859,
          0.015286034123369104,
          0.01497722535320003,
          0.01374199027252374,
          0.013664788079981472,
          0.013510383694896934,
          0.013124372732185594,
          0.012969968347101058,
          0.01242955299930518,
          0.01204354203659384,
          0.011966339844051571,
          0.011503126688797962,
          0.011039913533544353,
          0.010885509148459815,
          0.010653902570833011,
          0.010190689415579402,
          0.00988188064541033,
          0.009804678452868061,
          0.009495869682698988,
          0.009187060912529917,
          0.008260634602022697,
          0.007025399521346406,
          0.0067937929437196015,
          0.006176175403381456,
          0.006176175403381456,
          0.006098973210839188,
          0.005712962248127847,
          0.005712962248127847,
          0.005558557863043311,
          0.005404153477958774,
          0.005095344707789701,
          0.005095344707789701,
          0.005095344707789701,
          0.004940940322705165,
          0.0047865359376206285,
          0.0047093337450783606,
          0.004554929359993824,
          0.004400524974909287,
          0.004323322782367019,
          0.004323322782367019,
          0.004168918397282483,
          0.003937311819655678,
          0.003782907434571142,
          0.0035513008569443374,
          0.0033968964718598007,
          0.0033196942793175324,
          0.00301088550914846,
          0.00301088550914846,
          0.00301088550914846,
          0.0027792789315216554,
          0.002702076738979387,
          0.0026248745464371188,
          0.0026248745464371188,
          0.0023932679688103142,
          0.0023932679688103142,
          0.0023932679688103142,
          0.002316065776268046,
          0.002238863583725778,
          0.002238863583725778,
          0.0021616613911835097,
          0.0021616613911835097,
          0.0021616613911835097,
          0.0020844591986412414,
          0.0020844591986412414,
          0.0018528526210144368,
          0.0017756504284721687,
          0.0017756504284721687,
          0.0016984482359299004,
          0.0016984482359299004,
          0.0016212460433876323,
          0.0016212460433876323,
          0.001544043850845364,
          0.001544043850845364,
          0.001544043850845364,
          0.0014668416583030958,
          0.0014668416583030958,
          0.0014668416583030958,
          0.0013896394657608277,
          0.0013896394657608277,
          0.0012352350806762913,
          0.0012352350806762913,
          0.0012352350806762913,
          0.001158032888134023,
          0.001158032888134023,
          0.001158032888134023,
          0.001158032888134023,
          0.0010036285030494865,
          0.0010036285030494865,
          0.0010036285030494865,
          0.0010036285030494865,
          0.0009264263105072184,
          0.0009264263105072184,
          0.0009264263105072184,
          0.0008492241179649502,
          0.000772021925422682,
          0.000772021925422682,
          0.000772021925422682,
          0.000772021925422682,
          0.0006948197328804139,
          0.0006948197328804139,
          0.0006948197328804139,
          0.0006948197328804139,
          0.0006948197328804139,
          0.0006948197328804139,
          0.0006176175403381456,
          0.0006176175403381456,
          0.0006176175403381456,
          0.0006176175403381456,
          0.0005404153477958774,
          0.0005404153477958774,
          0.0005404153477958774,
          0.0005404153477958774,
          0.0004632131552536092,
          0.0004632131552536092,
          0.0004632131552536092,
          0.0004632131552536092,
          0.0004632131552536092,
          0.000386010962711341,
          0.000386010962711341,
          0.000386010962711341,
          0.000386010962711341,
          0.000386010962711341,
          0.0003088087701690728,
          0.0003088087701690728,
          0.0003088087701690728,
          0.0003088087701690728,
          0.0003088087701690728,
          0.0002316065776268046,
          0.0002316065776268046,
          0.0002316065776268046,
          0.0002316065776268046,
          0.0002316065776268046,
          0.0002316065776268046,
          0.0002316065776268046,
          0.0001544043850845364,
          0.0001544043850845364,
          0.0001544043850845364,
          0.0001544043850845364,
          0.0001544043850845364,
          0.0001544043850845364,
          0.0001544043850845364,
          0.0001544043850845364,
          0.0000772021925422682,
          0.0000772021925422682,
          0.0000772021925422682,
          0.0000772021925422682,
          0.0000772021925422682,
          0.0000772021925422682,
          0.0000772021925422682,
          0.0000772021925422682,
          0.0000772021925422682,
          0.0000772021925422682,
          0.0000772021925422682,
          0.0000772021925422682,
          0.0000772021925422682,
          0.0000772021925422682,
          0.0000772021925422682,
          0.0000772021925422682,
          0.0000772021925422682,
          0.0000772021925422682,
          0.0000772021925422682,
          0.0000772021925422682,
          0.0000772021925422682
         ],
         "yaxis": "y"
        }
       ],
       "layout": {
        "barmode": "relative",
        "legend": {
         "tracegroupgap": 0
        },
        "template": {
         "data": {
          "bar": [
           {
            "error_x": {
             "color": "#f2f5fa"
            },
            "error_y": {
             "color": "#f2f5fa"
            },
            "marker": {
             "line": {
              "color": "rgb(17,17,17)",
              "width": 0.5
             },
             "pattern": {
              "fillmode": "overlay",
              "size": 10,
              "solidity": 0.2
             }
            },
            "type": "bar"
           }
          ],
          "barpolar": [
           {
            "marker": {
             "line": {
              "color": "rgb(17,17,17)",
              "width": 0.5
             },
             "pattern": {
              "fillmode": "overlay",
              "size": 10,
              "solidity": 0.2
             }
            },
            "type": "barpolar"
           }
          ],
          "carpet": [
           {
            "aaxis": {
             "endlinecolor": "#A2B1C6",
             "gridcolor": "#506784",
             "linecolor": "#506784",
             "minorgridcolor": "#506784",
             "startlinecolor": "#A2B1C6"
            },
            "baxis": {
             "endlinecolor": "#A2B1C6",
             "gridcolor": "#506784",
             "linecolor": "#506784",
             "minorgridcolor": "#506784",
             "startlinecolor": "#A2B1C6"
            },
            "type": "carpet"
           }
          ],
          "choropleth": [
           {
            "colorbar": {
             "outlinewidth": 0,
             "ticks": ""
            },
            "type": "choropleth"
           }
          ],
          "contour": [
           {
            "colorbar": {
             "outlinewidth": 0,
             "ticks": ""
            },
            "colorscale": [
             [
              0,
              "#0d0887"
             ],
             [
              0.1111111111111111,
              "#46039f"
             ],
             [
              0.2222222222222222,
              "#7201a8"
             ],
             [
              0.3333333333333333,
              "#9c179e"
             ],
             [
              0.4444444444444444,
              "#bd3786"
             ],
             [
              0.5555555555555556,
              "#d8576b"
             ],
             [
              0.6666666666666666,
              "#ed7953"
             ],
             [
              0.7777777777777778,
              "#fb9f3a"
             ],
             [
              0.8888888888888888,
              "#fdca26"
             ],
             [
              1,
              "#f0f921"
             ]
            ],
            "type": "contour"
           }
          ],
          "contourcarpet": [
           {
            "colorbar": {
             "outlinewidth": 0,
             "ticks": ""
            },
            "type": "contourcarpet"
           }
          ],
          "heatmap": [
           {
            "colorbar": {
             "outlinewidth": 0,
             "ticks": ""
            },
            "colorscale": [
             [
              0,
              "#0d0887"
             ],
             [
              0.1111111111111111,
              "#46039f"
             ],
             [
              0.2222222222222222,
              "#7201a8"
             ],
             [
              0.3333333333333333,
              "#9c179e"
             ],
             [
              0.4444444444444444,
              "#bd3786"
             ],
             [
              0.5555555555555556,
              "#d8576b"
             ],
             [
              0.6666666666666666,
              "#ed7953"
             ],
             [
              0.7777777777777778,
              "#fb9f3a"
             ],
             [
              0.8888888888888888,
              "#fdca26"
             ],
             [
              1,
              "#f0f921"
             ]
            ],
            "type": "heatmap"
           }
          ],
          "heatmapgl": [
           {
            "colorbar": {
             "outlinewidth": 0,
             "ticks": ""
            },
            "colorscale": [
             [
              0,
              "#0d0887"
             ],
             [
              0.1111111111111111,
              "#46039f"
             ],
             [
              0.2222222222222222,
              "#7201a8"
             ],
             [
              0.3333333333333333,
              "#9c179e"
             ],
             [
              0.4444444444444444,
              "#bd3786"
             ],
             [
              0.5555555555555556,
              "#d8576b"
             ],
             [
              0.6666666666666666,
              "#ed7953"
             ],
             [
              0.7777777777777778,
              "#fb9f3a"
             ],
             [
              0.8888888888888888,
              "#fdca26"
             ],
             [
              1,
              "#f0f921"
             ]
            ],
            "type": "heatmapgl"
           }
          ],
          "histogram": [
           {
            "marker": {
             "pattern": {
              "fillmode": "overlay",
              "size": 10,
              "solidity": 0.2
             }
            },
            "type": "histogram"
           }
          ],
          "histogram2d": [
           {
            "colorbar": {
             "outlinewidth": 0,
             "ticks": ""
            },
            "colorscale": [
             [
              0,
              "#0d0887"
             ],
             [
              0.1111111111111111,
              "#46039f"
             ],
             [
              0.2222222222222222,
              "#7201a8"
             ],
             [
              0.3333333333333333,
              "#9c179e"
             ],
             [
              0.4444444444444444,
              "#bd3786"
             ],
             [
              0.5555555555555556,
              "#d8576b"
             ],
             [
              0.6666666666666666,
              "#ed7953"
             ],
             [
              0.7777777777777778,
              "#fb9f3a"
             ],
             [
              0.8888888888888888,
              "#fdca26"
             ],
             [
              1,
              "#f0f921"
             ]
            ],
            "type": "histogram2d"
           }
          ],
          "histogram2dcontour": [
           {
            "colorbar": {
             "outlinewidth": 0,
             "ticks": ""
            },
            "colorscale": [
             [
              0,
              "#0d0887"
             ],
             [
              0.1111111111111111,
              "#46039f"
             ],
             [
              0.2222222222222222,
              "#7201a8"
             ],
             [
              0.3333333333333333,
              "#9c179e"
             ],
             [
              0.4444444444444444,
              "#bd3786"
             ],
             [
              0.5555555555555556,
              "#d8576b"
             ],
             [
              0.6666666666666666,
              "#ed7953"
             ],
             [
              0.7777777777777778,
              "#fb9f3a"
             ],
             [
              0.8888888888888888,
              "#fdca26"
             ],
             [
              1,
              "#f0f921"
             ]
            ],
            "type": "histogram2dcontour"
           }
          ],
          "mesh3d": [
           {
            "colorbar": {
             "outlinewidth": 0,
             "ticks": ""
            },
            "type": "mesh3d"
           }
          ],
          "parcoords": [
           {
            "line": {
             "colorbar": {
              "outlinewidth": 0,
              "ticks": ""
             }
            },
            "type": "parcoords"
           }
          ],
          "pie": [
           {
            "automargin": true,
            "type": "pie"
           }
          ],
          "scatter": [
           {
            "marker": {
             "line": {
              "color": "#283442"
             }
            },
            "type": "scatter"
           }
          ],
          "scatter3d": [
           {
            "line": {
             "colorbar": {
              "outlinewidth": 0,
              "ticks": ""
             }
            },
            "marker": {
             "colorbar": {
              "outlinewidth": 0,
              "ticks": ""
             }
            },
            "type": "scatter3d"
           }
          ],
          "scattercarpet": [
           {
            "marker": {
             "colorbar": {
              "outlinewidth": 0,
              "ticks": ""
             }
            },
            "type": "scattercarpet"
           }
          ],
          "scattergeo": [
           {
            "marker": {
             "colorbar": {
              "outlinewidth": 0,
              "ticks": ""
             }
            },
            "type": "scattergeo"
           }
          ],
          "scattergl": [
           {
            "marker": {
             "line": {
              "color": "#283442"
             }
            },
            "type": "scattergl"
           }
          ],
          "scattermapbox": [
           {
            "marker": {
             "colorbar": {
              "outlinewidth": 0,
              "ticks": ""
             }
            },
            "type": "scattermapbox"
           }
          ],
          "scatterpolar": [
           {
            "marker": {
             "colorbar": {
              "outlinewidth": 0,
              "ticks": ""
             }
            },
            "type": "scatterpolar"
           }
          ],
          "scatterpolargl": [
           {
            "marker": {
             "colorbar": {
              "outlinewidth": 0,
              "ticks": ""
             }
            },
            "type": "scatterpolargl"
           }
          ],
          "scatterternary": [
           {
            "marker": {
             "colorbar": {
              "outlinewidth": 0,
              "ticks": ""
             }
            },
            "type": "scatterternary"
           }
          ],
          "surface": [
           {
            "colorbar": {
             "outlinewidth": 0,
             "ticks": ""
            },
            "colorscale": [
             [
              0,
              "#0d0887"
             ],
             [
              0.1111111111111111,
              "#46039f"
             ],
             [
              0.2222222222222222,
              "#7201a8"
             ],
             [
              0.3333333333333333,
              "#9c179e"
             ],
             [
              0.4444444444444444,
              "#bd3786"
             ],
             [
              0.5555555555555556,
              "#d8576b"
             ],
             [
              0.6666666666666666,
              "#ed7953"
             ],
             [
              0.7777777777777778,
              "#fb9f3a"
             ],
             [
              0.8888888888888888,
              "#fdca26"
             ],
             [
              1,
              "#f0f921"
             ]
            ],
            "type": "surface"
           }
          ],
          "table": [
           {
            "cells": {
             "fill": {
              "color": "#506784"
             },
             "line": {
              "color": "rgb(17,17,17)"
             }
            },
            "header": {
             "fill": {
              "color": "#2a3f5f"
             },
             "line": {
              "color": "rgb(17,17,17)"
             }
            },
            "type": "table"
           }
          ]
         },
         "layout": {
          "annotationdefaults": {
           "arrowcolor": "#f2f5fa",
           "arrowhead": 0,
           "arrowwidth": 1
          },
          "autotypenumbers": "strict",
          "coloraxis": {
           "colorbar": {
            "outlinewidth": 0,
            "ticks": ""
           }
          },
          "colorscale": {
           "diverging": [
            [
             0,
             "#8e0152"
            ],
            [
             0.1,
             "#c51b7d"
            ],
            [
             0.2,
             "#de77ae"
            ],
            [
             0.3,
             "#f1b6da"
            ],
            [
             0.4,
             "#fde0ef"
            ],
            [
             0.5,
             "#f7f7f7"
            ],
            [
             0.6,
             "#e6f5d0"
            ],
            [
             0.7,
             "#b8e186"
            ],
            [
             0.8,
             "#7fbc41"
            ],
            [
             0.9,
             "#4d9221"
            ],
            [
             1,
             "#276419"
            ]
           ],
           "sequential": [
            [
             0,
             "#0d0887"
            ],
            [
             0.1111111111111111,
             "#46039f"
            ],
            [
             0.2222222222222222,
             "#7201a8"
            ],
            [
             0.3333333333333333,
             "#9c179e"
            ],
            [
             0.4444444444444444,
             "#bd3786"
            ],
            [
             0.5555555555555556,
             "#d8576b"
            ],
            [
             0.6666666666666666,
             "#ed7953"
            ],
            [
             0.7777777777777778,
             "#fb9f3a"
            ],
            [
             0.8888888888888888,
             "#fdca26"
            ],
            [
             1,
             "#f0f921"
            ]
           ],
           "sequentialminus": [
            [
             0,
             "#0d0887"
            ],
            [
             0.1111111111111111,
             "#46039f"
            ],
            [
             0.2222222222222222,
             "#7201a8"
            ],
            [
             0.3333333333333333,
             "#9c179e"
            ],
            [
             0.4444444444444444,
             "#bd3786"
            ],
            [
             0.5555555555555556,
             "#d8576b"
            ],
            [
             0.6666666666666666,
             "#ed7953"
            ],
            [
             0.7777777777777778,
             "#fb9f3a"
            ],
            [
             0.8888888888888888,
             "#fdca26"
            ],
            [
             1,
             "#f0f921"
            ]
           ]
          },
          "colorway": [
           "#636efa",
           "#EF553B",
           "#00cc96",
           "#ab63fa",
           "#FFA15A",
           "#19d3f3",
           "#FF6692",
           "#B6E880",
           "#FF97FF",
           "#FECB52"
          ],
          "font": {
           "color": "#f2f5fa"
          },
          "geo": {
           "bgcolor": "rgb(17,17,17)",
           "lakecolor": "rgb(17,17,17)",
           "landcolor": "rgb(17,17,17)",
           "showlakes": true,
           "showland": true,
           "subunitcolor": "#506784"
          },
          "hoverlabel": {
           "align": "left"
          },
          "hovermode": "closest",
          "mapbox": {
           "style": "dark"
          },
          "paper_bgcolor": "rgb(17,17,17)",
          "plot_bgcolor": "rgb(17,17,17)",
          "polar": {
           "angularaxis": {
            "gridcolor": "#506784",
            "linecolor": "#506784",
            "ticks": ""
           },
           "bgcolor": "rgb(17,17,17)",
           "radialaxis": {
            "gridcolor": "#506784",
            "linecolor": "#506784",
            "ticks": ""
           }
          },
          "scene": {
           "xaxis": {
            "backgroundcolor": "rgb(17,17,17)",
            "gridcolor": "#506784",
            "gridwidth": 2,
            "linecolor": "#506784",
            "showbackground": true,
            "ticks": "",
            "zerolinecolor": "#C8D4E3"
           },
           "yaxis": {
            "backgroundcolor": "rgb(17,17,17)",
            "gridcolor": "#506784",
            "gridwidth": 2,
            "linecolor": "#506784",
            "showbackground": true,
            "ticks": "",
            "zerolinecolor": "#C8D4E3"
           },
           "zaxis": {
            "backgroundcolor": "rgb(17,17,17)",
            "gridcolor": "#506784",
            "gridwidth": 2,
            "linecolor": "#506784",
            "showbackground": true,
            "ticks": "",
            "zerolinecolor": "#C8D4E3"
           }
          },
          "shapedefaults": {
           "line": {
            "color": "#f2f5fa"
           }
          },
          "sliderdefaults": {
           "bgcolor": "#C8D4E3",
           "bordercolor": "rgb(17,17,17)",
           "borderwidth": 1,
           "tickwidth": 0
          },
          "ternary": {
           "aaxis": {
            "gridcolor": "#506784",
            "linecolor": "#506784",
            "ticks": ""
           },
           "baxis": {
            "gridcolor": "#506784",
            "linecolor": "#506784",
            "ticks": ""
           },
           "bgcolor": "rgb(17,17,17)",
           "caxis": {
            "gridcolor": "#506784",
            "linecolor": "#506784",
            "ticks": ""
           }
          },
          "title": {
           "x": 0.05
          },
          "updatemenudefaults": {
           "bgcolor": "#506784",
           "borderwidth": 0
          },
          "xaxis": {
           "automargin": true,
           "gridcolor": "#283442",
           "linecolor": "#506784",
           "ticks": "",
           "title": {
            "standoff": 15
           },
           "zerolinecolor": "#283442",
           "zerolinewidth": 2
          },
          "yaxis": {
           "automargin": true,
           "gridcolor": "#283442",
           "linecolor": "#506784",
           "ticks": "",
           "title": {
            "standoff": 15
           },
           "zerolinecolor": "#283442",
           "zerolinewidth": 2
          }
         }
        },
        "title": {
         "text": "\n        Wordle outcome distribution with starting guess `soare`\n<br>prior entropy:       13.66\n<br>candidate expected information gain:  6.06"
        },
        "xaxis": {
         "anchor": "y",
         "domain": [
          0,
          1
         ],
         "title": {
          "text": "pattern"
         }
        },
        "yaxis": {
         "anchor": "x",
         "domain": [
          0,
          1
         ],
         "title": {
          "text": "probability"
         }
        }
       }
      }
     },
     "metadata": {},
     "output_type": "display_data"
    }
   ],
   "source": [
    "wd.display.plot_distrib(\"soare\", psm)"
   ]
  },
  {
   "attachments": {},
   "cell_type": "markdown",
   "metadata": {},
   "source": [
    "Comments: no outcome is more than 8% likely to happen.\n",
    "## worst starting guesses"
   ]
  },
  {
   "cell_type": "code",
   "execution_count": 15,
   "metadata": {},
   "outputs": [
    {
     "data": {
      "text/plain": [
       "yukky    2.205343\n",
       "xylyl    2.189638\n",
       "immix    2.055325\n",
       "jujus    2.039470\n",
       "qajaq    1.890193\n",
       "dtype: float64"
      ]
     },
     "execution_count": 15,
     "metadata": {},
     "output_type": "execute_result"
    }
   ],
   "source": [
    "wd.player.get_all_candidate_entropies(psm_v2).tail(5)"
   ]
  },
  {
   "cell_type": "code",
   "execution_count": 124,
   "metadata": {},
   "outputs": [
    {
     "data": {
      "application/vnd.plotly.v1+json": {
       "config": {
        "plotlyServerURL": "https://plot.ly"
       },
       "data": [
        {
         "alignmentgroup": "True",
         "customdata": [
          [
           1364,
           [
            "awash",
            "below",
            "drown",
            "harem",
            "other",
            "peril",
            "rabid",
            "refer",
            "score",
            "since",
            "topaz",
            "trove"
           ]
          ],
          [
           268,
           [
            "angry",
            "array",
            "epoxy",
            "fanny",
            "foamy",
            "lorry",
            "mammy",
            "reply",
            "rowdy",
            "sissy",
            "story",
            "tipsy"
           ]
          ],
          [
           239,
           [
            "album",
            "brute",
            "gruff",
            "input",
            "occur",
            "opium",
            "prude",
            "route",
            "thrum",
            "truce",
            "uncle",
            "utile"
           ]
          ],
          [
           121,
           [
            "bugle",
            "built",
            "burst",
            "curse",
            "fugue",
            "humph",
            "purse",
            "qualm",
            "suave",
            "suing",
            "tulip",
            "turbo"
           ]
          ],
          [
           107,
           [
            "brick",
            "chick",
            "clank",
            "crook",
            "knelt",
            "knife",
            "known",
            "plank",
            "skier",
            "sleek",
            "slick",
            "tweak"
           ]
          ],
          [
           48,
           [
            "buddy",
            "buggy",
            "curry",
            "duchy",
            "juicy",
            "jumpy",
            "muddy",
            "puffy",
            "pushy",
            "ruddy",
            "rusty",
            "sully"
           ]
          ],
          [
           42,
           [
            "cyber",
            "dying",
            "eying",
            "gayer",
            "glyph",
            "hydro",
            "layer",
            "nymph",
            "rhyme",
            "style",
            "tryst",
            "tying"
           ]
          ],
          [
           21,
           [
            "awoke",
            "brake",
            "broke",
            "choke",
            "evoke",
            "parka",
            "shake",
            "smoke",
            "snake",
            "spoke",
            "stoke",
            "vodka"
           ]
          ],
          [
           20,
           [
            "flaky",
            "jerky",
            "lanky",
            "leaky",
            "milky",
            "perky",
            "pesky",
            "picky",
            "pinky",
            "risky",
            "shaky",
            "silky"
           ]
          ],
          [
           17,
           [
            "chunk",
            "cluck",
            "drunk",
            "pluck",
            "plunk",
            "shuck",
            "skull",
            "slunk",
            "snuck",
            "spunk",
            "stuck",
            "trunk"
           ]
          ],
          [
           12,
           [
            "ankle",
            "askew",
            "baker",
            "joker",
            "liken",
            "maker",
            "oaken",
            "poker",
            "taken",
            "taker",
            "token",
            "woken"
           ]
          ],
          [
           10,
           [
            "bulky",
            "dusky",
            "funky",
            "hunky",
            "husky",
            "lucky",
            "mucky",
            "murky",
            "musky",
            "sulky"
           ]
          ],
          [
           8,
           [
            "coyly",
            "dryly",
            "gayly",
            "gypsy",
            "pygmy",
            "shyly",
            "slyly",
            "wryly"
           ]
          ],
          [
           8,
           [
            "gaudy",
            "lousy",
            "pouty",
            "saucy",
            "study",
            "truly",
            "unify",
            "unity"
           ]
          ],
          [
           4,
           [
            "yacht",
            "yearn",
            "yeast",
            "yield"
           ]
          ],
          [
           4,
           [
            "quack",
            "quark",
            "quick",
            "quirk"
           ]
          ],
          [
           3,
           [
            "kiosk",
            "knack",
            "knock"
           ]
          ],
          [
           2,
           [
            "skulk",
            "skunk"
           ]
          ],
          [
           2,
           [
            "young",
            "youth"
           ]
          ],
          [
           2,
           [
            "bayou",
            "syrup"
           ]
          ],
          [
           1,
           [
            "kitty"
           ]
          ],
          [
           1,
           [
            "kayak"
           ]
          ],
          [
           1,
           [
            "khaki"
           ]
          ],
          [
           1,
           [
            "quake"
           ]
          ],
          [
           1,
           [
            "fluke"
           ]
          ],
          [
           1,
           [
            "buyer"
           ]
          ],
          [
           1,
           [
            "kinky"
           ]
          ]
         ],
         "hovertemplate": "pattern=%{x}<br>probability=%{y}<br>n_words_matching=%{customdata[0]}<br>possible_solutions=%{customdata[1]}<extra></extra>",
         "legendgroup": "",
         "marker": {
          "color": "#636efa",
          "pattern": {
           "shape": ""
          }
         },
         "name": "",
         "offsetgroup": "",
         "orientation": "v",
         "showlegend": false,
         "textposition": "auto",
         "type": "bar",
         "x": [
          "0",
          "20000",
          "00010",
          "00020",
          "00100",
          "20020",
          "00001",
          "02000",
          "22000",
          "00110",
          "00200",
          "22020",
          "20001",
          "20010",
          "00002",
          "00120",
          "01100",
          "01110",
          "00012",
          "00011",
          "20100",
          "01101",
          "02100",
          "02020",
          "02010",
          "00021",
          "22100"
         ],
         "xaxis": "x",
         "y": [
          0.5907319185794716,
          0.11606756171502815,
          0.10350801212646167,
          0.052403637938501516,
          0.04634040710264184,
          0.02078822000866176,
          0.018189692507579038,
          0.009094846253789519,
          0.0086617583369424,
          0.0073624945864010395,
          0.00519705500216544,
          0.0043308791684712,
          0.0034647033347769596,
          0.0034647033347769596,
          0.0017323516673884798,
          0.0017323516673884798,
          0.00129926375054136,
          0.0008661758336942399,
          0.0008661758336942399,
          0.0008661758336942399,
          0.00043308791684711995,
          0.00043308791684711995,
          0.00043308791684711995,
          0.00043308791684711995,
          0.00043308791684711995,
          0.00043308791684711995,
          0.00043308791684711995
         ],
         "yaxis": "y"
        }
       ],
       "layout": {
        "barmode": "relative",
        "legend": {
         "tracegroupgap": 0
        },
        "template": {
         "data": {
          "bar": [
           {
            "error_x": {
             "color": "#f2f5fa"
            },
            "error_y": {
             "color": "#f2f5fa"
            },
            "marker": {
             "line": {
              "color": "rgb(17,17,17)",
              "width": 0.5
             },
             "pattern": {
              "fillmode": "overlay",
              "size": 10,
              "solidity": 0.2
             }
            },
            "type": "bar"
           }
          ],
          "barpolar": [
           {
            "marker": {
             "line": {
              "color": "rgb(17,17,17)",
              "width": 0.5
             },
             "pattern": {
              "fillmode": "overlay",
              "size": 10,
              "solidity": 0.2
             }
            },
            "type": "barpolar"
           }
          ],
          "carpet": [
           {
            "aaxis": {
             "endlinecolor": "#A2B1C6",
             "gridcolor": "#506784",
             "linecolor": "#506784",
             "minorgridcolor": "#506784",
             "startlinecolor": "#A2B1C6"
            },
            "baxis": {
             "endlinecolor": "#A2B1C6",
             "gridcolor": "#506784",
             "linecolor": "#506784",
             "minorgridcolor": "#506784",
             "startlinecolor": "#A2B1C6"
            },
            "type": "carpet"
           }
          ],
          "choropleth": [
           {
            "colorbar": {
             "outlinewidth": 0,
             "ticks": ""
            },
            "type": "choropleth"
           }
          ],
          "contour": [
           {
            "colorbar": {
             "outlinewidth": 0,
             "ticks": ""
            },
            "colorscale": [
             [
              0,
              "#0d0887"
             ],
             [
              0.1111111111111111,
              "#46039f"
             ],
             [
              0.2222222222222222,
              "#7201a8"
             ],
             [
              0.3333333333333333,
              "#9c179e"
             ],
             [
              0.4444444444444444,
              "#bd3786"
             ],
             [
              0.5555555555555556,
              "#d8576b"
             ],
             [
              0.6666666666666666,
              "#ed7953"
             ],
             [
              0.7777777777777778,
              "#fb9f3a"
             ],
             [
              0.8888888888888888,
              "#fdca26"
             ],
             [
              1,
              "#f0f921"
             ]
            ],
            "type": "contour"
           }
          ],
          "contourcarpet": [
           {
            "colorbar": {
             "outlinewidth": 0,
             "ticks": ""
            },
            "type": "contourcarpet"
           }
          ],
          "heatmap": [
           {
            "colorbar": {
             "outlinewidth": 0,
             "ticks": ""
            },
            "colorscale": [
             [
              0,
              "#0d0887"
             ],
             [
              0.1111111111111111,
              "#46039f"
             ],
             [
              0.2222222222222222,
              "#7201a8"
             ],
             [
              0.3333333333333333,
              "#9c179e"
             ],
             [
              0.4444444444444444,
              "#bd3786"
             ],
             [
              0.5555555555555556,
              "#d8576b"
             ],
             [
              0.6666666666666666,
              "#ed7953"
             ],
             [
              0.7777777777777778,
              "#fb9f3a"
             ],
             [
              0.8888888888888888,
              "#fdca26"
             ],
             [
              1,
              "#f0f921"
             ]
            ],
            "type": "heatmap"
           }
          ],
          "heatmapgl": [
           {
            "colorbar": {
             "outlinewidth": 0,
             "ticks": ""
            },
            "colorscale": [
             [
              0,
              "#0d0887"
             ],
             [
              0.1111111111111111,
              "#46039f"
             ],
             [
              0.2222222222222222,
              "#7201a8"
             ],
             [
              0.3333333333333333,
              "#9c179e"
             ],
             [
              0.4444444444444444,
              "#bd3786"
             ],
             [
              0.5555555555555556,
              "#d8576b"
             ],
             [
              0.6666666666666666,
              "#ed7953"
             ],
             [
              0.7777777777777778,
              "#fb9f3a"
             ],
             [
              0.8888888888888888,
              "#fdca26"
             ],
             [
              1,
              "#f0f921"
             ]
            ],
            "type": "heatmapgl"
           }
          ],
          "histogram": [
           {
            "marker": {
             "pattern": {
              "fillmode": "overlay",
              "size": 10,
              "solidity": 0.2
             }
            },
            "type": "histogram"
           }
          ],
          "histogram2d": [
           {
            "colorbar": {
             "outlinewidth": 0,
             "ticks": ""
            },
            "colorscale": [
             [
              0,
              "#0d0887"
             ],
             [
              0.1111111111111111,
              "#46039f"
             ],
             [
              0.2222222222222222,
              "#7201a8"
             ],
             [
              0.3333333333333333,
              "#9c179e"
             ],
             [
              0.4444444444444444,
              "#bd3786"
             ],
             [
              0.5555555555555556,
              "#d8576b"
             ],
             [
              0.6666666666666666,
              "#ed7953"
             ],
             [
              0.7777777777777778,
              "#fb9f3a"
             ],
             [
              0.8888888888888888,
              "#fdca26"
             ],
             [
              1,
              "#f0f921"
             ]
            ],
            "type": "histogram2d"
           }
          ],
          "histogram2dcontour": [
           {
            "colorbar": {
             "outlinewidth": 0,
             "ticks": ""
            },
            "colorscale": [
             [
              0,
              "#0d0887"
             ],
             [
              0.1111111111111111,
              "#46039f"
             ],
             [
              0.2222222222222222,
              "#7201a8"
             ],
             [
              0.3333333333333333,
              "#9c179e"
             ],
             [
              0.4444444444444444,
              "#bd3786"
             ],
             [
              0.5555555555555556,
              "#d8576b"
             ],
             [
              0.6666666666666666,
              "#ed7953"
             ],
             [
              0.7777777777777778,
              "#fb9f3a"
             ],
             [
              0.8888888888888888,
              "#fdca26"
             ],
             [
              1,
              "#f0f921"
             ]
            ],
            "type": "histogram2dcontour"
           }
          ],
          "mesh3d": [
           {
            "colorbar": {
             "outlinewidth": 0,
             "ticks": ""
            },
            "type": "mesh3d"
           }
          ],
          "parcoords": [
           {
            "line": {
             "colorbar": {
              "outlinewidth": 0,
              "ticks": ""
             }
            },
            "type": "parcoords"
           }
          ],
          "pie": [
           {
            "automargin": true,
            "type": "pie"
           }
          ],
          "scatter": [
           {
            "marker": {
             "line": {
              "color": "#283442"
             }
            },
            "type": "scatter"
           }
          ],
          "scatter3d": [
           {
            "line": {
             "colorbar": {
              "outlinewidth": 0,
              "ticks": ""
             }
            },
            "marker": {
             "colorbar": {
              "outlinewidth": 0,
              "ticks": ""
             }
            },
            "type": "scatter3d"
           }
          ],
          "scattercarpet": [
           {
            "marker": {
             "colorbar": {
              "outlinewidth": 0,
              "ticks": ""
             }
            },
            "type": "scattercarpet"
           }
          ],
          "scattergeo": [
           {
            "marker": {
             "colorbar": {
              "outlinewidth": 0,
              "ticks": ""
             }
            },
            "type": "scattergeo"
           }
          ],
          "scattergl": [
           {
            "marker": {
             "line": {
              "color": "#283442"
             }
            },
            "type": "scattergl"
           }
          ],
          "scattermapbox": [
           {
            "marker": {
             "colorbar": {
              "outlinewidth": 0,
              "ticks": ""
             }
            },
            "type": "scattermapbox"
           }
          ],
          "scatterpolar": [
           {
            "marker": {
             "colorbar": {
              "outlinewidth": 0,
              "ticks": ""
             }
            },
            "type": "scatterpolar"
           }
          ],
          "scatterpolargl": [
           {
            "marker": {
             "colorbar": {
              "outlinewidth": 0,
              "ticks": ""
             }
            },
            "type": "scatterpolargl"
           }
          ],
          "scatterternary": [
           {
            "marker": {
             "colorbar": {
              "outlinewidth": 0,
              "ticks": ""
             }
            },
            "type": "scatterternary"
           }
          ],
          "surface": [
           {
            "colorbar": {
             "outlinewidth": 0,
             "ticks": ""
            },
            "colorscale": [
             [
              0,
              "#0d0887"
             ],
             [
              0.1111111111111111,
              "#46039f"
             ],
             [
              0.2222222222222222,
              "#7201a8"
             ],
             [
              0.3333333333333333,
              "#9c179e"
             ],
             [
              0.4444444444444444,
              "#bd3786"
             ],
             [
              0.5555555555555556,
              "#d8576b"
             ],
             [
              0.6666666666666666,
              "#ed7953"
             ],
             [
              0.7777777777777778,
              "#fb9f3a"
             ],
             [
              0.8888888888888888,
              "#fdca26"
             ],
             [
              1,
              "#f0f921"
             ]
            ],
            "type": "surface"
           }
          ],
          "table": [
           {
            "cells": {
             "fill": {
              "color": "#506784"
             },
             "line": {
              "color": "rgb(17,17,17)"
             }
            },
            "header": {
             "fill": {
              "color": "#2a3f5f"
             },
             "line": {
              "color": "rgb(17,17,17)"
             }
            },
            "type": "table"
           }
          ]
         },
         "layout": {
          "annotationdefaults": {
           "arrowcolor": "#f2f5fa",
           "arrowhead": 0,
           "arrowwidth": 1
          },
          "autotypenumbers": "strict",
          "coloraxis": {
           "colorbar": {
            "outlinewidth": 0,
            "ticks": ""
           }
          },
          "colorscale": {
           "diverging": [
            [
             0,
             "#8e0152"
            ],
            [
             0.1,
             "#c51b7d"
            ],
            [
             0.2,
             "#de77ae"
            ],
            [
             0.3,
             "#f1b6da"
            ],
            [
             0.4,
             "#fde0ef"
            ],
            [
             0.5,
             "#f7f7f7"
            ],
            [
             0.6,
             "#e6f5d0"
            ],
            [
             0.7,
             "#b8e186"
            ],
            [
             0.8,
             "#7fbc41"
            ],
            [
             0.9,
             "#4d9221"
            ],
            [
             1,
             "#276419"
            ]
           ],
           "sequential": [
            [
             0,
             "#0d0887"
            ],
            [
             0.1111111111111111,
             "#46039f"
            ],
            [
             0.2222222222222222,
             "#7201a8"
            ],
            [
             0.3333333333333333,
             "#9c179e"
            ],
            [
             0.4444444444444444,
             "#bd3786"
            ],
            [
             0.5555555555555556,
             "#d8576b"
            ],
            [
             0.6666666666666666,
             "#ed7953"
            ],
            [
             0.7777777777777778,
             "#fb9f3a"
            ],
            [
             0.8888888888888888,
             "#fdca26"
            ],
            [
             1,
             "#f0f921"
            ]
           ],
           "sequentialminus": [
            [
             0,
             "#0d0887"
            ],
            [
             0.1111111111111111,
             "#46039f"
            ],
            [
             0.2222222222222222,
             "#7201a8"
            ],
            [
             0.3333333333333333,
             "#9c179e"
            ],
            [
             0.4444444444444444,
             "#bd3786"
            ],
            [
             0.5555555555555556,
             "#d8576b"
            ],
            [
             0.6666666666666666,
             "#ed7953"
            ],
            [
             0.7777777777777778,
             "#fb9f3a"
            ],
            [
             0.8888888888888888,
             "#fdca26"
            ],
            [
             1,
             "#f0f921"
            ]
           ]
          },
          "colorway": [
           "#636efa",
           "#EF553B",
           "#00cc96",
           "#ab63fa",
           "#FFA15A",
           "#19d3f3",
           "#FF6692",
           "#B6E880",
           "#FF97FF",
           "#FECB52"
          ],
          "font": {
           "color": "#f2f5fa"
          },
          "geo": {
           "bgcolor": "rgb(17,17,17)",
           "lakecolor": "rgb(17,17,17)",
           "landcolor": "rgb(17,17,17)",
           "showlakes": true,
           "showland": true,
           "subunitcolor": "#506784"
          },
          "hoverlabel": {
           "align": "left"
          },
          "hovermode": "closest",
          "mapbox": {
           "style": "dark"
          },
          "paper_bgcolor": "rgb(17,17,17)",
          "plot_bgcolor": "rgb(17,17,17)",
          "polar": {
           "angularaxis": {
            "gridcolor": "#506784",
            "linecolor": "#506784",
            "ticks": ""
           },
           "bgcolor": "rgb(17,17,17)",
           "radialaxis": {
            "gridcolor": "#506784",
            "linecolor": "#506784",
            "ticks": ""
           }
          },
          "scene": {
           "xaxis": {
            "backgroundcolor": "rgb(17,17,17)",
            "gridcolor": "#506784",
            "gridwidth": 2,
            "linecolor": "#506784",
            "showbackground": true,
            "ticks": "",
            "zerolinecolor": "#C8D4E3"
           },
           "yaxis": {
            "backgroundcolor": "rgb(17,17,17)",
            "gridcolor": "#506784",
            "gridwidth": 2,
            "linecolor": "#506784",
            "showbackground": true,
            "ticks": "",
            "zerolinecolor": "#C8D4E3"
           },
           "zaxis": {
            "backgroundcolor": "rgb(17,17,17)",
            "gridcolor": "#506784",
            "gridwidth": 2,
            "linecolor": "#506784",
            "showbackground": true,
            "ticks": "",
            "zerolinecolor": "#C8D4E3"
           }
          },
          "shapedefaults": {
           "line": {
            "color": "#f2f5fa"
           }
          },
          "sliderdefaults": {
           "bgcolor": "#C8D4E3",
           "bordercolor": "rgb(17,17,17)",
           "borderwidth": 1,
           "tickwidth": 0
          },
          "ternary": {
           "aaxis": {
            "gridcolor": "#506784",
            "linecolor": "#506784",
            "ticks": ""
           },
           "baxis": {
            "gridcolor": "#506784",
            "linecolor": "#506784",
            "ticks": ""
           },
           "bgcolor": "rgb(17,17,17)",
           "caxis": {
            "gridcolor": "#506784",
            "linecolor": "#506784",
            "ticks": ""
           }
          },
          "title": {
           "x": 0.05
          },
          "updatemenudefaults": {
           "bgcolor": "#506784",
           "borderwidth": 0
          },
          "xaxis": {
           "automargin": true,
           "gridcolor": "#283442",
           "linecolor": "#506784",
           "ticks": "",
           "title": {
            "standoff": 15
           },
           "zerolinecolor": "#283442",
           "zerolinewidth": 2
          },
          "yaxis": {
           "automargin": true,
           "gridcolor": "#283442",
           "linecolor": "#506784",
           "ticks": "",
           "title": {
            "standoff": 15
           },
           "zerolinecolor": "#283442",
           "zerolinewidth": 2
          }
         }
        },
        "title": {
         "text": "\n        Wordle outcome distribution with starting guess `yukky`\n<br>prior entropy:       11.17\n<br>candidate expected information gain:  2.21"
        },
        "xaxis": {
         "anchor": "y",
         "domain": [
          0,
          1
         ],
         "title": {
          "text": "pattern"
         }
        },
        "yaxis": {
         "anchor": "x",
         "domain": [
          0,
          1
         ],
         "title": {
          "text": "probability"
         }
        }
       }
      }
     },
     "metadata": {},
     "output_type": "display_data"
    }
   ],
   "source": [
    "wd.display.plot_distrib(\"yukky\", psm)"
   ]
  },
  {
   "attachments": {},
   "cell_type": "markdown",
   "metadata": {},
   "source": [
    "**Comments**: the distribution is very unbalanced with almost 60% chance to get zero letters matching and the two next outcomes being matched by over 10% of the possible solutions.\n",
    "\n",
    "# Evaluation\n",
    "* **goal**: maximize average score"
   ]
  },
  {
   "cell_type": "code",
   "execution_count": 3,
   "metadata": {},
   "outputs": [],
   "source": [
    "def run_eval(config) -> tuple[wd.eval.EvalResults, go.Figure]:\n",
    "\n",
    "    wd.player.get_all_candidate_entropies.cache_clear()\n",
    "    eval_words_list = wd.load.load_words_as_list(config[\"path_to_eval_words_list\"])\n",
    "    \n",
    "    results = wd.eval.eval_player(\n",
    "        eval_words_list, \n",
    "        config[\"player\"], \n",
    "        pool_size=1)\n",
    "\n",
    "    # save results\n",
    "    results.to_json(config[\"path_to_json_output\"])\n",
    "    print(f\"results saved in `{config['path_to_json_output']}`\")\n",
    "\n",
    "    fig = results.barplot(title=config[\"fig_title\"])\n",
    "    fig.write_image(config[\"fig_name\"])\n",
    "\n",
    "    return results, fig"
   ]
  },
  {
   "attachments": {},
   "cell_type": "markdown",
   "metadata": {},
   "source": [
    "## Evaluating v1\n",
    "* no prior knowledge of exact list of possible solutions"
   ]
  },
  {
   "cell_type": "code",
   "execution_count": 47,
   "metadata": {},
   "outputs": [
    {
     "name": "stdout",
     "output_type": "stream",
     "text": [
      "EvalResults(size=2,309, avg_score=2.99, dist=[   0   22  414 1443  425    5    0], success_rate=100.0%)\n",
      "results saved in `../data/outputs/eval_results_v1.json`\n"
     ]
    },
    {
     "data": {
      "application/vnd.plotly.v1+json": {
       "config": {
        "plotlyServerURL": "https://plot.ly"
       },
       "data": [
        {
         "alignmentgroup": "True",
         "hovertemplate": "game score (points)=%{x}<br>number of evaluated games=%{y}<extra></extra>",
         "legendgroup": "",
         "marker": {
          "color": "#636efa",
          "pattern": {
           "shape": ""
          }
         },
         "name": "",
         "offsetgroup": "",
         "orientation": "v",
         "showlegend": false,
         "textposition": "auto",
         "type": "bar",
         "x": [
          0,
          1,
          2,
          3,
          4,
          5,
          6
         ],
         "xaxis": "x",
         "y": [
          0,
          22,
          414,
          1443,
          425,
          5,
          0
         ],
         "yaxis": "y"
        }
       ],
       "layout": {
        "barmode": "relative",
        "legend": {
         "tracegroupgap": 0
        },
        "template": {
         "data": {
          "bar": [
           {
            "error_x": {
             "color": "#f2f5fa"
            },
            "error_y": {
             "color": "#f2f5fa"
            },
            "marker": {
             "line": {
              "color": "rgb(17,17,17)",
              "width": 0.5
             },
             "pattern": {
              "fillmode": "overlay",
              "size": 10,
              "solidity": 0.2
             }
            },
            "type": "bar"
           }
          ],
          "barpolar": [
           {
            "marker": {
             "line": {
              "color": "rgb(17,17,17)",
              "width": 0.5
             },
             "pattern": {
              "fillmode": "overlay",
              "size": 10,
              "solidity": 0.2
             }
            },
            "type": "barpolar"
           }
          ],
          "carpet": [
           {
            "aaxis": {
             "endlinecolor": "#A2B1C6",
             "gridcolor": "#506784",
             "linecolor": "#506784",
             "minorgridcolor": "#506784",
             "startlinecolor": "#A2B1C6"
            },
            "baxis": {
             "endlinecolor": "#A2B1C6",
             "gridcolor": "#506784",
             "linecolor": "#506784",
             "minorgridcolor": "#506784",
             "startlinecolor": "#A2B1C6"
            },
            "type": "carpet"
           }
          ],
          "choropleth": [
           {
            "colorbar": {
             "outlinewidth": 0,
             "ticks": ""
            },
            "type": "choropleth"
           }
          ],
          "contour": [
           {
            "colorbar": {
             "outlinewidth": 0,
             "ticks": ""
            },
            "colorscale": [
             [
              0,
              "#0d0887"
             ],
             [
              0.1111111111111111,
              "#46039f"
             ],
             [
              0.2222222222222222,
              "#7201a8"
             ],
             [
              0.3333333333333333,
              "#9c179e"
             ],
             [
              0.4444444444444444,
              "#bd3786"
             ],
             [
              0.5555555555555556,
              "#d8576b"
             ],
             [
              0.6666666666666666,
              "#ed7953"
             ],
             [
              0.7777777777777778,
              "#fb9f3a"
             ],
             [
              0.8888888888888888,
              "#fdca26"
             ],
             [
              1,
              "#f0f921"
             ]
            ],
            "type": "contour"
           }
          ],
          "contourcarpet": [
           {
            "colorbar": {
             "outlinewidth": 0,
             "ticks": ""
            },
            "type": "contourcarpet"
           }
          ],
          "heatmap": [
           {
            "colorbar": {
             "outlinewidth": 0,
             "ticks": ""
            },
            "colorscale": [
             [
              0,
              "#0d0887"
             ],
             [
              0.1111111111111111,
              "#46039f"
             ],
             [
              0.2222222222222222,
              "#7201a8"
             ],
             [
              0.3333333333333333,
              "#9c179e"
             ],
             [
              0.4444444444444444,
              "#bd3786"
             ],
             [
              0.5555555555555556,
              "#d8576b"
             ],
             [
              0.6666666666666666,
              "#ed7953"
             ],
             [
              0.7777777777777778,
              "#fb9f3a"
             ],
             [
              0.8888888888888888,
              "#fdca26"
             ],
             [
              1,
              "#f0f921"
             ]
            ],
            "type": "heatmap"
           }
          ],
          "heatmapgl": [
           {
            "colorbar": {
             "outlinewidth": 0,
             "ticks": ""
            },
            "colorscale": [
             [
              0,
              "#0d0887"
             ],
             [
              0.1111111111111111,
              "#46039f"
             ],
             [
              0.2222222222222222,
              "#7201a8"
             ],
             [
              0.3333333333333333,
              "#9c179e"
             ],
             [
              0.4444444444444444,
              "#bd3786"
             ],
             [
              0.5555555555555556,
              "#d8576b"
             ],
             [
              0.6666666666666666,
              "#ed7953"
             ],
             [
              0.7777777777777778,
              "#fb9f3a"
             ],
             [
              0.8888888888888888,
              "#fdca26"
             ],
             [
              1,
              "#f0f921"
             ]
            ],
            "type": "heatmapgl"
           }
          ],
          "histogram": [
           {
            "marker": {
             "pattern": {
              "fillmode": "overlay",
              "size": 10,
              "solidity": 0.2
             }
            },
            "type": "histogram"
           }
          ],
          "histogram2d": [
           {
            "colorbar": {
             "outlinewidth": 0,
             "ticks": ""
            },
            "colorscale": [
             [
              0,
              "#0d0887"
             ],
             [
              0.1111111111111111,
              "#46039f"
             ],
             [
              0.2222222222222222,
              "#7201a8"
             ],
             [
              0.3333333333333333,
              "#9c179e"
             ],
             [
              0.4444444444444444,
              "#bd3786"
             ],
             [
              0.5555555555555556,
              "#d8576b"
             ],
             [
              0.6666666666666666,
              "#ed7953"
             ],
             [
              0.7777777777777778,
              "#fb9f3a"
             ],
             [
              0.8888888888888888,
              "#fdca26"
             ],
             [
              1,
              "#f0f921"
             ]
            ],
            "type": "histogram2d"
           }
          ],
          "histogram2dcontour": [
           {
            "colorbar": {
             "outlinewidth": 0,
             "ticks": ""
            },
            "colorscale": [
             [
              0,
              "#0d0887"
             ],
             [
              0.1111111111111111,
              "#46039f"
             ],
             [
              0.2222222222222222,
              "#7201a8"
             ],
             [
              0.3333333333333333,
              "#9c179e"
             ],
             [
              0.4444444444444444,
              "#bd3786"
             ],
             [
              0.5555555555555556,
              "#d8576b"
             ],
             [
              0.6666666666666666,
              "#ed7953"
             ],
             [
              0.7777777777777778,
              "#fb9f3a"
             ],
             [
              0.8888888888888888,
              "#fdca26"
             ],
             [
              1,
              "#f0f921"
             ]
            ],
            "type": "histogram2dcontour"
           }
          ],
          "mesh3d": [
           {
            "colorbar": {
             "outlinewidth": 0,
             "ticks": ""
            },
            "type": "mesh3d"
           }
          ],
          "parcoords": [
           {
            "line": {
             "colorbar": {
              "outlinewidth": 0,
              "ticks": ""
             }
            },
            "type": "parcoords"
           }
          ],
          "pie": [
           {
            "automargin": true,
            "type": "pie"
           }
          ],
          "scatter": [
           {
            "marker": {
             "line": {
              "color": "#283442"
             }
            },
            "type": "scatter"
           }
          ],
          "scatter3d": [
           {
            "line": {
             "colorbar": {
              "outlinewidth": 0,
              "ticks": ""
             }
            },
            "marker": {
             "colorbar": {
              "outlinewidth": 0,
              "ticks": ""
             }
            },
            "type": "scatter3d"
           }
          ],
          "scattercarpet": [
           {
            "marker": {
             "colorbar": {
              "outlinewidth": 0,
              "ticks": ""
             }
            },
            "type": "scattercarpet"
           }
          ],
          "scattergeo": [
           {
            "marker": {
             "colorbar": {
              "outlinewidth": 0,
              "ticks": ""
             }
            },
            "type": "scattergeo"
           }
          ],
          "scattergl": [
           {
            "marker": {
             "line": {
              "color": "#283442"
             }
            },
            "type": "scattergl"
           }
          ],
          "scattermapbox": [
           {
            "marker": {
             "colorbar": {
              "outlinewidth": 0,
              "ticks": ""
             }
            },
            "type": "scattermapbox"
           }
          ],
          "scatterpolar": [
           {
            "marker": {
             "colorbar": {
              "outlinewidth": 0,
              "ticks": ""
             }
            },
            "type": "scatterpolar"
           }
          ],
          "scatterpolargl": [
           {
            "marker": {
             "colorbar": {
              "outlinewidth": 0,
              "ticks": ""
             }
            },
            "type": "scatterpolargl"
           }
          ],
          "scatterternary": [
           {
            "marker": {
             "colorbar": {
              "outlinewidth": 0,
              "ticks": ""
             }
            },
            "type": "scatterternary"
           }
          ],
          "surface": [
           {
            "colorbar": {
             "outlinewidth": 0,
             "ticks": ""
            },
            "colorscale": [
             [
              0,
              "#0d0887"
             ],
             [
              0.1111111111111111,
              "#46039f"
             ],
             [
              0.2222222222222222,
              "#7201a8"
             ],
             [
              0.3333333333333333,
              "#9c179e"
             ],
             [
              0.4444444444444444,
              "#bd3786"
             ],
             [
              0.5555555555555556,
              "#d8576b"
             ],
             [
              0.6666666666666666,
              "#ed7953"
             ],
             [
              0.7777777777777778,
              "#fb9f3a"
             ],
             [
              0.8888888888888888,
              "#fdca26"
             ],
             [
              1,
              "#f0f921"
             ]
            ],
            "type": "surface"
           }
          ],
          "table": [
           {
            "cells": {
             "fill": {
              "color": "#506784"
             },
             "line": {
              "color": "rgb(17,17,17)"
             }
            },
            "header": {
             "fill": {
              "color": "#2a3f5f"
             },
             "line": {
              "color": "rgb(17,17,17)"
             }
            },
            "type": "table"
           }
          ]
         },
         "layout": {
          "annotationdefaults": {
           "arrowcolor": "#f2f5fa",
           "arrowhead": 0,
           "arrowwidth": 1
          },
          "autotypenumbers": "strict",
          "coloraxis": {
           "colorbar": {
            "outlinewidth": 0,
            "ticks": ""
           }
          },
          "colorscale": {
           "diverging": [
            [
             0,
             "#8e0152"
            ],
            [
             0.1,
             "#c51b7d"
            ],
            [
             0.2,
             "#de77ae"
            ],
            [
             0.3,
             "#f1b6da"
            ],
            [
             0.4,
             "#fde0ef"
            ],
            [
             0.5,
             "#f7f7f7"
            ],
            [
             0.6,
             "#e6f5d0"
            ],
            [
             0.7,
             "#b8e186"
            ],
            [
             0.8,
             "#7fbc41"
            ],
            [
             0.9,
             "#4d9221"
            ],
            [
             1,
             "#276419"
            ]
           ],
           "sequential": [
            [
             0,
             "#0d0887"
            ],
            [
             0.1111111111111111,
             "#46039f"
            ],
            [
             0.2222222222222222,
             "#7201a8"
            ],
            [
             0.3333333333333333,
             "#9c179e"
            ],
            [
             0.4444444444444444,
             "#bd3786"
            ],
            [
             0.5555555555555556,
             "#d8576b"
            ],
            [
             0.6666666666666666,
             "#ed7953"
            ],
            [
             0.7777777777777778,
             "#fb9f3a"
            ],
            [
             0.8888888888888888,
             "#fdca26"
            ],
            [
             1,
             "#f0f921"
            ]
           ],
           "sequentialminus": [
            [
             0,
             "#0d0887"
            ],
            [
             0.1111111111111111,
             "#46039f"
            ],
            [
             0.2222222222222222,
             "#7201a8"
            ],
            [
             0.3333333333333333,
             "#9c179e"
            ],
            [
             0.4444444444444444,
             "#bd3786"
            ],
            [
             0.5555555555555556,
             "#d8576b"
            ],
            [
             0.6666666666666666,
             "#ed7953"
            ],
            [
             0.7777777777777778,
             "#fb9f3a"
            ],
            [
             0.8888888888888888,
             "#fdca26"
            ],
            [
             1,
             "#f0f921"
            ]
           ]
          },
          "colorway": [
           "#636efa",
           "#EF553B",
           "#00cc96",
           "#ab63fa",
           "#FFA15A",
           "#19d3f3",
           "#FF6692",
           "#B6E880",
           "#FF97FF",
           "#FECB52"
          ],
          "font": {
           "color": "#f2f5fa"
          },
          "geo": {
           "bgcolor": "rgb(17,17,17)",
           "lakecolor": "rgb(17,17,17)",
           "landcolor": "rgb(17,17,17)",
           "showlakes": true,
           "showland": true,
           "subunitcolor": "#506784"
          },
          "hoverlabel": {
           "align": "left"
          },
          "hovermode": "closest",
          "mapbox": {
           "style": "dark"
          },
          "paper_bgcolor": "rgb(17,17,17)",
          "plot_bgcolor": "rgb(17,17,17)",
          "polar": {
           "angularaxis": {
            "gridcolor": "#506784",
            "linecolor": "#506784",
            "ticks": ""
           },
           "bgcolor": "rgb(17,17,17)",
           "radialaxis": {
            "gridcolor": "#506784",
            "linecolor": "#506784",
            "ticks": ""
           }
          },
          "scene": {
           "xaxis": {
            "backgroundcolor": "rgb(17,17,17)",
            "gridcolor": "#506784",
            "gridwidth": 2,
            "linecolor": "#506784",
            "showbackground": true,
            "ticks": "",
            "zerolinecolor": "#C8D4E3"
           },
           "yaxis": {
            "backgroundcolor": "rgb(17,17,17)",
            "gridcolor": "#506784",
            "gridwidth": 2,
            "linecolor": "#506784",
            "showbackground": true,
            "ticks": "",
            "zerolinecolor": "#C8D4E3"
           },
           "zaxis": {
            "backgroundcolor": "rgb(17,17,17)",
            "gridcolor": "#506784",
            "gridwidth": 2,
            "linecolor": "#506784",
            "showbackground": true,
            "ticks": "",
            "zerolinecolor": "#C8D4E3"
           }
          },
          "shapedefaults": {
           "line": {
            "color": "#f2f5fa"
           }
          },
          "sliderdefaults": {
           "bgcolor": "#C8D4E3",
           "bordercolor": "rgb(17,17,17)",
           "borderwidth": 1,
           "tickwidth": 0
          },
          "ternary": {
           "aaxis": {
            "gridcolor": "#506784",
            "linecolor": "#506784",
            "ticks": ""
           },
           "baxis": {
            "gridcolor": "#506784",
            "linecolor": "#506784",
            "ticks": ""
           },
           "bgcolor": "rgb(17,17,17)",
           "caxis": {
            "gridcolor": "#506784",
            "linecolor": "#506784",
            "ticks": ""
           }
          },
          "title": {
           "x": 0.05
          },
          "updatemenudefaults": {
           "bgcolor": "#506784",
           "borderwidth": 0
          },
          "xaxis": {
           "automargin": true,
           "gridcolor": "#283442",
           "linecolor": "#506784",
           "ticks": "",
           "title": {
            "standoff": 15
           },
           "zerolinecolor": "#283442",
           "zerolinewidth": 2
          },
          "yaxis": {
           "automargin": true,
           "gridcolor": "#283442",
           "linecolor": "#506784",
           "ticks": "",
           "title": {
            "standoff": 15
           },
           "zerolinecolor": "#283442",
           "zerolinewidth": 2
          }
         }
        },
        "title": {
         "text": "v1 - no prior on potential solutions - avg. score: 2.99 - success rate: 100%"
        },
        "xaxis": {
         "anchor": "y",
         "domain": [
          0,
          1
         ],
         "title": {
          "text": "game score (points)"
         }
        },
        "yaxis": {
         "anchor": "x",
         "domain": [
          0,
          1
         ],
         "title": {
          "text": "number of evaluated games"
         }
        }
       }
      }
     },
     "metadata": {},
     "output_type": "display_data"
    }
   ],
   "source": [
    "config = {\n",
    "    \"player\": wd.player.GreedyPlayer(starting_psm=psm),\n",
    "    \"path_to_eval_words_list\": DATA_PATH / \"raw/possible_words.txt\",\n",
    "    \"path_to_json_output\": DATA_PATH / \"outputs/eval_results_v1.json\",\n",
    "    \"fig_title\": \"v1 - no prior on potential solutions\",\n",
    "    \"fig_name\": IMG_PATH / \"eval_v1.png\",\n",
    "}\n",
    "\n",
    "res, fig = wd.eval.run_eval_from_config(config)"
   ]
  },
  {
   "attachments": {},
   "cell_type": "markdown",
   "metadata": {},
   "source": [
    "## Evaluating v2 \n",
    "* prior knowledge about exact list of potential solutions\n",
    "* one-step entropy calculation"
   ]
  },
  {
   "cell_type": "code",
   "execution_count": null,
   "metadata": {},
   "outputs": [
    {
     "name": "stdout",
     "output_type": "stream",
     "text": [
      "EvalResults(size=2,309, avg_score=3.47, dist=[   0    1   67 1111 1098   32    0], success_rate=100.0%)\n",
      "CPU times: user 48min 30s, sys: 33.9 s, total: 49min 4s\n",
      "Wall time: 3h 27min 39s\n"
     ]
    },
    {
     "data": {
      "application/vnd.plotly.v1+json": {
       "config": {
        "plotlyServerURL": "https://plot.ly"
       },
       "data": [
        {
         "alignmentgroup": "True",
         "hovertemplate": "game score (points)=%{x}<br>number of evaluated games=%{y}<extra></extra>",
         "legendgroup": "",
         "marker": {
          "color": "#636efa",
          "pattern": {
           "shape": ""
          }
         },
         "name": "",
         "offsetgroup": "",
         "orientation": "v",
         "showlegend": false,
         "textposition": "auto",
         "type": "bar",
         "x": [
          0,
          1,
          2,
          3,
          4,
          5,
          6
         ],
         "xaxis": "x",
         "y": [
          0,
          1,
          67,
          1111,
          1098,
          32,
          0
         ],
         "yaxis": "y"
        }
       ],
       "layout": {
        "barmode": "relative",
        "legend": {
         "tracegroupgap": 0
        },
        "template": {
         "data": {
          "bar": [
           {
            "error_x": {
             "color": "#f2f5fa"
            },
            "error_y": {
             "color": "#f2f5fa"
            },
            "marker": {
             "line": {
              "color": "rgb(17,17,17)",
              "width": 0.5
             },
             "pattern": {
              "fillmode": "overlay",
              "size": 10,
              "solidity": 0.2
             }
            },
            "type": "bar"
           }
          ],
          "barpolar": [
           {
            "marker": {
             "line": {
              "color": "rgb(17,17,17)",
              "width": 0.5
             },
             "pattern": {
              "fillmode": "overlay",
              "size": 10,
              "solidity": 0.2
             }
            },
            "type": "barpolar"
           }
          ],
          "carpet": [
           {
            "aaxis": {
             "endlinecolor": "#A2B1C6",
             "gridcolor": "#506784",
             "linecolor": "#506784",
             "minorgridcolor": "#506784",
             "startlinecolor": "#A2B1C6"
            },
            "baxis": {
             "endlinecolor": "#A2B1C6",
             "gridcolor": "#506784",
             "linecolor": "#506784",
             "minorgridcolor": "#506784",
             "startlinecolor": "#A2B1C6"
            },
            "type": "carpet"
           }
          ],
          "choropleth": [
           {
            "colorbar": {
             "outlinewidth": 0,
             "ticks": ""
            },
            "type": "choropleth"
           }
          ],
          "contour": [
           {
            "colorbar": {
             "outlinewidth": 0,
             "ticks": ""
            },
            "colorscale": [
             [
              0,
              "#0d0887"
             ],
             [
              0.1111111111111111,
              "#46039f"
             ],
             [
              0.2222222222222222,
              "#7201a8"
             ],
             [
              0.3333333333333333,
              "#9c179e"
             ],
             [
              0.4444444444444444,
              "#bd3786"
             ],
             [
              0.5555555555555556,
              "#d8576b"
             ],
             [
              0.6666666666666666,
              "#ed7953"
             ],
             [
              0.7777777777777778,
              "#fb9f3a"
             ],
             [
              0.8888888888888888,
              "#fdca26"
             ],
             [
              1,
              "#f0f921"
             ]
            ],
            "type": "contour"
           }
          ],
          "contourcarpet": [
           {
            "colorbar": {
             "outlinewidth": 0,
             "ticks": ""
            },
            "type": "contourcarpet"
           }
          ],
          "heatmap": [
           {
            "colorbar": {
             "outlinewidth": 0,
             "ticks": ""
            },
            "colorscale": [
             [
              0,
              "#0d0887"
             ],
             [
              0.1111111111111111,
              "#46039f"
             ],
             [
              0.2222222222222222,
              "#7201a8"
             ],
             [
              0.3333333333333333,
              "#9c179e"
             ],
             [
              0.4444444444444444,
              "#bd3786"
             ],
             [
              0.5555555555555556,
              "#d8576b"
             ],
             [
              0.6666666666666666,
              "#ed7953"
             ],
             [
              0.7777777777777778,
              "#fb9f3a"
             ],
             [
              0.8888888888888888,
              "#fdca26"
             ],
             [
              1,
              "#f0f921"
             ]
            ],
            "type": "heatmap"
           }
          ],
          "heatmapgl": [
           {
            "colorbar": {
             "outlinewidth": 0,
             "ticks": ""
            },
            "colorscale": [
             [
              0,
              "#0d0887"
             ],
             [
              0.1111111111111111,
              "#46039f"
             ],
             [
              0.2222222222222222,
              "#7201a8"
             ],
             [
              0.3333333333333333,
              "#9c179e"
             ],
             [
              0.4444444444444444,
              "#bd3786"
             ],
             [
              0.5555555555555556,
              "#d8576b"
             ],
             [
              0.6666666666666666,
              "#ed7953"
             ],
             [
              0.7777777777777778,
              "#fb9f3a"
             ],
             [
              0.8888888888888888,
              "#fdca26"
             ],
             [
              1,
              "#f0f921"
             ]
            ],
            "type": "heatmapgl"
           }
          ],
          "histogram": [
           {
            "marker": {
             "pattern": {
              "fillmode": "overlay",
              "size": 10,
              "solidity": 0.2
             }
            },
            "type": "histogram"
           }
          ],
          "histogram2d": [
           {
            "colorbar": {
             "outlinewidth": 0,
             "ticks": ""
            },
            "colorscale": [
             [
              0,
              "#0d0887"
             ],
             [
              0.1111111111111111,
              "#46039f"
             ],
             [
              0.2222222222222222,
              "#7201a8"
             ],
             [
              0.3333333333333333,
              "#9c179e"
             ],
             [
              0.4444444444444444,
              "#bd3786"
             ],
             [
              0.5555555555555556,
              "#d8576b"
             ],
             [
              0.6666666666666666,
              "#ed7953"
             ],
             [
              0.7777777777777778,
              "#fb9f3a"
             ],
             [
              0.8888888888888888,
              "#fdca26"
             ],
             [
              1,
              "#f0f921"
             ]
            ],
            "type": "histogram2d"
           }
          ],
          "histogram2dcontour": [
           {
            "colorbar": {
             "outlinewidth": 0,
             "ticks": ""
            },
            "colorscale": [
             [
              0,
              "#0d0887"
             ],
             [
              0.1111111111111111,
              "#46039f"
             ],
             [
              0.2222222222222222,
              "#7201a8"
             ],
             [
              0.3333333333333333,
              "#9c179e"
             ],
             [
              0.4444444444444444,
              "#bd3786"
             ],
             [
              0.5555555555555556,
              "#d8576b"
             ],
             [
              0.6666666666666666,
              "#ed7953"
             ],
             [
              0.7777777777777778,
              "#fb9f3a"
             ],
             [
              0.8888888888888888,
              "#fdca26"
             ],
             [
              1,
              "#f0f921"
             ]
            ],
            "type": "histogram2dcontour"
           }
          ],
          "mesh3d": [
           {
            "colorbar": {
             "outlinewidth": 0,
             "ticks": ""
            },
            "type": "mesh3d"
           }
          ],
          "parcoords": [
           {
            "line": {
             "colorbar": {
              "outlinewidth": 0,
              "ticks": ""
             }
            },
            "type": "parcoords"
           }
          ],
          "pie": [
           {
            "automargin": true,
            "type": "pie"
           }
          ],
          "scatter": [
           {
            "marker": {
             "line": {
              "color": "#283442"
             }
            },
            "type": "scatter"
           }
          ],
          "scatter3d": [
           {
            "line": {
             "colorbar": {
              "outlinewidth": 0,
              "ticks": ""
             }
            },
            "marker": {
             "colorbar": {
              "outlinewidth": 0,
              "ticks": ""
             }
            },
            "type": "scatter3d"
           }
          ],
          "scattercarpet": [
           {
            "marker": {
             "colorbar": {
              "outlinewidth": 0,
              "ticks": ""
             }
            },
            "type": "scattercarpet"
           }
          ],
          "scattergeo": [
           {
            "marker": {
             "colorbar": {
              "outlinewidth": 0,
              "ticks": ""
             }
            },
            "type": "scattergeo"
           }
          ],
          "scattergl": [
           {
            "marker": {
             "line": {
              "color": "#283442"
             }
            },
            "type": "scattergl"
           }
          ],
          "scattermapbox": [
           {
            "marker": {
             "colorbar": {
              "outlinewidth": 0,
              "ticks": ""
             }
            },
            "type": "scattermapbox"
           }
          ],
          "scatterpolar": [
           {
            "marker": {
             "colorbar": {
              "outlinewidth": 0,
              "ticks": ""
             }
            },
            "type": "scatterpolar"
           }
          ],
          "scatterpolargl": [
           {
            "marker": {
             "colorbar": {
              "outlinewidth": 0,
              "ticks": ""
             }
            },
            "type": "scatterpolargl"
           }
          ],
          "scatterternary": [
           {
            "marker": {
             "colorbar": {
              "outlinewidth": 0,
              "ticks": ""
             }
            },
            "type": "scatterternary"
           }
          ],
          "surface": [
           {
            "colorbar": {
             "outlinewidth": 0,
             "ticks": ""
            },
            "colorscale": [
             [
              0,
              "#0d0887"
             ],
             [
              0.1111111111111111,
              "#46039f"
             ],
             [
              0.2222222222222222,
              "#7201a8"
             ],
             [
              0.3333333333333333,
              "#9c179e"
             ],
             [
              0.4444444444444444,
              "#bd3786"
             ],
             [
              0.5555555555555556,
              "#d8576b"
             ],
             [
              0.6666666666666666,
              "#ed7953"
             ],
             [
              0.7777777777777778,
              "#fb9f3a"
             ],
             [
              0.8888888888888888,
              "#fdca26"
             ],
             [
              1,
              "#f0f921"
             ]
            ],
            "type": "surface"
           }
          ],
          "table": [
           {
            "cells": {
             "fill": {
              "color": "#506784"
             },
             "line": {
              "color": "rgb(17,17,17)"
             }
            },
            "header": {
             "fill": {
              "color": "#2a3f5f"
             },
             "line": {
              "color": "rgb(17,17,17)"
             }
            },
            "type": "table"
           }
          ]
         },
         "layout": {
          "annotationdefaults": {
           "arrowcolor": "#f2f5fa",
           "arrowhead": 0,
           "arrowwidth": 1
          },
          "autotypenumbers": "strict",
          "coloraxis": {
           "colorbar": {
            "outlinewidth": 0,
            "ticks": ""
           }
          },
          "colorscale": {
           "diverging": [
            [
             0,
             "#8e0152"
            ],
            [
             0.1,
             "#c51b7d"
            ],
            [
             0.2,
             "#de77ae"
            ],
            [
             0.3,
             "#f1b6da"
            ],
            [
             0.4,
             "#fde0ef"
            ],
            [
             0.5,
             "#f7f7f7"
            ],
            [
             0.6,
             "#e6f5d0"
            ],
            [
             0.7,
             "#b8e186"
            ],
            [
             0.8,
             "#7fbc41"
            ],
            [
             0.9,
             "#4d9221"
            ],
            [
             1,
             "#276419"
            ]
           ],
           "sequential": [
            [
             0,
             "#0d0887"
            ],
            [
             0.1111111111111111,
             "#46039f"
            ],
            [
             0.2222222222222222,
             "#7201a8"
            ],
            [
             0.3333333333333333,
             "#9c179e"
            ],
            [
             0.4444444444444444,
             "#bd3786"
            ],
            [
             0.5555555555555556,
             "#d8576b"
            ],
            [
             0.6666666666666666,
             "#ed7953"
            ],
            [
             0.7777777777777778,
             "#fb9f3a"
            ],
            [
             0.8888888888888888,
             "#fdca26"
            ],
            [
             1,
             "#f0f921"
            ]
           ],
           "sequentialminus": [
            [
             0,
             "#0d0887"
            ],
            [
             0.1111111111111111,
             "#46039f"
            ],
            [
             0.2222222222222222,
             "#7201a8"
            ],
            [
             0.3333333333333333,
             "#9c179e"
            ],
            [
             0.4444444444444444,
             "#bd3786"
            ],
            [
             0.5555555555555556,
             "#d8576b"
            ],
            [
             0.6666666666666666,
             "#ed7953"
            ],
            [
             0.7777777777777778,
             "#fb9f3a"
            ],
            [
             0.8888888888888888,
             "#fdca26"
            ],
            [
             1,
             "#f0f921"
            ]
           ]
          },
          "colorway": [
           "#636efa",
           "#EF553B",
           "#00cc96",
           "#ab63fa",
           "#FFA15A",
           "#19d3f3",
           "#FF6692",
           "#B6E880",
           "#FF97FF",
           "#FECB52"
          ],
          "font": {
           "color": "#f2f5fa"
          },
          "geo": {
           "bgcolor": "rgb(17,17,17)",
           "lakecolor": "rgb(17,17,17)",
           "landcolor": "rgb(17,17,17)",
           "showlakes": true,
           "showland": true,
           "subunitcolor": "#506784"
          },
          "hoverlabel": {
           "align": "left"
          },
          "hovermode": "closest",
          "mapbox": {
           "style": "dark"
          },
          "paper_bgcolor": "rgb(17,17,17)",
          "plot_bgcolor": "rgb(17,17,17)",
          "polar": {
           "angularaxis": {
            "gridcolor": "#506784",
            "linecolor": "#506784",
            "ticks": ""
           },
           "bgcolor": "rgb(17,17,17)",
           "radialaxis": {
            "gridcolor": "#506784",
            "linecolor": "#506784",
            "ticks": ""
           }
          },
          "scene": {
           "xaxis": {
            "backgroundcolor": "rgb(17,17,17)",
            "gridcolor": "#506784",
            "gridwidth": 2,
            "linecolor": "#506784",
            "showbackground": true,
            "ticks": "",
            "zerolinecolor": "#C8D4E3"
           },
           "yaxis": {
            "backgroundcolor": "rgb(17,17,17)",
            "gridcolor": "#506784",
            "gridwidth": 2,
            "linecolor": "#506784",
            "showbackground": true,
            "ticks": "",
            "zerolinecolor": "#C8D4E3"
           },
           "zaxis": {
            "backgroundcolor": "rgb(17,17,17)",
            "gridcolor": "#506784",
            "gridwidth": 2,
            "linecolor": "#506784",
            "showbackground": true,
            "ticks": "",
            "zerolinecolor": "#C8D4E3"
           }
          },
          "shapedefaults": {
           "line": {
            "color": "#f2f5fa"
           }
          },
          "sliderdefaults": {
           "bgcolor": "#C8D4E3",
           "bordercolor": "rgb(17,17,17)",
           "borderwidth": 1,
           "tickwidth": 0
          },
          "ternary": {
           "aaxis": {
            "gridcolor": "#506784",
            "linecolor": "#506784",
            "ticks": ""
           },
           "baxis": {
            "gridcolor": "#506784",
            "linecolor": "#506784",
            "ticks": ""
           },
           "bgcolor": "rgb(17,17,17)",
           "caxis": {
            "gridcolor": "#506784",
            "linecolor": "#506784",
            "ticks": ""
           }
          },
          "title": {
           "x": 0.05
          },
          "updatemenudefaults": {
           "bgcolor": "#506784",
           "borderwidth": 0
          },
          "xaxis": {
           "automargin": true,
           "gridcolor": "#283442",
           "linecolor": "#506784",
           "ticks": "",
           "title": {
            "standoff": 15
           },
           "zerolinecolor": "#283442",
           "zerolinewidth": 2
          },
          "yaxis": {
           "automargin": true,
           "gridcolor": "#283442",
           "linecolor": "#506784",
           "ticks": "",
           "title": {
            "standoff": 15
           },
           "zerolinecolor": "#283442",
           "zerolinewidth": 2
          }
         }
        },
        "title": {
         "text": "v2 - strong prior on potential solutions - avg. score: 3.47 - success rate: 100%"
        },
        "xaxis": {
         "anchor": "y",
         "domain": [
          0,
          1
         ],
         "title": {
          "text": "game score (points)"
         }
        },
        "yaxis": {
         "anchor": "x",
         "domain": [
          0,
          1
         ],
         "title": {
          "text": "number of evaluated games"
         }
        }
       }
      }
     },
     "metadata": {},
     "output_type": "display_data"
    }
   ],
   "source": [
    "config = {\n",
    "    \"player\": wd.player.GreedyPlayer(starting_psm=psm),\n",
    "    \"path_to_eval_words_list\": DATA_PATH / \"raw/possible_words.txt\",\n",
    "    \"path_to_json_output\": DATA_PATH / \"outputs/eval_results_v2.json\",\n",
    "    \"fig_title\": \"v2 - strong prior on potential solutions\",\n",
    "    \"fig_name\": IMG_PATH / \"eval_v2.png\",\n",
    "}\n",
    "\n",
    "results_v2, fig = wd.eval.run_eval_from_config(config)\n",
    "\n"
   ]
  },
  {
   "attachments": {},
   "cell_type": "markdown",
   "metadata": {},
   "source": [
    "### v2 - words with highest and lowest scores"
   ]
  },
  {
   "cell_type": "code",
   "execution_count": 161,
   "metadata": {},
   "outputs": [
    {
     "data": {
      "text/plain": [
       "ovate    5\n",
       "chaos    5\n",
       "arson    5\n",
       "bravo    5\n",
       "adore    5\n",
       "dtype: int64"
      ]
     },
     "execution_count": 161,
     "metadata": {},
     "output_type": "execute_result"
    }
   ],
   "source": [
    "player = wd.player.GreedyPlayer(psm_v2)\n",
    "scores = pd.Series(results_v2.scores).sort_values(ascending=False)\n",
    "scores.head()"
   ]
  },
  {
   "cell_type": "code",
   "execution_count": 162,
   "metadata": {},
   "outputs": [
    {
     "data": {
      "text/html": [
       "<font size=\"7\" style=\"font-family:Monospace\"><span style=\"background-color:#b89d02\">S</span><span style=\"background-color:#b89d02\">O</span><span style=\"background-color:#098710\">A</span><span style=\"background-color:black\">R</span><span style=\"background-color:black\">E</span>"
      ],
      "text/plain": [
       "<IPython.core.display.HTML object>"
      ]
     },
     "metadata": {},
     "output_type": "display_data"
    },
    {
     "data": {
      "text/html": [
       "<font size=\"7\" style=\"font-family:Monospace\"><span style=\"background-color:#098710\">C</span><span style=\"background-color:#098710\">H</span><span style=\"background-color:#098710\">A</span><span style=\"background-color:#098710\">O</span><span style=\"background-color:#098710\">S</span>"
      ],
      "text/plain": [
       "<IPython.core.display.HTML object>"
      ]
     },
     "metadata": {},
     "output_type": "display_data"
    },
    {
     "data": {
      "text/plain": [
       "WordleGame(target_word='CHAOS', max_guesses=6, number_of_guesses=2, is_over=True, solved=True)"
      ]
     },
     "execution_count": 162,
     "metadata": {},
     "output_type": "execute_result"
    }
   ],
   "source": [
    "wd.play_game(player, wd.WordleGame(\"chaos\"))"
   ]
  },
  {
   "attachments": {},
   "cell_type": "markdown",
   "metadata": {},
   "source": [
    "### lowest scores for v2"
   ]
  },
  {
   "cell_type": "code",
   "execution_count": 163,
   "metadata": {},
   "outputs": [
    {
     "data": {
      "text/plain": [
       "cover    2\n",
       "witty    2\n",
       "fever    2\n",
       "parer    2\n",
       "waver    1\n",
       "dtype: int64"
      ]
     },
     "execution_count": 163,
     "metadata": {},
     "output_type": "execute_result"
    }
   ],
   "source": [
    "# lowest scores\n",
    "scores.tail()"
   ]
  },
  {
   "cell_type": "code",
   "execution_count": 120,
   "metadata": {},
   "outputs": [
    {
     "data": {
      "text/html": [
       "<font size=\"7\" style=\"font-family:Monospace\"><span style=\"background-color:black\">S</span><span style=\"background-color:black\">O</span><span style=\"background-color:#b89d02\">A</span><span style=\"background-color:#b89d02\">R</span><span style=\"background-color:#b89d02\">E</span>"
      ],
      "text/plain": [
       "<IPython.core.display.HTML object>"
      ]
     },
     "metadata": {},
     "output_type": "display_data"
    },
    {
     "data": {
      "text/html": [
       "<font size=\"7\" style=\"font-family:Monospace\"><span style=\"background-color:black\">T</span><span style=\"background-color:#098710\">A</span><span style=\"background-color:black\">L</span><span style=\"background-color:black\">A</span><span style=\"background-color:#098710\">R</span>"
      ],
      "text/plain": [
       "<IPython.core.display.HTML object>"
      ]
     },
     "metadata": {},
     "output_type": "display_data"
    },
    {
     "data": {
      "text/html": [
       "<font size=\"7\" style=\"font-family:Monospace\"><span style=\"background-color:black\">P</span><span style=\"background-color:black\">I</span><span style=\"background-color:black\">G</span><span style=\"background-color:black\">M</span><span style=\"background-color:black\">Y</span>"
      ],
      "text/plain": [
       "<IPython.core.display.HTML object>"
      ]
     },
     "metadata": {},
     "output_type": "display_data"
    },
    {
     "data": {
      "text/html": [
       "<font size=\"7\" style=\"font-family:Monospace\"><span style=\"background-color:black\">S</span><span style=\"background-color:#b89d02\">W</span><span style=\"background-color:#b89d02\">A</span><span style=\"background-color:black\">C</span><span style=\"background-color:black\">K</span>"
      ],
      "text/plain": [
       "<IPython.core.display.HTML object>"
      ]
     },
     "metadata": {},
     "output_type": "display_data"
    },
    {
     "data": {
      "text/html": [
       "<font size=\"7\" style=\"font-family:Monospace\"><span style=\"background-color:#098710\">W</span><span style=\"background-color:#098710\">A</span><span style=\"background-color:black\">F</span><span style=\"background-color:#098710\">E</span><span style=\"background-color:#098710\">R</span>"
      ],
      "text/plain": [
       "<IPython.core.display.HTML object>"
      ]
     },
     "metadata": {},
     "output_type": "display_data"
    },
    {
     "data": {
      "text/html": [
       "<font size=\"7\" style=\"font-family:Monospace\"><span style=\"background-color:#098710\">W</span><span style=\"background-color:#098710\">A</span><span style=\"background-color:#098710\">V</span><span style=\"background-color:#098710\">E</span><span style=\"background-color:#098710\">R</span>"
      ],
      "text/plain": [
       "<IPython.core.display.HTML object>"
      ]
     },
     "metadata": {},
     "output_type": "display_data"
    },
    {
     "data": {
      "text/plain": [
       "WordleGame(target_word='WAVER', max_guesses=6, number_of_guesses=6, is_over=True, solved=True)"
      ]
     },
     "execution_count": 120,
     "metadata": {},
     "output_type": "execute_result"
    }
   ],
   "source": [
    "wd.player.play_game(player, wd.WordleGame(\"waver\"))"
   ]
  },
  {
   "attachments": {},
   "cell_type": "markdown",
   "metadata": {},
   "source": [
    "## Adding v3: two-step information gain maximization\n",
    "2-step look ahead: cumulate entropy from best next guess with entropy from first guess\n",
    "* if two words have equal expected information gain, the one with highest step 1 information gain is prioritized\n",
    "\n",
    "### Pseudo-Code for 2-steps player\n",
    "#### Vanilla version\n",
    "* for each allowed word to guess $guess_1$(x13k)\n",
    "    * for each possible guess outcome (x~200)\n",
    "        * generate next step psm \n",
    "        * for each allowed word for second guess (x 13k)\n",
    "            * calculate expected information gain based on next step psm\n",
    "        * retrieve $max_{guess_2} E[I_2 | guess_2]$ \n",
    "    * $E[I_2 | guess_1] = \\sum p(outcome) * max E[I_2 | outcome]$ \n",
    "* best guess is guess1 maximizing  $E[I_1 | guess_1] + E[I_2 | guess_1]$\n",
    "\n",
    "#### Approximation\n",
    "The above version is too compute intensive. we therefore propose the following approximation. \n",
    " \n",
    "**Assumption**: guess words that have high 2 steps score are among the top ranked 1 step guess words.\n",
    "Under this assumption, we can limit the number of calculations by only calculating 2nd step information gain for the guess words top ranked under the first step.\n",
    "The pseudo code then becomes:\n",
    "\n",
    "* for each allowed word to guess $guess_1$(x13k)\n",
    "    * calculate $E[I_1 | guess_1]$, the expected information gain after a single step\n",
    "* keep the K top ranked guess words under this metric.\n",
    "* for each of those K words: (x K)\n",
    "    * for each possible guess outcome (x~200)\n",
    "        * generate next step psm \n",
    "        * for each allowed word for second guess (x 13k)\n",
    "            * calculate expected information gain based on next step psm\n",
    "        * retrieve $max_{guess_2} E[I_2 | guess_2]$ \n",
    "    * $E[I_2 | guess_1] = \\sum p(outcome) * max E[I_2 | outcome]$ \n",
    "* best guess 1 must maximize:  $E[I_1 | guess_1] + E[I_2 | guess_1]$\n",
    "\n",
    "with $K=100$, this approx already reduces by 130 the computation cost\n",
    "\n",
    "\n",
    "### what is the best starting word to maximize two-step entropy\n",
    "* get top 50 top words based on single step information gain\n",
    "* calculate 2 step entropy for those 50 words"
   ]
  },
  {
   "cell_type": "code",
   "execution_count": null,
   "metadata": {},
   "outputs": [],
   "source": [
    "K = 100 # top words in terms of one-step expected information gain. \n",
    "# only those will get expected 2 step information gain calculated.\n",
    "tsp = wd.player.TwoStepPlayer(psm_v2, max_first_guesses=K)\n",
    "tse = tsp.calculate_two_step_entropies(show_tqdm=True)\n",
    "tse.to_csv(DATA_PATH / \"transformed/two_step_entropy_v2.1.csv\")"
   ]
  },
  {
   "cell_type": "code",
   "execution_count": null,
   "metadata": {},
   "outputs": [
    {
     "data": {
      "text/html": [
       "<div>\n",
       "<style scoped>\n",
       "    .dataframe tbody tr th:only-of-type {\n",
       "        vertical-align: middle;\n",
       "    }\n",
       "\n",
       "    .dataframe tbody tr th {\n",
       "        vertical-align: top;\n",
       "    }\n",
       "\n",
       "    .dataframe thead th {\n",
       "        text-align: right;\n",
       "    }\n",
       "</style>\n",
       "<table border=\"1\" class=\"dataframe\">\n",
       "  <thead>\n",
       "    <tr style=\"text-align: right;\">\n",
       "      <th></th>\n",
       "      <th>entropy_step_1</th>\n",
       "      <th>entropy_step_2</th>\n",
       "      <th>entropy_total</th>\n",
       "    </tr>\n",
       "    <tr>\n",
       "      <th>guess_word</th>\n",
       "      <th></th>\n",
       "      <th></th>\n",
       "      <th></th>\n",
       "    </tr>\n",
       "  </thead>\n",
       "  <tbody>\n",
       "    <tr>\n",
       "      <th>slane</th>\n",
       "      <td>5.768957</td>\n",
       "      <td>4.267461</td>\n",
       "      <td>10.036419</td>\n",
       "    </tr>\n",
       "    <tr>\n",
       "      <th>slate</th>\n",
       "      <td>5.855819</td>\n",
       "      <td>4.175947</td>\n",
       "      <td>10.031766</td>\n",
       "    </tr>\n",
       "    <tr>\n",
       "      <th>salet</th>\n",
       "      <td>5.836023</td>\n",
       "      <td>4.180909</td>\n",
       "      <td>10.016932</td>\n",
       "    </tr>\n",
       "    <tr>\n",
       "      <th>trace</th>\n",
       "      <td>5.830429</td>\n",
       "      <td>4.182702</td>\n",
       "      <td>10.013131</td>\n",
       "    </tr>\n",
       "    <tr>\n",
       "      <th>crate</th>\n",
       "      <td>5.835216</td>\n",
       "      <td>4.177358</td>\n",
       "      <td>10.012574</td>\n",
       "    </tr>\n",
       "    <tr>\n",
       "      <th>reast</th>\n",
       "      <td>5.867738</td>\n",
       "      <td>4.143463</td>\n",
       "      <td>10.011201</td>\n",
       "    </tr>\n",
       "    <tr>\n",
       "      <th>carle</th>\n",
       "      <td>5.769364</td>\n",
       "      <td>4.236674</td>\n",
       "      <td>10.006038</td>\n",
       "    </tr>\n",
       "    <tr>\n",
       "      <th>carte</th>\n",
       "      <td>5.795107</td>\n",
       "      <td>4.201878</td>\n",
       "      <td>9.996985</td>\n",
       "    </tr>\n",
       "    <tr>\n",
       "      <th>torse</th>\n",
       "      <td>5.726483</td>\n",
       "      <td>4.270113</td>\n",
       "      <td>9.996596</td>\n",
       "    </tr>\n",
       "    <tr>\n",
       "      <th>carse</th>\n",
       "      <td>5.765433</td>\n",
       "      <td>4.231064</td>\n",
       "      <td>9.996497</td>\n",
       "    </tr>\n",
       "    <tr>\n",
       "      <th>trone</th>\n",
       "      <td>5.686113</td>\n",
       "      <td>4.309589</td>\n",
       "      <td>9.995703</td>\n",
       "    </tr>\n",
       "    <tr>\n",
       "      <th>roast</th>\n",
       "      <td>5.648431</td>\n",
       "      <td>4.346632</td>\n",
       "      <td>9.995063</td>\n",
       "    </tr>\n",
       "    <tr>\n",
       "      <th>toile</th>\n",
       "      <td>5.692642</td>\n",
       "      <td>4.301508</td>\n",
       "      <td>9.994150</td>\n",
       "    </tr>\n",
       "    <tr>\n",
       "      <th>soare</th>\n",
       "      <td>5.885203</td>\n",
       "      <td>4.106304</td>\n",
       "      <td>9.991507</td>\n",
       "    </tr>\n",
       "    <tr>\n",
       "      <th>raile</th>\n",
       "      <td>5.865154</td>\n",
       "      <td>4.125284</td>\n",
       "      <td>9.990438</td>\n",
       "    </tr>\n",
       "  </tbody>\n",
       "</table>\n",
       "</div>"
      ],
      "text/plain": [
       "            entropy_step_1  entropy_step_2  entropy_total\n",
       "guess_word                                               \n",
       "slane             5.768957        4.267461      10.036419\n",
       "slate             5.855819        4.175947      10.031766\n",
       "salet             5.836023        4.180909      10.016932\n",
       "trace             5.830429        4.182702      10.013131\n",
       "crate             5.835216        4.177358      10.012574\n",
       "reast             5.867738        4.143463      10.011201\n",
       "carle             5.769364        4.236674      10.006038\n",
       "carte             5.795107        4.201878       9.996985\n",
       "torse             5.726483        4.270113       9.996596\n",
       "carse             5.765433        4.231064       9.996497\n",
       "trone             5.686113        4.309589       9.995703\n",
       "roast             5.648431        4.346632       9.995063\n",
       "toile             5.692642        4.301508       9.994150\n",
       "soare             5.885203        4.106304       9.991507\n",
       "raile             5.865154        4.125284       9.990438"
      ]
     },
     "metadata": {},
     "output_type": "display_data"
    }
   ],
   "source": [
    "tse.head(15)"
   ]
  },
  {
   "attachments": {},
   "cell_type": "markdown",
   "metadata": {},
   "source": [
    "**conclusion**: `slane` seems to be the best starting word, to maximize two-step expected information gain.  \n",
    "Top ranking seems consistent with https://www.3blue1brown.com/lessons/wordle2 findings.\n",
    "\n",
    "### comparing 1-step vs 2-steps top starting words ranking\n",
    "* what is a reasonable $K$ for the approximate optimization described above?"
   ]
  },
  {
   "cell_type": "code",
   "execution_count": 89,
   "metadata": {},
   "outputs": [
    {
     "data": {
      "application/vnd.plotly.v1+json": {
       "config": {
        "plotlyServerURL": "https://plot.ly"
       },
       "data": [
        {
         "customdata": [
          [
           "slane"
          ],
          [
           "slate"
          ],
          [
           "salet"
          ],
          [
           "trace"
          ],
          [
           "crate"
          ],
          [
           "reast"
          ],
          [
           "carle"
          ],
          [
           "carte"
          ],
          [
           "torse"
          ],
          [
           "carse"
          ],
          [
           "trone"
          ],
          [
           "roast"
          ],
          [
           "toile"
          ],
          [
           "soare"
          ],
          [
           "raile"
          ],
          [
           "roate"
          ],
          [
           "stare"
          ],
          [
           "caret"
          ],
          [
           "crane"
          ],
          [
           "stale"
          ],
          [
           "raine"
          ],
          [
           "least"
          ],
          [
           "trine"
          ],
          [
           "snare"
          ],
          [
           "trice"
          ],
          [
           "liane"
          ],
          [
           "irate"
          ],
          [
           "arose"
          ],
          [
           "slart"
          ],
          [
           "saine"
          ],
          [
           "taser"
          ],
          [
           "sorel"
          ],
          [
           "raise"
          ],
          [
           "aline"
          ],
          [
           "stane"
          ],
          [
           "trade"
          ],
          [
           "saner"
          ],
          [
           "artel"
          ],
          [
           "earst"
          ],
          [
           "orate"
          ],
          [
           "react"
          ],
          [
           "strae"
          ],
          [
           "prate"
          ],
          [
           "store"
          ],
          [
           "tares"
          ],
          [
           "ronte"
          ],
          [
           "leant"
          ],
          [
           "alter"
          ],
          [
           "trape"
          ],
          [
           "reist"
          ],
          [
           "ariel"
          ],
          [
           "arise"
          ],
          [
           "taler"
          ],
          [
           "aisle"
          ],
          [
           "rance"
          ],
          [
           "tears"
          ],
          [
           "toise"
          ],
          [
           "alone"
          ],
          [
           "coate"
          ],
          [
           "stire"
          ],
          [
           "saice"
          ],
          [
           "roset"
          ],
          [
           "teals"
          ],
          [
           "resat"
          ],
          [
           "ratel"
          ],
          [
           "alien"
          ],
          [
           "tales"
          ],
          [
           "antre"
          ],
          [
           "scare"
          ],
          [
           "alert"
          ],
          [
           "parle"
          ],
          [
           "cater"
          ],
          [
           "arles"
          ],
          [
           "slier"
          ],
          [
           "seral"
          ],
          [
           "earnt"
          ],
          [
           "peart"
          ],
          [
           "tared"
          ],
          [
           "rates"
          ],
          [
           "learn"
          ],
          [
           "tries"
          ],
          [
           "setal"
          ],
          [
           "reals"
          ],
          [
           "later"
          ],
          [
           "prase"
          ],
          [
           "litre"
          ],
          [
           "parse"
          ],
          [
           "teras"
          ],
          [
           "arets"
          ],
          [
           "saute"
          ],
          [
           "urate"
          ],
          [
           "rales"
          ],
          [
           "paire"
          ],
          [
           "lares"
          ],
          [
           "laser"
          ],
          [
           "stear"
          ],
          [
           "realo"
          ],
          [
           "heart"
          ],
          [
           "oater"
          ],
          [
           "aesir"
          ]
         ],
         "hovertemplate": "1-step rank=%{x}<br>2-steps rank=%{y}<br>word=%{customdata[0]}<extra></extra>",
         "legendgroup": "",
         "marker": {
          "color": "#636efa",
          "symbol": "circle"
         },
         "mode": "markers",
         "name": "",
         "orientation": "v",
         "showlegend": false,
         "type": "scatter",
         "x": [
          19,
          5,
          6,
          9,
          7,
          3,
          18,
          13,
          36,
          24,
          47,
          64,
          45,
          0,
          4,
          1,
          12,
          15,
          31,
          33,
          14,
          28,
          42,
          20,
          73,
          50,
          8,
          23,
          82,
          25,
          27,
          54,
          2,
          72,
          58,
          48,
          34,
          21,
          26,
          11,
          43,
          22,
          41,
          95,
          29,
          96,
          49,
          39,
          59,
          52,
          16,
          10,
          17,
          70,
          90,
          38,
          71,
          94,
          53,
          68,
          46,
          83,
          69,
          37,
          35,
          97,
          89,
          51,
          80,
          30,
          88,
          65,
          74,
          56,
          32,
          44,
          62,
          98,
          60,
          61,
          87,
          67,
          75,
          40,
          92,
          91,
          77,
          57,
          79,
          86,
          55,
          99,
          63,
          78,
          84,
          66,
          81,
          93,
          76,
          85
         ],
         "xaxis": "x",
         "y": [
          0,
          1,
          2,
          3,
          4,
          5,
          6,
          7,
          8,
          9,
          10,
          11,
          12,
          13,
          14,
          15,
          16,
          17,
          18,
          19,
          20,
          21,
          22,
          23,
          24,
          25,
          26,
          27,
          28,
          29,
          30,
          31,
          32,
          33,
          34,
          35,
          36,
          37,
          38,
          39,
          40,
          41,
          42,
          43,
          44,
          45,
          46,
          47,
          48,
          49,
          50,
          51,
          52,
          53,
          54,
          55,
          56,
          57,
          58,
          59,
          60,
          61,
          62,
          63,
          64,
          65,
          66,
          67,
          68,
          69,
          70,
          71,
          72,
          73,
          74,
          75,
          76,
          77,
          78,
          79,
          80,
          81,
          82,
          83,
          84,
          85,
          86,
          87,
          88,
          89,
          90,
          91,
          92,
          93,
          94,
          95,
          96,
          97,
          98,
          99
         ],
         "yaxis": "y"
        }
       ],
       "layout": {
        "legend": {
         "tracegroupgap": 0
        },
        "template": {
         "data": {
          "bar": [
           {
            "error_x": {
             "color": "#f2f5fa"
            },
            "error_y": {
             "color": "#f2f5fa"
            },
            "marker": {
             "line": {
              "color": "rgb(17,17,17)",
              "width": 0.5
             },
             "pattern": {
              "fillmode": "overlay",
              "size": 10,
              "solidity": 0.2
             }
            },
            "type": "bar"
           }
          ],
          "barpolar": [
           {
            "marker": {
             "line": {
              "color": "rgb(17,17,17)",
              "width": 0.5
             },
             "pattern": {
              "fillmode": "overlay",
              "size": 10,
              "solidity": 0.2
             }
            },
            "type": "barpolar"
           }
          ],
          "carpet": [
           {
            "aaxis": {
             "endlinecolor": "#A2B1C6",
             "gridcolor": "#506784",
             "linecolor": "#506784",
             "minorgridcolor": "#506784",
             "startlinecolor": "#A2B1C6"
            },
            "baxis": {
             "endlinecolor": "#A2B1C6",
             "gridcolor": "#506784",
             "linecolor": "#506784",
             "minorgridcolor": "#506784",
             "startlinecolor": "#A2B1C6"
            },
            "type": "carpet"
           }
          ],
          "choropleth": [
           {
            "colorbar": {
             "outlinewidth": 0,
             "ticks": ""
            },
            "type": "choropleth"
           }
          ],
          "contour": [
           {
            "colorbar": {
             "outlinewidth": 0,
             "ticks": ""
            },
            "colorscale": [
             [
              0,
              "#0d0887"
             ],
             [
              0.1111111111111111,
              "#46039f"
             ],
             [
              0.2222222222222222,
              "#7201a8"
             ],
             [
              0.3333333333333333,
              "#9c179e"
             ],
             [
              0.4444444444444444,
              "#bd3786"
             ],
             [
              0.5555555555555556,
              "#d8576b"
             ],
             [
              0.6666666666666666,
              "#ed7953"
             ],
             [
              0.7777777777777778,
              "#fb9f3a"
             ],
             [
              0.8888888888888888,
              "#fdca26"
             ],
             [
              1,
              "#f0f921"
             ]
            ],
            "type": "contour"
           }
          ],
          "contourcarpet": [
           {
            "colorbar": {
             "outlinewidth": 0,
             "ticks": ""
            },
            "type": "contourcarpet"
           }
          ],
          "heatmap": [
           {
            "colorbar": {
             "outlinewidth": 0,
             "ticks": ""
            },
            "colorscale": [
             [
              0,
              "#0d0887"
             ],
             [
              0.1111111111111111,
              "#46039f"
             ],
             [
              0.2222222222222222,
              "#7201a8"
             ],
             [
              0.3333333333333333,
              "#9c179e"
             ],
             [
              0.4444444444444444,
              "#bd3786"
             ],
             [
              0.5555555555555556,
              "#d8576b"
             ],
             [
              0.6666666666666666,
              "#ed7953"
             ],
             [
              0.7777777777777778,
              "#fb9f3a"
             ],
             [
              0.8888888888888888,
              "#fdca26"
             ],
             [
              1,
              "#f0f921"
             ]
            ],
            "type": "heatmap"
           }
          ],
          "heatmapgl": [
           {
            "colorbar": {
             "outlinewidth": 0,
             "ticks": ""
            },
            "colorscale": [
             [
              0,
              "#0d0887"
             ],
             [
              0.1111111111111111,
              "#46039f"
             ],
             [
              0.2222222222222222,
              "#7201a8"
             ],
             [
              0.3333333333333333,
              "#9c179e"
             ],
             [
              0.4444444444444444,
              "#bd3786"
             ],
             [
              0.5555555555555556,
              "#d8576b"
             ],
             [
              0.6666666666666666,
              "#ed7953"
             ],
             [
              0.7777777777777778,
              "#fb9f3a"
             ],
             [
              0.8888888888888888,
              "#fdca26"
             ],
             [
              1,
              "#f0f921"
             ]
            ],
            "type": "heatmapgl"
           }
          ],
          "histogram": [
           {
            "marker": {
             "pattern": {
              "fillmode": "overlay",
              "size": 10,
              "solidity": 0.2
             }
            },
            "type": "histogram"
           }
          ],
          "histogram2d": [
           {
            "colorbar": {
             "outlinewidth": 0,
             "ticks": ""
            },
            "colorscale": [
             [
              0,
              "#0d0887"
             ],
             [
              0.1111111111111111,
              "#46039f"
             ],
             [
              0.2222222222222222,
              "#7201a8"
             ],
             [
              0.3333333333333333,
              "#9c179e"
             ],
             [
              0.4444444444444444,
              "#bd3786"
             ],
             [
              0.5555555555555556,
              "#d8576b"
             ],
             [
              0.6666666666666666,
              "#ed7953"
             ],
             [
              0.7777777777777778,
              "#fb9f3a"
             ],
             [
              0.8888888888888888,
              "#fdca26"
             ],
             [
              1,
              "#f0f921"
             ]
            ],
            "type": "histogram2d"
           }
          ],
          "histogram2dcontour": [
           {
            "colorbar": {
             "outlinewidth": 0,
             "ticks": ""
            },
            "colorscale": [
             [
              0,
              "#0d0887"
             ],
             [
              0.1111111111111111,
              "#46039f"
             ],
             [
              0.2222222222222222,
              "#7201a8"
             ],
             [
              0.3333333333333333,
              "#9c179e"
             ],
             [
              0.4444444444444444,
              "#bd3786"
             ],
             [
              0.5555555555555556,
              "#d8576b"
             ],
             [
              0.6666666666666666,
              "#ed7953"
             ],
             [
              0.7777777777777778,
              "#fb9f3a"
             ],
             [
              0.8888888888888888,
              "#fdca26"
             ],
             [
              1,
              "#f0f921"
             ]
            ],
            "type": "histogram2dcontour"
           }
          ],
          "mesh3d": [
           {
            "colorbar": {
             "outlinewidth": 0,
             "ticks": ""
            },
            "type": "mesh3d"
           }
          ],
          "parcoords": [
           {
            "line": {
             "colorbar": {
              "outlinewidth": 0,
              "ticks": ""
             }
            },
            "type": "parcoords"
           }
          ],
          "pie": [
           {
            "automargin": true,
            "type": "pie"
           }
          ],
          "scatter": [
           {
            "marker": {
             "line": {
              "color": "#283442"
             }
            },
            "type": "scatter"
           }
          ],
          "scatter3d": [
           {
            "line": {
             "colorbar": {
              "outlinewidth": 0,
              "ticks": ""
             }
            },
            "marker": {
             "colorbar": {
              "outlinewidth": 0,
              "ticks": ""
             }
            },
            "type": "scatter3d"
           }
          ],
          "scattercarpet": [
           {
            "marker": {
             "colorbar": {
              "outlinewidth": 0,
              "ticks": ""
             }
            },
            "type": "scattercarpet"
           }
          ],
          "scattergeo": [
           {
            "marker": {
             "colorbar": {
              "outlinewidth": 0,
              "ticks": ""
             }
            },
            "type": "scattergeo"
           }
          ],
          "scattergl": [
           {
            "marker": {
             "line": {
              "color": "#283442"
             }
            },
            "type": "scattergl"
           }
          ],
          "scattermapbox": [
           {
            "marker": {
             "colorbar": {
              "outlinewidth": 0,
              "ticks": ""
             }
            },
            "type": "scattermapbox"
           }
          ],
          "scatterpolar": [
           {
            "marker": {
             "colorbar": {
              "outlinewidth": 0,
              "ticks": ""
             }
            },
            "type": "scatterpolar"
           }
          ],
          "scatterpolargl": [
           {
            "marker": {
             "colorbar": {
              "outlinewidth": 0,
              "ticks": ""
             }
            },
            "type": "scatterpolargl"
           }
          ],
          "scatterternary": [
           {
            "marker": {
             "colorbar": {
              "outlinewidth": 0,
              "ticks": ""
             }
            },
            "type": "scatterternary"
           }
          ],
          "surface": [
           {
            "colorbar": {
             "outlinewidth": 0,
             "ticks": ""
            },
            "colorscale": [
             [
              0,
              "#0d0887"
             ],
             [
              0.1111111111111111,
              "#46039f"
             ],
             [
              0.2222222222222222,
              "#7201a8"
             ],
             [
              0.3333333333333333,
              "#9c179e"
             ],
             [
              0.4444444444444444,
              "#bd3786"
             ],
             [
              0.5555555555555556,
              "#d8576b"
             ],
             [
              0.6666666666666666,
              "#ed7953"
             ],
             [
              0.7777777777777778,
              "#fb9f3a"
             ],
             [
              0.8888888888888888,
              "#fdca26"
             ],
             [
              1,
              "#f0f921"
             ]
            ],
            "type": "surface"
           }
          ],
          "table": [
           {
            "cells": {
             "fill": {
              "color": "#506784"
             },
             "line": {
              "color": "rgb(17,17,17)"
             }
            },
            "header": {
             "fill": {
              "color": "#2a3f5f"
             },
             "line": {
              "color": "rgb(17,17,17)"
             }
            },
            "type": "table"
           }
          ]
         },
         "layout": {
          "annotationdefaults": {
           "arrowcolor": "#f2f5fa",
           "arrowhead": 0,
           "arrowwidth": 1
          },
          "autotypenumbers": "strict",
          "coloraxis": {
           "colorbar": {
            "outlinewidth": 0,
            "ticks": ""
           }
          },
          "colorscale": {
           "diverging": [
            [
             0,
             "#8e0152"
            ],
            [
             0.1,
             "#c51b7d"
            ],
            [
             0.2,
             "#de77ae"
            ],
            [
             0.3,
             "#f1b6da"
            ],
            [
             0.4,
             "#fde0ef"
            ],
            [
             0.5,
             "#f7f7f7"
            ],
            [
             0.6,
             "#e6f5d0"
            ],
            [
             0.7,
             "#b8e186"
            ],
            [
             0.8,
             "#7fbc41"
            ],
            [
             0.9,
             "#4d9221"
            ],
            [
             1,
             "#276419"
            ]
           ],
           "sequential": [
            [
             0,
             "#0d0887"
            ],
            [
             0.1111111111111111,
             "#46039f"
            ],
            [
             0.2222222222222222,
             "#7201a8"
            ],
            [
             0.3333333333333333,
             "#9c179e"
            ],
            [
             0.4444444444444444,
             "#bd3786"
            ],
            [
             0.5555555555555556,
             "#d8576b"
            ],
            [
             0.6666666666666666,
             "#ed7953"
            ],
            [
             0.7777777777777778,
             "#fb9f3a"
            ],
            [
             0.8888888888888888,
             "#fdca26"
            ],
            [
             1,
             "#f0f921"
            ]
           ],
           "sequentialminus": [
            [
             0,
             "#0d0887"
            ],
            [
             0.1111111111111111,
             "#46039f"
            ],
            [
             0.2222222222222222,
             "#7201a8"
            ],
            [
             0.3333333333333333,
             "#9c179e"
            ],
            [
             0.4444444444444444,
             "#bd3786"
            ],
            [
             0.5555555555555556,
             "#d8576b"
            ],
            [
             0.6666666666666666,
             "#ed7953"
            ],
            [
             0.7777777777777778,
             "#fb9f3a"
            ],
            [
             0.8888888888888888,
             "#fdca26"
            ],
            [
             1,
             "#f0f921"
            ]
           ]
          },
          "colorway": [
           "#636efa",
           "#EF553B",
           "#00cc96",
           "#ab63fa",
           "#FFA15A",
           "#19d3f3",
           "#FF6692",
           "#B6E880",
           "#FF97FF",
           "#FECB52"
          ],
          "font": {
           "color": "#f2f5fa"
          },
          "geo": {
           "bgcolor": "rgb(17,17,17)",
           "lakecolor": "rgb(17,17,17)",
           "landcolor": "rgb(17,17,17)",
           "showlakes": true,
           "showland": true,
           "subunitcolor": "#506784"
          },
          "hoverlabel": {
           "align": "left"
          },
          "hovermode": "closest",
          "mapbox": {
           "style": "dark"
          },
          "paper_bgcolor": "rgb(17,17,17)",
          "plot_bgcolor": "rgb(17,17,17)",
          "polar": {
           "angularaxis": {
            "gridcolor": "#506784",
            "linecolor": "#506784",
            "ticks": ""
           },
           "bgcolor": "rgb(17,17,17)",
           "radialaxis": {
            "gridcolor": "#506784",
            "linecolor": "#506784",
            "ticks": ""
           }
          },
          "scene": {
           "xaxis": {
            "backgroundcolor": "rgb(17,17,17)",
            "gridcolor": "#506784",
            "gridwidth": 2,
            "linecolor": "#506784",
            "showbackground": true,
            "ticks": "",
            "zerolinecolor": "#C8D4E3"
           },
           "yaxis": {
            "backgroundcolor": "rgb(17,17,17)",
            "gridcolor": "#506784",
            "gridwidth": 2,
            "linecolor": "#506784",
            "showbackground": true,
            "ticks": "",
            "zerolinecolor": "#C8D4E3"
           },
           "zaxis": {
            "backgroundcolor": "rgb(17,17,17)",
            "gridcolor": "#506784",
            "gridwidth": 2,
            "linecolor": "#506784",
            "showbackground": true,
            "ticks": "",
            "zerolinecolor": "#C8D4E3"
           }
          },
          "shapedefaults": {
           "line": {
            "color": "#f2f5fa"
           }
          },
          "sliderdefaults": {
           "bgcolor": "#C8D4E3",
           "bordercolor": "rgb(17,17,17)",
           "borderwidth": 1,
           "tickwidth": 0
          },
          "ternary": {
           "aaxis": {
            "gridcolor": "#506784",
            "linecolor": "#506784",
            "ticks": ""
           },
           "baxis": {
            "gridcolor": "#506784",
            "linecolor": "#506784",
            "ticks": ""
           },
           "bgcolor": "rgb(17,17,17)",
           "caxis": {
            "gridcolor": "#506784",
            "linecolor": "#506784",
            "ticks": ""
           }
          },
          "title": {
           "x": 0.05
          },
          "updatemenudefaults": {
           "bgcolor": "#506784",
           "borderwidth": 0
          },
          "xaxis": {
           "automargin": true,
           "gridcolor": "#283442",
           "linecolor": "#506784",
           "ticks": "",
           "title": {
            "standoff": 15
           },
           "zerolinecolor": "#283442",
           "zerolinewidth": 2
          },
          "yaxis": {
           "automargin": true,
           "gridcolor": "#283442",
           "linecolor": "#506784",
           "ticks": "",
           "title": {
            "standoff": 15
           },
           "zerolinecolor": "#283442",
           "zerolinewidth": 2
          }
         }
        },
        "title": {
         "text": "comparing guess word ranking 1-step vs 2-steps"
        },
        "xaxis": {
         "anchor": "y",
         "domain": [
          0,
          1
         ],
         "title": {
          "text": "1-step rank"
         }
        },
        "yaxis": {
         "anchor": "x",
         "domain": [
          0,
          1
         ],
         "title": {
          "text": "2-steps rank"
         }
        }
       }
      }
     },
     "metadata": {},
     "output_type": "display_data"
    }
   ],
   "source": [
    "# goal create table with words rank for 1-step vs 2-steps\n",
    "df = pd.DataFrame({\n",
    "    \"word\": tse.index,\n",
    "    \"2-steps rank\": np.arange(0,len(tse)),  \n",
    "})\n",
    "df[\"1-step rank\"] = df.word.map({word: i for i, word in enumerate(tse.entropy_step_1.sort_values(ascending=False).index)})"
   ]
  },
  {
   "attachments": {},
   "cell_type": "markdown",
   "metadata": {},
   "source": [
    "**Conclusion**: \n",
    "the figure does show a correlatin between 1-step and 2-steps rank.\n",
    "$K=50$ seems like a reasonable assumption as all top 10 words based on 2 step rank were ranked in the top 50 when only considering one step.\n",
    "\n",
    "### comparing 1-step vs 2-steps entropies"
   ]
  },
  {
   "cell_type": "code",
   "execution_count": 103,
   "metadata": {},
   "outputs": [
    {
     "data": {
      "application/vnd.plotly.v1+json": {
       "config": {
        "plotlyServerURL": "https://plot.ly"
       },
       "data": [
        {
         "customdata": [
          [
           "slane"
          ],
          [
           "slate"
          ],
          [
           "salet"
          ],
          [
           "trace"
          ],
          [
           "crate"
          ],
          [
           "reast"
          ],
          [
           "carle"
          ],
          [
           "carte"
          ],
          [
           "torse"
          ],
          [
           "carse"
          ],
          [
           "trone"
          ],
          [
           "roast"
          ],
          [
           "toile"
          ],
          [
           "soare"
          ],
          [
           "raile"
          ],
          [
           "roate"
          ],
          [
           "stare"
          ],
          [
           "caret"
          ],
          [
           "crane"
          ],
          [
           "stale"
          ],
          [
           "raine"
          ],
          [
           "least"
          ],
          [
           "trine"
          ],
          [
           "snare"
          ],
          [
           "trice"
          ],
          [
           "liane"
          ],
          [
           "irate"
          ],
          [
           "arose"
          ],
          [
           "slart"
          ],
          [
           "saine"
          ],
          [
           "taser"
          ],
          [
           "sorel"
          ],
          [
           "raise"
          ],
          [
           "aline"
          ],
          [
           "stane"
          ],
          [
           "trade"
          ],
          [
           "saner"
          ],
          [
           "artel"
          ],
          [
           "earst"
          ],
          [
           "orate"
          ],
          [
           "react"
          ],
          [
           "strae"
          ],
          [
           "prate"
          ],
          [
           "store"
          ],
          [
           "tares"
          ],
          [
           "ronte"
          ],
          [
           "leant"
          ],
          [
           "alter"
          ],
          [
           "trape"
          ],
          [
           "reist"
          ],
          [
           "ariel"
          ],
          [
           "arise"
          ],
          [
           "taler"
          ],
          [
           "aisle"
          ],
          [
           "rance"
          ],
          [
           "tears"
          ],
          [
           "toise"
          ],
          [
           "alone"
          ],
          [
           "coate"
          ],
          [
           "stire"
          ],
          [
           "saice"
          ],
          [
           "roset"
          ],
          [
           "teals"
          ],
          [
           "resat"
          ],
          [
           "ratel"
          ],
          [
           "alien"
          ],
          [
           "tales"
          ],
          [
           "antre"
          ],
          [
           "scare"
          ],
          [
           "alert"
          ],
          [
           "parle"
          ],
          [
           "cater"
          ],
          [
           "arles"
          ],
          [
           "slier"
          ],
          [
           "seral"
          ],
          [
           "earnt"
          ],
          [
           "peart"
          ],
          [
           "tared"
          ],
          [
           "rates"
          ],
          [
           "learn"
          ],
          [
           "tries"
          ],
          [
           "setal"
          ],
          [
           "reals"
          ],
          [
           "later"
          ],
          [
           "prase"
          ],
          [
           "litre"
          ],
          [
           "parse"
          ],
          [
           "teras"
          ],
          [
           "arets"
          ],
          [
           "saute"
          ],
          [
           "urate"
          ],
          [
           "rales"
          ],
          [
           "paire"
          ],
          [
           "lares"
          ],
          [
           "laser"
          ],
          [
           "stear"
          ],
          [
           "realo"
          ],
          [
           "heart"
          ],
          [
           "oater"
          ],
          [
           "aesir"
          ]
         ],
         "hovertemplate": "1-step entropy=%{x}<br>2-steps entropy=%{y}<br>guess_word=%{customdata[0]}<extra></extra>",
         "legendgroup": "",
         "marker": {
          "color": "#636efa",
          "symbol": "circle"
         },
         "mode": "markers",
         "name": "",
         "orientation": "v",
         "showlegend": false,
         "type": "scatter",
         "x": [
          5.768957321758764,
          5.855819244109516,
          5.836022782092481,
          5.830429108079757,
          5.835215982633285,
          5.8677380208435626,
          5.769364406731746,
          5.7951073349138795,
          5.726482700892362,
          5.765433183401706,
          5.686113422878618,
          5.648431350783489,
          5.692641946500982,
          5.885202744292757,
          5.865153829041267,
          5.884856313732009,
          5.806888622249771,
          5.778206935929555,
          5.741011320165297,
          5.738263819559775,
          5.786193355790539,
          5.751562008954047,
          5.69838819713333,
          5.76867815732596,
          5.634291214967144,
          5.6816745548097725,
          5.8327988809409055,
          5.767804897087285,
          5.6272391374457476,
          5.764656266167477,
          5.755618256159076,
          5.67258931635854,
          5.8783029564931715,
          5.634448068035405,
          5.6598393597373935,
          5.683921221818492,
          5.7339985468456085,
          5.768573927081606,
          5.7601530088707085,
          5.818944424934236,
          5.6965070755494605,
          5.768384619808222,
          5.701327229056841,
          5.610713777559603,
          5.745039006118607,
          5.607063891169985,
          5.683771188478657,
          5.713372336368845,
          5.6563654128545044,
          5.677408486051508,
          5.7745567185431845,
          5.821023459282913,
          5.77310019209081,
          5.635641642534596,
          5.61608648885006,
          5.717448803808186,
          5.635157401024636,
          5.611281973307494,
          5.675158046829918,
          5.640673681439342,
          5.690882248996941,
          5.627155696975342,
          5.6386371244837585,
          5.717735227637837,
          5.732536377972422,
          5.607061114370463,
          5.616883623957787,
          5.679026015182501,
          5.628408586744339,
          5.744211188991762,
          5.6177947876856935,
          5.648077618641169,
          5.632752463826047,
          5.6658273956669785,
          5.739642948359409,
          5.6928746977847595,
          5.6515831845927185,
          5.607019403214284,
          5.655423306236165,
          5.652071208685768,
          5.620930962599998,
          5.6448228293072376,
          5.632460065129893,
          5.707287214774776,
          5.613676798136122,
          5.613892427745471,
          5.630156106670122,
          5.665456407762051,
          5.628428711890658,
          5.622136469693716,
          5.667979715912068,
          5.605508964984526,
          5.650098454191095,
          5.628701509743375,
          5.627018340084701,
          5.647186300930647,
          5.628068076755881,
          5.612255574516925,
          5.630762765224127,
          5.622417910674684
         ],
         "xaxis": "x",
         "y": [
          10.036418588973348,
          10.031766247057412,
          10.016932158643359,
          10.013131321377546,
          10.012573884583702,
          10.01120073147674,
          10.00603843606211,
          9.996985416427256,
          9.996595652459595,
          9.996497263460341,
          9.995702862685189,
          9.995063367884867,
          9.994150151116827,
          9.991507089832998,
          9.990437667639435,
          9.98449930421129,
          9.984305696206327,
          9.976044258018863,
          9.975427624074825,
          9.973112234377346,
          9.97227258104258,
          9.969008307591647,
          9.968084102064314,
          9.96575401588016,
          9.964819040093204,
          9.964177221216787,
          9.963765983286278,
          9.962124385217058,
          9.960703552824036,
          9.957524436375438,
          9.95720390579276,
          9.95545001372533,
          9.953269417187588,
          9.953012228463395,
          9.952806987041683,
          9.952790401608624,
          9.95252116222713,
          9.952482947826857,
          9.952078148871225,
          9.950859533923985,
          9.950855564068338,
          9.950726431054012,
          9.945352262036854,
          9.944515641630602,
          9.944079221690485,
          9.939979174267382,
          9.939859405149075,
          9.939624813411221,
          9.937157497317006,
          9.936755114600816,
          9.935322176624936,
          9.932039698886307,
          9.931951032541367,
          9.9309397387469,
          9.92848972027381,
          9.927482268945713,
          9.92707000554893,
          9.92669080165805,
          9.925255973938615,
          9.924747213627533,
          9.922703305496178,
          9.922660630868862,
          9.91880085307711,
          9.918344081505408,
          9.917798046001604,
          9.917618444031097,
          9.915527836461903,
          9.915365859157305,
          9.914635806654207,
          9.9140556622404,
          9.913863294164257,
          9.913548991563665,
          9.911209182661677,
          9.910835061709852,
          9.909838960501048,
          9.90885996883091,
          9.907247443877564,
          9.906303036964427,
          9.904721789539725,
          9.903740706093316,
          9.903494692254768,
          9.902306343449055,
          9.901403239853712,
          9.89909041173243,
          9.895821627896023,
          9.891798093425816,
          9.891164865939981,
          9.887168948054189,
          9.884954261568176,
          9.884569029612098,
          9.884367245624755,
          9.882494162428285,
          9.879226444994453,
          9.877775566134112,
          9.870669495820081,
          9.862865257432077,
          9.861345984708159,
          9.852839821508624,
          9.85209942175284,
          9.818812001503474
         ],
         "yaxis": "y"
        }
       ],
       "layout": {
        "legend": {
         "tracegroupgap": 0
        },
        "template": {
         "data": {
          "bar": [
           {
            "error_x": {
             "color": "#f2f5fa"
            },
            "error_y": {
             "color": "#f2f5fa"
            },
            "marker": {
             "line": {
              "color": "rgb(17,17,17)",
              "width": 0.5
             },
             "pattern": {
              "fillmode": "overlay",
              "size": 10,
              "solidity": 0.2
             }
            },
            "type": "bar"
           }
          ],
          "barpolar": [
           {
            "marker": {
             "line": {
              "color": "rgb(17,17,17)",
              "width": 0.5
             },
             "pattern": {
              "fillmode": "overlay",
              "size": 10,
              "solidity": 0.2
             }
            },
            "type": "barpolar"
           }
          ],
          "carpet": [
           {
            "aaxis": {
             "endlinecolor": "#A2B1C6",
             "gridcolor": "#506784",
             "linecolor": "#506784",
             "minorgridcolor": "#506784",
             "startlinecolor": "#A2B1C6"
            },
            "baxis": {
             "endlinecolor": "#A2B1C6",
             "gridcolor": "#506784",
             "linecolor": "#506784",
             "minorgridcolor": "#506784",
             "startlinecolor": "#A2B1C6"
            },
            "type": "carpet"
           }
          ],
          "choropleth": [
           {
            "colorbar": {
             "outlinewidth": 0,
             "ticks": ""
            },
            "type": "choropleth"
           }
          ],
          "contour": [
           {
            "colorbar": {
             "outlinewidth": 0,
             "ticks": ""
            },
            "colorscale": [
             [
              0,
              "#0d0887"
             ],
             [
              0.1111111111111111,
              "#46039f"
             ],
             [
              0.2222222222222222,
              "#7201a8"
             ],
             [
              0.3333333333333333,
              "#9c179e"
             ],
             [
              0.4444444444444444,
              "#bd3786"
             ],
             [
              0.5555555555555556,
              "#d8576b"
             ],
             [
              0.6666666666666666,
              "#ed7953"
             ],
             [
              0.7777777777777778,
              "#fb9f3a"
             ],
             [
              0.8888888888888888,
              "#fdca26"
             ],
             [
              1,
              "#f0f921"
             ]
            ],
            "type": "contour"
           }
          ],
          "contourcarpet": [
           {
            "colorbar": {
             "outlinewidth": 0,
             "ticks": ""
            },
            "type": "contourcarpet"
           }
          ],
          "heatmap": [
           {
            "colorbar": {
             "outlinewidth": 0,
             "ticks": ""
            },
            "colorscale": [
             [
              0,
              "#0d0887"
             ],
             [
              0.1111111111111111,
              "#46039f"
             ],
             [
              0.2222222222222222,
              "#7201a8"
             ],
             [
              0.3333333333333333,
              "#9c179e"
             ],
             [
              0.4444444444444444,
              "#bd3786"
             ],
             [
              0.5555555555555556,
              "#d8576b"
             ],
             [
              0.6666666666666666,
              "#ed7953"
             ],
             [
              0.7777777777777778,
              "#fb9f3a"
             ],
             [
              0.8888888888888888,
              "#fdca26"
             ],
             [
              1,
              "#f0f921"
             ]
            ],
            "type": "heatmap"
           }
          ],
          "heatmapgl": [
           {
            "colorbar": {
             "outlinewidth": 0,
             "ticks": ""
            },
            "colorscale": [
             [
              0,
              "#0d0887"
             ],
             [
              0.1111111111111111,
              "#46039f"
             ],
             [
              0.2222222222222222,
              "#7201a8"
             ],
             [
              0.3333333333333333,
              "#9c179e"
             ],
             [
              0.4444444444444444,
              "#bd3786"
             ],
             [
              0.5555555555555556,
              "#d8576b"
             ],
             [
              0.6666666666666666,
              "#ed7953"
             ],
             [
              0.7777777777777778,
              "#fb9f3a"
             ],
             [
              0.8888888888888888,
              "#fdca26"
             ],
             [
              1,
              "#f0f921"
             ]
            ],
            "type": "heatmapgl"
           }
          ],
          "histogram": [
           {
            "marker": {
             "pattern": {
              "fillmode": "overlay",
              "size": 10,
              "solidity": 0.2
             }
            },
            "type": "histogram"
           }
          ],
          "histogram2d": [
           {
            "colorbar": {
             "outlinewidth": 0,
             "ticks": ""
            },
            "colorscale": [
             [
              0,
              "#0d0887"
             ],
             [
              0.1111111111111111,
              "#46039f"
             ],
             [
              0.2222222222222222,
              "#7201a8"
             ],
             [
              0.3333333333333333,
              "#9c179e"
             ],
             [
              0.4444444444444444,
              "#bd3786"
             ],
             [
              0.5555555555555556,
              "#d8576b"
             ],
             [
              0.6666666666666666,
              "#ed7953"
             ],
             [
              0.7777777777777778,
              "#fb9f3a"
             ],
             [
              0.8888888888888888,
              "#fdca26"
             ],
             [
              1,
              "#f0f921"
             ]
            ],
            "type": "histogram2d"
           }
          ],
          "histogram2dcontour": [
           {
            "colorbar": {
             "outlinewidth": 0,
             "ticks": ""
            },
            "colorscale": [
             [
              0,
              "#0d0887"
             ],
             [
              0.1111111111111111,
              "#46039f"
             ],
             [
              0.2222222222222222,
              "#7201a8"
             ],
             [
              0.3333333333333333,
              "#9c179e"
             ],
             [
              0.4444444444444444,
              "#bd3786"
             ],
             [
              0.5555555555555556,
              "#d8576b"
             ],
             [
              0.6666666666666666,
              "#ed7953"
             ],
             [
              0.7777777777777778,
              "#fb9f3a"
             ],
             [
              0.8888888888888888,
              "#fdca26"
             ],
             [
              1,
              "#f0f921"
             ]
            ],
            "type": "histogram2dcontour"
           }
          ],
          "mesh3d": [
           {
            "colorbar": {
             "outlinewidth": 0,
             "ticks": ""
            },
            "type": "mesh3d"
           }
          ],
          "parcoords": [
           {
            "line": {
             "colorbar": {
              "outlinewidth": 0,
              "ticks": ""
             }
            },
            "type": "parcoords"
           }
          ],
          "pie": [
           {
            "automargin": true,
            "type": "pie"
           }
          ],
          "scatter": [
           {
            "marker": {
             "line": {
              "color": "#283442"
             }
            },
            "type": "scatter"
           }
          ],
          "scatter3d": [
           {
            "line": {
             "colorbar": {
              "outlinewidth": 0,
              "ticks": ""
             }
            },
            "marker": {
             "colorbar": {
              "outlinewidth": 0,
              "ticks": ""
             }
            },
            "type": "scatter3d"
           }
          ],
          "scattercarpet": [
           {
            "marker": {
             "colorbar": {
              "outlinewidth": 0,
              "ticks": ""
             }
            },
            "type": "scattercarpet"
           }
          ],
          "scattergeo": [
           {
            "marker": {
             "colorbar": {
              "outlinewidth": 0,
              "ticks": ""
             }
            },
            "type": "scattergeo"
           }
          ],
          "scattergl": [
           {
            "marker": {
             "line": {
              "color": "#283442"
             }
            },
            "type": "scattergl"
           }
          ],
          "scattermapbox": [
           {
            "marker": {
             "colorbar": {
              "outlinewidth": 0,
              "ticks": ""
             }
            },
            "type": "scattermapbox"
           }
          ],
          "scatterpolar": [
           {
            "marker": {
             "colorbar": {
              "outlinewidth": 0,
              "ticks": ""
             }
            },
            "type": "scatterpolar"
           }
          ],
          "scatterpolargl": [
           {
            "marker": {
             "colorbar": {
              "outlinewidth": 0,
              "ticks": ""
             }
            },
            "type": "scatterpolargl"
           }
          ],
          "scatterternary": [
           {
            "marker": {
             "colorbar": {
              "outlinewidth": 0,
              "ticks": ""
             }
            },
            "type": "scatterternary"
           }
          ],
          "surface": [
           {
            "colorbar": {
             "outlinewidth": 0,
             "ticks": ""
            },
            "colorscale": [
             [
              0,
              "#0d0887"
             ],
             [
              0.1111111111111111,
              "#46039f"
             ],
             [
              0.2222222222222222,
              "#7201a8"
             ],
             [
              0.3333333333333333,
              "#9c179e"
             ],
             [
              0.4444444444444444,
              "#bd3786"
             ],
             [
              0.5555555555555556,
              "#d8576b"
             ],
             [
              0.6666666666666666,
              "#ed7953"
             ],
             [
              0.7777777777777778,
              "#fb9f3a"
             ],
             [
              0.8888888888888888,
              "#fdca26"
             ],
             [
              1,
              "#f0f921"
             ]
            ],
            "type": "surface"
           }
          ],
          "table": [
           {
            "cells": {
             "fill": {
              "color": "#506784"
             },
             "line": {
              "color": "rgb(17,17,17)"
             }
            },
            "header": {
             "fill": {
              "color": "#2a3f5f"
             },
             "line": {
              "color": "rgb(17,17,17)"
             }
            },
            "type": "table"
           }
          ]
         },
         "layout": {
          "annotationdefaults": {
           "arrowcolor": "#f2f5fa",
           "arrowhead": 0,
           "arrowwidth": 1
          },
          "autotypenumbers": "strict",
          "coloraxis": {
           "colorbar": {
            "outlinewidth": 0,
            "ticks": ""
           }
          },
          "colorscale": {
           "diverging": [
            [
             0,
             "#8e0152"
            ],
            [
             0.1,
             "#c51b7d"
            ],
            [
             0.2,
             "#de77ae"
            ],
            [
             0.3,
             "#f1b6da"
            ],
            [
             0.4,
             "#fde0ef"
            ],
            [
             0.5,
             "#f7f7f7"
            ],
            [
             0.6,
             "#e6f5d0"
            ],
            [
             0.7,
             "#b8e186"
            ],
            [
             0.8,
             "#7fbc41"
            ],
            [
             0.9,
             "#4d9221"
            ],
            [
             1,
             "#276419"
            ]
           ],
           "sequential": [
            [
             0,
             "#0d0887"
            ],
            [
             0.1111111111111111,
             "#46039f"
            ],
            [
             0.2222222222222222,
             "#7201a8"
            ],
            [
             0.3333333333333333,
             "#9c179e"
            ],
            [
             0.4444444444444444,
             "#bd3786"
            ],
            [
             0.5555555555555556,
             "#d8576b"
            ],
            [
             0.6666666666666666,
             "#ed7953"
            ],
            [
             0.7777777777777778,
             "#fb9f3a"
            ],
            [
             0.8888888888888888,
             "#fdca26"
            ],
            [
             1,
             "#f0f921"
            ]
           ],
           "sequentialminus": [
            [
             0,
             "#0d0887"
            ],
            [
             0.1111111111111111,
             "#46039f"
            ],
            [
             0.2222222222222222,
             "#7201a8"
            ],
            [
             0.3333333333333333,
             "#9c179e"
            ],
            [
             0.4444444444444444,
             "#bd3786"
            ],
            [
             0.5555555555555556,
             "#d8576b"
            ],
            [
             0.6666666666666666,
             "#ed7953"
            ],
            [
             0.7777777777777778,
             "#fb9f3a"
            ],
            [
             0.8888888888888888,
             "#fdca26"
            ],
            [
             1,
             "#f0f921"
            ]
           ]
          },
          "colorway": [
           "#636efa",
           "#EF553B",
           "#00cc96",
           "#ab63fa",
           "#FFA15A",
           "#19d3f3",
           "#FF6692",
           "#B6E880",
           "#FF97FF",
           "#FECB52"
          ],
          "font": {
           "color": "#f2f5fa"
          },
          "geo": {
           "bgcolor": "rgb(17,17,17)",
           "lakecolor": "rgb(17,17,17)",
           "landcolor": "rgb(17,17,17)",
           "showlakes": true,
           "showland": true,
           "subunitcolor": "#506784"
          },
          "hoverlabel": {
           "align": "left"
          },
          "hovermode": "closest",
          "mapbox": {
           "style": "dark"
          },
          "paper_bgcolor": "rgb(17,17,17)",
          "plot_bgcolor": "rgb(17,17,17)",
          "polar": {
           "angularaxis": {
            "gridcolor": "#506784",
            "linecolor": "#506784",
            "ticks": ""
           },
           "bgcolor": "rgb(17,17,17)",
           "radialaxis": {
            "gridcolor": "#506784",
            "linecolor": "#506784",
            "ticks": ""
           }
          },
          "scene": {
           "xaxis": {
            "backgroundcolor": "rgb(17,17,17)",
            "gridcolor": "#506784",
            "gridwidth": 2,
            "linecolor": "#506784",
            "showbackground": true,
            "ticks": "",
            "zerolinecolor": "#C8D4E3"
           },
           "yaxis": {
            "backgroundcolor": "rgb(17,17,17)",
            "gridcolor": "#506784",
            "gridwidth": 2,
            "linecolor": "#506784",
            "showbackground": true,
            "ticks": "",
            "zerolinecolor": "#C8D4E3"
           },
           "zaxis": {
            "backgroundcolor": "rgb(17,17,17)",
            "gridcolor": "#506784",
            "gridwidth": 2,
            "linecolor": "#506784",
            "showbackground": true,
            "ticks": "",
            "zerolinecolor": "#C8D4E3"
           }
          },
          "shapedefaults": {
           "line": {
            "color": "#f2f5fa"
           }
          },
          "sliderdefaults": {
           "bgcolor": "#C8D4E3",
           "bordercolor": "rgb(17,17,17)",
           "borderwidth": 1,
           "tickwidth": 0
          },
          "ternary": {
           "aaxis": {
            "gridcolor": "#506784",
            "linecolor": "#506784",
            "ticks": ""
           },
           "baxis": {
            "gridcolor": "#506784",
            "linecolor": "#506784",
            "ticks": ""
           },
           "bgcolor": "rgb(17,17,17)",
           "caxis": {
            "gridcolor": "#506784",
            "linecolor": "#506784",
            "ticks": ""
           }
          },
          "title": {
           "x": 0.05
          },
          "updatemenudefaults": {
           "bgcolor": "#506784",
           "borderwidth": 0
          },
          "xaxis": {
           "automargin": true,
           "gridcolor": "#283442",
           "linecolor": "#506784",
           "ticks": "",
           "title": {
            "standoff": 15
           },
           "zerolinecolor": "#283442",
           "zerolinewidth": 2
          },
          "yaxis": {
           "automargin": true,
           "gridcolor": "#283442",
           "linecolor": "#506784",
           "ticks": "",
           "title": {
            "standoff": 15
           },
           "zerolinecolor": "#283442",
           "zerolinewidth": 2
          }
         }
        },
        "title": {
         "text": "1-step vs 2-steps entropies"
        },
        "xaxis": {
         "anchor": "y",
         "domain": [
          0,
          1
         ],
         "title": {
          "text": "1-step entropy"
         }
        },
        "yaxis": {
         "anchor": "x",
         "domain": [
          0,
          1
         ],
         "title": {
          "text": "2-steps entropy"
         }
        }
       }
      }
     },
     "metadata": {},
     "output_type": "display_data"
    }
   ],
   "source": [
    "fig = px.scatter(\n",
    "    tse.reset_index().rename({\"entropy_step_1\": \"1-step entropy\", \"entropy_total\": \"2-steps entropy\"}, axis=1), \n",
    "    x=\"1-step entropy\", \n",
    "    y=\"2-steps entropy\", \n",
    "    template=\"plotly_dark\", \n",
    "    hover_data=[\"1-step entropy\", \"2-steps entropy\", \"guess_word\"],\n",
    "    title=\"1-step vs 2-steps entropies\")\n",
    "fig.show()\n",
    "fig.write_image(IMG_PATH / \"1_vs_2_steps_entropy_comparison.png\")"
   ]
  },
  {
   "attachments": {},
   "cell_type": "markdown",
   "metadata": {},
   "source": [
    "### Play game with TwoStepPlayer"
   ]
  },
  {
   "cell_type": "code",
   "execution_count": 38,
   "metadata": {},
   "outputs": [
    {
     "data": {
      "text/html": [
       "<font size=\"7\" style=\"font-family:Monospace\"><span style=\"background-color:black\">S</span><span style=\"background-color:black\">L</span><span style=\"background-color:#b89d02\">A</span><span style=\"background-color:black\">N</span><span style=\"background-color:#b89d02\">E</span>"
      ],
      "text/plain": [
       "<IPython.core.display.HTML object>"
      ]
     },
     "metadata": {},
     "output_type": "display_data"
    },
    {
     "data": {
      "text/html": [
       "<font size=\"7\" style=\"font-family:Monospace\"><span style=\"background-color:#098710\">M</span><span style=\"background-color:black\">P</span><span style=\"background-color:#b89d02\">R</span><span style=\"background-color:#098710\">E</span><span style=\"background-color:black\">T</span>"
      ],
      "text/plain": [
       "<IPython.core.display.HTML object>"
      ]
     },
     "metadata": {},
     "output_type": "display_data"
    },
    {
     "data": {
      "text/html": [
       "<font size=\"7\" style=\"font-family:Monospace\"><span style=\"background-color:#098710\">M</span><span style=\"background-color:#098710\">A</span><span style=\"background-color:#098710\">K</span><span style=\"background-color:#098710\">E</span><span style=\"background-color:#098710\">R</span>"
      ],
      "text/plain": [
       "<IPython.core.display.HTML object>"
      ]
     },
     "metadata": {},
     "output_type": "display_data"
    },
    {
     "data": {
      "text/plain": [
       "WordleGame(target_word='MAKER', max_guesses=6, number_of_guesses=3, is_over=True, solved=True)"
      ]
     },
     "execution_count": 38,
     "metadata": {},
     "output_type": "execute_result"
    }
   ],
   "source": [
    "K = 20\n",
    "tsp = wd.player.TwoStepPlayer(psm_v2, starting_guess=\"slane\", max_first_guesses=K)\n",
    "game = wd.WordleGame(\"maker\")\n",
    "tsp.start_new_game()\n",
    "wd.player.play_game(tsp, game, quiet=False)"
   ]
  },
  {
   "cell_type": "code",
   "execution_count": 39,
   "metadata": {},
   "outputs": [
    {
     "data": {
      "text/html": [
       "<font size=\"7\" style=\"font-family:Monospace\"><span style=\"background-color:black\">S</span><span style=\"background-color:black\">O</span><span style=\"background-color:#b89d02\">A</span><span style=\"background-color:#b89d02\">R</span><span style=\"background-color:#b89d02\">E</span>"
      ],
      "text/plain": [
       "<IPython.core.display.HTML object>"
      ]
     },
     "metadata": {},
     "output_type": "display_data"
    },
    {
     "data": {
      "text/html": [
       "<font size=\"7\" style=\"font-family:Monospace\"><span style=\"background-color:black\">T</span><span style=\"background-color:#098710\">A</span><span style=\"background-color:black\">L</span><span style=\"background-color:black\">A</span><span style=\"background-color:#098710\">R</span>"
      ],
      "text/plain": [
       "<IPython.core.display.HTML object>"
      ]
     },
     "metadata": {},
     "output_type": "display_data"
    },
    {
     "data": {
      "text/html": [
       "<font size=\"7\" style=\"font-family:Monospace\"><span style=\"background-color:black\">P</span><span style=\"background-color:black\">I</span><span style=\"background-color:black\">G</span><span style=\"background-color:#b89d02\">M</span><span style=\"background-color:black\">Y</span>"
      ],
      "text/plain": [
       "<IPython.core.display.HTML object>"
      ]
     },
     "metadata": {},
     "output_type": "display_data"
    },
    {
     "data": {
      "text/html": [
       "<font size=\"7\" style=\"font-family:Monospace\"><span style=\"background-color:#098710\">M</span><span style=\"background-color:#098710\">A</span><span style=\"background-color:#098710\">K</span><span style=\"background-color:#098710\">E</span><span style=\"background-color:#098710\">R</span>"
      ],
      "text/plain": [
       "<IPython.core.display.HTML object>"
      ]
     },
     "metadata": {},
     "output_type": "display_data"
    },
    {
     "data": {
      "text/plain": [
       "WordleGame(target_word='MAKER', max_guesses=6, number_of_guesses=4, is_over=True, solved=True)"
      ]
     },
     "execution_count": 39,
     "metadata": {},
     "output_type": "execute_result"
    }
   ],
   "source": [
    "tsp = wd.player.GreedyPlayer(psm_v2)\n",
    "game = wd.WordleGame(\"maker\")\n",
    "tsp.start_new_game()\n",
    "wd.player.play_game(tsp, game, quiet=False)"
   ]
  },
  {
   "cell_type": "markdown",
   "metadata": {},
   "source": [
    "## Evaluating v3\n"
   ]
  },
  {
   "cell_type": "code",
   "execution_count": null,
   "metadata": {},
   "outputs": [
    {
     "name": "stdout",
     "output_type": "stream",
     "text": [
      "EvalResults(size=2,309, avg_score=3.47, dist=[   0    0   39 1174 1057   39    0], success_rate=100.0%)\n",
      "results saved in `../data/outputs/eval_results_v3.json`\n"
     ]
    },
    {
     "data": {
      "application/vnd.plotly.v1+json": {
       "config": {
        "plotlyServerURL": "https://plot.ly"
       },
       "data": [
        {
         "alignmentgroup": "True",
         "hovertemplate": "game score (points)=%{x}<br>number of evaluated games=%{y}<extra></extra>",
         "legendgroup": "",
         "marker": {
          "color": "#636efa",
          "pattern": {
           "shape": ""
          }
         },
         "name": "",
         "offsetgroup": "",
         "orientation": "v",
         "showlegend": false,
         "textposition": "auto",
         "type": "bar",
         "x": [
          0,
          1,
          2,
          3,
          4,
          5,
          6
         ],
         "xaxis": "x",
         "y": [
          0,
          0,
          39,
          1174,
          1057,
          39,
          0
         ],
         "yaxis": "y"
        }
       ],
       "layout": {
        "barmode": "relative",
        "legend": {
         "tracegroupgap": 0
        },
        "template": {
         "data": {
          "bar": [
           {
            "error_x": {
             "color": "#f2f5fa"
            },
            "error_y": {
             "color": "#f2f5fa"
            },
            "marker": {
             "line": {
              "color": "rgb(17,17,17)",
              "width": 0.5
             },
             "pattern": {
              "fillmode": "overlay",
              "size": 10,
              "solidity": 0.2
             }
            },
            "type": "bar"
           }
          ],
          "barpolar": [
           {
            "marker": {
             "line": {
              "color": "rgb(17,17,17)",
              "width": 0.5
             },
             "pattern": {
              "fillmode": "overlay",
              "size": 10,
              "solidity": 0.2
             }
            },
            "type": "barpolar"
           }
          ],
          "carpet": [
           {
            "aaxis": {
             "endlinecolor": "#A2B1C6",
             "gridcolor": "#506784",
             "linecolor": "#506784",
             "minorgridcolor": "#506784",
             "startlinecolor": "#A2B1C6"
            },
            "baxis": {
             "endlinecolor": "#A2B1C6",
             "gridcolor": "#506784",
             "linecolor": "#506784",
             "minorgridcolor": "#506784",
             "startlinecolor": "#A2B1C6"
            },
            "type": "carpet"
           }
          ],
          "choropleth": [
           {
            "colorbar": {
             "outlinewidth": 0,
             "ticks": ""
            },
            "type": "choropleth"
           }
          ],
          "contour": [
           {
            "colorbar": {
             "outlinewidth": 0,
             "ticks": ""
            },
            "colorscale": [
             [
              0,
              "#0d0887"
             ],
             [
              0.1111111111111111,
              "#46039f"
             ],
             [
              0.2222222222222222,
              "#7201a8"
             ],
             [
              0.3333333333333333,
              "#9c179e"
             ],
             [
              0.4444444444444444,
              "#bd3786"
             ],
             [
              0.5555555555555556,
              "#d8576b"
             ],
             [
              0.6666666666666666,
              "#ed7953"
             ],
             [
              0.7777777777777778,
              "#fb9f3a"
             ],
             [
              0.8888888888888888,
              "#fdca26"
             ],
             [
              1,
              "#f0f921"
             ]
            ],
            "type": "contour"
           }
          ],
          "contourcarpet": [
           {
            "colorbar": {
             "outlinewidth": 0,
             "ticks": ""
            },
            "type": "contourcarpet"
           }
          ],
          "heatmap": [
           {
            "colorbar": {
             "outlinewidth": 0,
             "ticks": ""
            },
            "colorscale": [
             [
              0,
              "#0d0887"
             ],
             [
              0.1111111111111111,
              "#46039f"
             ],
             [
              0.2222222222222222,
              "#7201a8"
             ],
             [
              0.3333333333333333,
              "#9c179e"
             ],
             [
              0.4444444444444444,
              "#bd3786"
             ],
             [
              0.5555555555555556,
              "#d8576b"
             ],
             [
              0.6666666666666666,
              "#ed7953"
             ],
             [
              0.7777777777777778,
              "#fb9f3a"
             ],
             [
              0.8888888888888888,
              "#fdca26"
             ],
             [
              1,
              "#f0f921"
             ]
            ],
            "type": "heatmap"
           }
          ],
          "heatmapgl": [
           {
            "colorbar": {
             "outlinewidth": 0,
             "ticks": ""
            },
            "colorscale": [
             [
              0,
              "#0d0887"
             ],
             [
              0.1111111111111111,
              "#46039f"
             ],
             [
              0.2222222222222222,
              "#7201a8"
             ],
             [
              0.3333333333333333,
              "#9c179e"
             ],
             [
              0.4444444444444444,
              "#bd3786"
             ],
             [
              0.5555555555555556,
              "#d8576b"
             ],
             [
              0.6666666666666666,
              "#ed7953"
             ],
             [
              0.7777777777777778,
              "#fb9f3a"
             ],
             [
              0.8888888888888888,
              "#fdca26"
             ],
             [
              1,
              "#f0f921"
             ]
            ],
            "type": "heatmapgl"
           }
          ],
          "histogram": [
           {
            "marker": {
             "pattern": {
              "fillmode": "overlay",
              "size": 10,
              "solidity": 0.2
             }
            },
            "type": "histogram"
           }
          ],
          "histogram2d": [
           {
            "colorbar": {
             "outlinewidth": 0,
             "ticks": ""
            },
            "colorscale": [
             [
              0,
              "#0d0887"
             ],
             [
              0.1111111111111111,
              "#46039f"
             ],
             [
              0.2222222222222222,
              "#7201a8"
             ],
             [
              0.3333333333333333,
              "#9c179e"
             ],
             [
              0.4444444444444444,
              "#bd3786"
             ],
             [
              0.5555555555555556,
              "#d8576b"
             ],
             [
              0.6666666666666666,
              "#ed7953"
             ],
             [
              0.7777777777777778,
              "#fb9f3a"
             ],
             [
              0.8888888888888888,
              "#fdca26"
             ],
             [
              1,
              "#f0f921"
             ]
            ],
            "type": "histogram2d"
           }
          ],
          "histogram2dcontour": [
           {
            "colorbar": {
             "outlinewidth": 0,
             "ticks": ""
            },
            "colorscale": [
             [
              0,
              "#0d0887"
             ],
             [
              0.1111111111111111,
              "#46039f"
             ],
             [
              0.2222222222222222,
              "#7201a8"
             ],
             [
              0.3333333333333333,
              "#9c179e"
             ],
             [
              0.4444444444444444,
              "#bd3786"
             ],
             [
              0.5555555555555556,
              "#d8576b"
             ],
             [
              0.6666666666666666,
              "#ed7953"
             ],
             [
              0.7777777777777778,
              "#fb9f3a"
             ],
             [
              0.8888888888888888,
              "#fdca26"
             ],
             [
              1,
              "#f0f921"
             ]
            ],
            "type": "histogram2dcontour"
           }
          ],
          "mesh3d": [
           {
            "colorbar": {
             "outlinewidth": 0,
             "ticks": ""
            },
            "type": "mesh3d"
           }
          ],
          "parcoords": [
           {
            "line": {
             "colorbar": {
              "outlinewidth": 0,
              "ticks": ""
             }
            },
            "type": "parcoords"
           }
          ],
          "pie": [
           {
            "automargin": true,
            "type": "pie"
           }
          ],
          "scatter": [
           {
            "marker": {
             "line": {
              "color": "#283442"
             }
            },
            "type": "scatter"
           }
          ],
          "scatter3d": [
           {
            "line": {
             "colorbar": {
              "outlinewidth": 0,
              "ticks": ""
             }
            },
            "marker": {
             "colorbar": {
              "outlinewidth": 0,
              "ticks": ""
             }
            },
            "type": "scatter3d"
           }
          ],
          "scattercarpet": [
           {
            "marker": {
             "colorbar": {
              "outlinewidth": 0,
              "ticks": ""
             }
            },
            "type": "scattercarpet"
           }
          ],
          "scattergeo": [
           {
            "marker": {
             "colorbar": {
              "outlinewidth": 0,
              "ticks": ""
             }
            },
            "type": "scattergeo"
           }
          ],
          "scattergl": [
           {
            "marker": {
             "line": {
              "color": "#283442"
             }
            },
            "type": "scattergl"
           }
          ],
          "scattermapbox": [
           {
            "marker": {
             "colorbar": {
              "outlinewidth": 0,
              "ticks": ""
             }
            },
            "type": "scattermapbox"
           }
          ],
          "scatterpolar": [
           {
            "marker": {
             "colorbar": {
              "outlinewidth": 0,
              "ticks": ""
             }
            },
            "type": "scatterpolar"
           }
          ],
          "scatterpolargl": [
           {
            "marker": {
             "colorbar": {
              "outlinewidth": 0,
              "ticks": ""
             }
            },
            "type": "scatterpolargl"
           }
          ],
          "scatterternary": [
           {
            "marker": {
             "colorbar": {
              "outlinewidth": 0,
              "ticks": ""
             }
            },
            "type": "scatterternary"
           }
          ],
          "surface": [
           {
            "colorbar": {
             "outlinewidth": 0,
             "ticks": ""
            },
            "colorscale": [
             [
              0,
              "#0d0887"
             ],
             [
              0.1111111111111111,
              "#46039f"
             ],
             [
              0.2222222222222222,
              "#7201a8"
             ],
             [
              0.3333333333333333,
              "#9c179e"
             ],
             [
              0.4444444444444444,
              "#bd3786"
             ],
             [
              0.5555555555555556,
              "#d8576b"
             ],
             [
              0.6666666666666666,
              "#ed7953"
             ],
             [
              0.7777777777777778,
              "#fb9f3a"
             ],
             [
              0.8888888888888888,
              "#fdca26"
             ],
             [
              1,
              "#f0f921"
             ]
            ],
            "type": "surface"
           }
          ],
          "table": [
           {
            "cells": {
             "fill": {
              "color": "#506784"
             },
             "line": {
              "color": "rgb(17,17,17)"
             }
            },
            "header": {
             "fill": {
              "color": "#2a3f5f"
             },
             "line": {
              "color": "rgb(17,17,17)"
             }
            },
            "type": "table"
           }
          ]
         },
         "layout": {
          "annotationdefaults": {
           "arrowcolor": "#f2f5fa",
           "arrowhead": 0,
           "arrowwidth": 1
          },
          "autotypenumbers": "strict",
          "coloraxis": {
           "colorbar": {
            "outlinewidth": 0,
            "ticks": ""
           }
          },
          "colorscale": {
           "diverging": [
            [
             0,
             "#8e0152"
            ],
            [
             0.1,
             "#c51b7d"
            ],
            [
             0.2,
             "#de77ae"
            ],
            [
             0.3,
             "#f1b6da"
            ],
            [
             0.4,
             "#fde0ef"
            ],
            [
             0.5,
             "#f7f7f7"
            ],
            [
             0.6,
             "#e6f5d0"
            ],
            [
             0.7,
             "#b8e186"
            ],
            [
             0.8,
             "#7fbc41"
            ],
            [
             0.9,
             "#4d9221"
            ],
            [
             1,
             "#276419"
            ]
           ],
           "sequential": [
            [
             0,
             "#0d0887"
            ],
            [
             0.1111111111111111,
             "#46039f"
            ],
            [
             0.2222222222222222,
             "#7201a8"
            ],
            [
             0.3333333333333333,
             "#9c179e"
            ],
            [
             0.4444444444444444,
             "#bd3786"
            ],
            [
             0.5555555555555556,
             "#d8576b"
            ],
            [
             0.6666666666666666,
             "#ed7953"
            ],
            [
             0.7777777777777778,
             "#fb9f3a"
            ],
            [
             0.8888888888888888,
             "#fdca26"
            ],
            [
             1,
             "#f0f921"
            ]
           ],
           "sequentialminus": [
            [
             0,
             "#0d0887"
            ],
            [
             0.1111111111111111,
             "#46039f"
            ],
            [
             0.2222222222222222,
             "#7201a8"
            ],
            [
             0.3333333333333333,
             "#9c179e"
            ],
            [
             0.4444444444444444,
             "#bd3786"
            ],
            [
             0.5555555555555556,
             "#d8576b"
            ],
            [
             0.6666666666666666,
             "#ed7953"
            ],
            [
             0.7777777777777778,
             "#fb9f3a"
            ],
            [
             0.8888888888888888,
             "#fdca26"
            ],
            [
             1,
             "#f0f921"
            ]
           ]
          },
          "colorway": [
           "#636efa",
           "#EF553B",
           "#00cc96",
           "#ab63fa",
           "#FFA15A",
           "#19d3f3",
           "#FF6692",
           "#B6E880",
           "#FF97FF",
           "#FECB52"
          ],
          "font": {
           "color": "#f2f5fa"
          },
          "geo": {
           "bgcolor": "rgb(17,17,17)",
           "lakecolor": "rgb(17,17,17)",
           "landcolor": "rgb(17,17,17)",
           "showlakes": true,
           "showland": true,
           "subunitcolor": "#506784"
          },
          "hoverlabel": {
           "align": "left"
          },
          "hovermode": "closest",
          "mapbox": {
           "style": "dark"
          },
          "paper_bgcolor": "rgb(17,17,17)",
          "plot_bgcolor": "rgb(17,17,17)",
          "polar": {
           "angularaxis": {
            "gridcolor": "#506784",
            "linecolor": "#506784",
            "ticks": ""
           },
           "bgcolor": "rgb(17,17,17)",
           "radialaxis": {
            "gridcolor": "#506784",
            "linecolor": "#506784",
            "ticks": ""
           }
          },
          "scene": {
           "xaxis": {
            "backgroundcolor": "rgb(17,17,17)",
            "gridcolor": "#506784",
            "gridwidth": 2,
            "linecolor": "#506784",
            "showbackground": true,
            "ticks": "",
            "zerolinecolor": "#C8D4E3"
           },
           "yaxis": {
            "backgroundcolor": "rgb(17,17,17)",
            "gridcolor": "#506784",
            "gridwidth": 2,
            "linecolor": "#506784",
            "showbackground": true,
            "ticks": "",
            "zerolinecolor": "#C8D4E3"
           },
           "zaxis": {
            "backgroundcolor": "rgb(17,17,17)",
            "gridcolor": "#506784",
            "gridwidth": 2,
            "linecolor": "#506784",
            "showbackground": true,
            "ticks": "",
            "zerolinecolor": "#C8D4E3"
           }
          },
          "shapedefaults": {
           "line": {
            "color": "#f2f5fa"
           }
          },
          "sliderdefaults": {
           "bgcolor": "#C8D4E3",
           "bordercolor": "rgb(17,17,17)",
           "borderwidth": 1,
           "tickwidth": 0
          },
          "ternary": {
           "aaxis": {
            "gridcolor": "#506784",
            "linecolor": "#506784",
            "ticks": ""
           },
           "baxis": {
            "gridcolor": "#506784",
            "linecolor": "#506784",
            "ticks": ""
           },
           "bgcolor": "rgb(17,17,17)",
           "caxis": {
            "gridcolor": "#506784",
            "linecolor": "#506784",
            "ticks": ""
           }
          },
          "title": {
           "x": 0.05
          },
          "updatemenudefaults": {
           "bgcolor": "#506784",
           "borderwidth": 0
          },
          "xaxis": {
           "automargin": true,
           "gridcolor": "#283442",
           "linecolor": "#506784",
           "ticks": "",
           "title": {
            "standoff": 15
           },
           "zerolinecolor": "#283442",
           "zerolinewidth": 2
          },
          "yaxis": {
           "automargin": true,
           "gridcolor": "#283442",
           "linecolor": "#506784",
           "ticks": "",
           "title": {
            "standoff": 15
           },
           "zerolinecolor": "#283442",
           "zerolinewidth": 2
          }
         }
        },
        "title": {
         "text": "v3 - strong prior on potential solutions + 2 step look-ahead<br>avg. score: 3.47<br>success rate: 100%"
        },
        "xaxis": {
         "anchor": "y",
         "domain": [
          0,
          1
         ],
         "title": {
          "text": "game score (points)"
         }
        },
        "yaxis": {
         "anchor": "x",
         "domain": [
          0,
          1
         ],
         "range": [
          0,
          2309
         ],
         "title": {
          "text": "number of evaluated games"
         }
        }
       }
      }
     },
     "metadata": {},
     "output_type": "display_data"
    }
   ],
   "source": [
    "config = {\n",
    "    \"player\": wd.player.TwoStepPlayer(\n",
    "        starting_psm=psm_v2, \n",
    "        starting_guess=\"slane\", \n",
    "        max_first_guesses=20),\n",
    "    \"path_to_eval_words_list\": DATA_PATH / \"raw/possible_words.txt\",\n",
    "    \"path_to_json_output\": DATA_PATH / \"outputs/eval_results_v3.json\",\n",
    "    \"fig_title\": \"v3 - strong prior on potential solutions + 2 step look-ahead\",\n",
    "    \"fig_name\": IMG_PATH / \"eval_v3.png\",\n",
    "}\n",
    "\n",
    "results_v3, fig = wd.eval.run_eval_from_config(config)"
   ]
  },
  {
   "cell_type": "markdown",
   "metadata": {},
   "source": [
    "## Confusion matrix between v2 and v3"
   ]
  },
  {
   "cell_type": "code",
   "execution_count": null,
   "metadata": {},
   "outputs": [],
   "source": [
    "# reload\n",
    "results_v2 = wd.eval.EvalResults.from_json(\"../data/outputs/eval_results_v2.json\")\n",
    "results_v3 = wd.eval.EvalResults.from_json(\"../data/outputs/eval_results_v3.json\")"
   ]
  },
  {
   "cell_type": "code",
   "execution_count": null,
   "metadata": {},
   "outputs": [
    {
     "data": {
      "image/png": "[encoded data removed]",
      "text/plain": [
       "<Figure size 640x480 with 1 Axes>"
      ]
     },
     "metadata": {},
     "output_type": "display_data"
    }
   ],
   "source": [
    "\n",
    "cm_fig = wd.display.plot_confusion_matrix(results_v2, results_v3, \"v2\", \"v3\")\n",
    "\n",
    "plt.savefig(IMG_PATH / \"confusion_matrix_1_vs_2_steps.png\");"
   ]
  },
  {
   "attachments": {},
   "cell_type": "markdown",
   "metadata": {},
   "source": [
    "### Observations\n",
    "The current implementation of the TwoStep look-ahead does not seem to bare much fruits.\n",
    "It is much more computationally expensive, and delivers no significant improvement vs the one-step `GreedyPlayer`."
   ]
  },
  {
   "cell_type": "markdown",
   "metadata": {},
   "source": [
    "\n",
    "## TO DO\n",
    "- [x] create full player with greedy approach on entropy-minimizing strategy\n",
    "- [x] create evaluation suite\n",
    "    - play games with all possible_words\n",
    "    - record number of guesses\n",
    "    - generate averages\n",
    "- [x] evaluation result visualization\n",
    "- [x] refactor word distrib visualization\n",
    "- [x] add improvement with non uniform entropies\n",
    "- [x] add 2 steps look-ahead player\n",
    "- [x] limit the number of first guesses to evaluate second guess to increase speed.\n",
    "- [x] write summary in README file"
   ]
  }
 ],
 "metadata": {
  "kernelspec": {
   "display_name": "wordle",
   "language": "python",
   "name": "python3"
  },
  "language_info": {
   "codemirror_mode": {
    "name": "ipython",
    "version": 3
   },
   "file_extension": ".py",
   "mimetype": "text/x-python",
   "name": "python",
   "nbconvert_exporter": "python",
   "pygments_lexer": "ipython3",
   "version": "3.11.0"
  },
  "orig_nbformat": 4,
  "vscode": {
   "interpreter": {
    "hash": "85dea77ca567992bc01902591d4635137ff7aa65e402f3d1c251b37a491cd579"
   }
  }
 },
 "nbformat": 4,
 "nbformat_minor": 2
}
