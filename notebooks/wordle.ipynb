{
 "cells": [
  {
   "cell_type": "code",
   "execution_count": 1,
   "metadata": {},
   "outputs": [],
   "source": [
    "from pathlib import Path\n",
    "\n",
    "import matplotlib.pyplot as plt\n",
    "import numpy as np\n",
    "import pandas as pd\n",
    "import plotly.graph_objects as go\n",
    "\n",
    "import wordle as wd\n",
    "\n",
    "\n",
    "%load_ext autoreload\n",
    "%autoreload 2\n",
    "\n",
    "DATA_PATH = Path(\"../data/\")\n",
    "ALLOWED_WORDS_FNAME = \"raw/allowed_words.txt\"\n",
    "POSSIBLE_WORDS_FNAME = \"raw/possible_words.txt\"\n",
    "WORDS_PAIRS_FNAME = \"transformed/guess_solution_map_{version}.pkl\"\n",
    "IMG_PATH = Path(\"../images/\")\n",
    "\n",
    "WORD = \"crepe\""
   ]
  },
  {
   "attachments": {},
   "cell_type": "markdown",
   "metadata": {},
   "source": [
    "# Wordle Solver\n",
    "## Goal\n",
    "* build an agent that can play Wordle, with the goal to maximize its score on a given evaluation set.\n",
    "\n",
    "## Heuristic\n",
    "* use $entropy=\\sum p * log_2(p)$ to calculate by how much a given guess is expected to reduce the number of possible choices (wegihted average)\n",
    "* v1: no prior on what are actual possible solutions\n",
    "* v2: using knowledge about actual possible words\n",
    "* v3: add 2 step lookup (consider expected entropy given best next guess following original one and guess outcome)\n",
    "\n",
    "## Setup Game Engine\n",
    "* game rules encapsulated in `WordleGame` class\n",
    "* color-coded HTML display of guess outcome: `display_wordle_guess_outcome`\n",
    "* basic function to validate whether a guess is possible: `is_word_possible_given_guess_outcome`\n",
    "\n",
    "## TO DO\n",
    "- [x] create full player with greedy approach on entropy-minimizing strategy\n",
    "- [x] create evaluation suite\n",
    "    - play games with all possible_words\n",
    "    - record number of guesses\n",
    "    - generate averages\n",
    "- [x] evaluation result visualization\n",
    "- [x] refactor word distrib visualization\n",
    "- [x] add improvement with non uniform entropies\n",
    "- [ ] add 2 steps look-ahead player\n",
    "- [ ] refactor `map.py`\n",
    "- [ ] write summary in README file\n"
   ]
  },
  {
   "cell_type": "code",
   "execution_count": 2,
   "metadata": {},
   "outputs": [
    {
     "data": {
      "text/html": [
       "<font size=\"7\" style=\"font-family:Monospace\"><span style=\"background-color:black\">T</span><span style=\"background-color:#098710\">R</span><span style=\"background-color:#b89d02\">E</span><span style=\"background-color:#098710\">T</span><span style=\"background-color:#b89d02\">A</span>"
      ],
      "text/plain": [
       "<IPython.core.display.HTML object>"
      ]
     },
     "metadata": {},
     "output_type": "display_data"
    },
    {
     "name": "stdout",
     "output_type": "stream",
     "text": [
      "candidate word: areti\n"
     ]
    },
    {
     "data": {
      "text/plain": [
       "(False, 'OOP letter `E` should have different position')"
      ]
     },
     "execution_count": 2,
     "metadata": {},
     "output_type": "execute_result"
    }
   ],
   "source": [
    "game = wd.WordleGame(\"crate\")\n",
    "outcome = game.evaluate_guess(\"treta\")\n",
    "wd.display_wordle_guess_outcome(outcome)\n",
    "candidate_word = \"areti\"\n",
    "print(f\"candidate word: {candidate_word}\")\n",
    "wd.player.is_word_possible_given_guess_outcome(candidate_word, outcome)"
   ]
  },
  {
   "attachments": {},
   "cell_type": "markdown",
   "metadata": {},
   "source": [
    "## play a game manually"
   ]
  },
  {
   "cell_type": "code",
   "execution_count": 3,
   "metadata": {},
   "outputs": [],
   "source": [
    "def make_guess(guess):\n",
    "    guess_outcome = game.record_player_guess(guess)\n",
    "    wd.display_wordle_guess_outcome(guess_outcome)\n",
    "    if game.is_over:\n",
    "        print(\"the game is over!\")\n",
    "        if game.solved:\n",
    "            print(f\"you won in {game.number_of_guesses} guesses\")\n",
    "        else:\n",
    "            print(f\"you have used your {game.max_guesses} guesses.\")"
   ]
  },
  {
   "cell_type": "code",
   "execution_count": 19,
   "metadata": {},
   "outputs": [
    {
     "data": {
      "text/html": [
       "<font size=\"7\" style=\"font-family:Monospace\"><span style=\"background-color:#098710\">C</span><span style=\"background-color:#098710\">R</span><span style=\"background-color:black\">A</span><span style=\"background-color:black\">T</span><span style=\"background-color:#098710\">E</span>"
      ],
      "text/plain": [
       "<IPython.core.display.HTML object>"
      ]
     },
     "metadata": {},
     "output_type": "display_data"
    },
    {
     "data": {
      "text/html": [
       "<font size=\"7\" style=\"font-family:Monospace\"><span style=\"background-color:#098710\">C</span><span style=\"background-color:#098710\">R</span><span style=\"background-color:#098710\">E</span><span style=\"background-color:#098710\">P</span><span style=\"background-color:#098710\">E</span>"
      ],
      "text/plain": [
       "<IPython.core.display.HTML object>"
      ]
     },
     "metadata": {},
     "output_type": "display_data"
    },
    {
     "name": "stdout",
     "output_type": "stream",
     "text": [
      "the game is over!\n",
      "you won in 2 guesses\n"
     ]
    }
   ],
   "source": [
    "# `word` has been defined in first notebook cell\n",
    "game = wd.WordleGame(WORD)\n",
    "while not game.is_over:\n",
    "    guess = input(\"make a 5 letter guess:\")\n",
    "    make_guess(guess)"
   ]
  },
  {
   "attachments": {},
   "cell_type": "markdown",
   "metadata": {},
   "source": [
    "## load allowed words\n",
    "### v1\n",
    "* no integration of word likelihood based on word popularity (all words in dic have same probability = 1)\n",
    "* one step ahead lookup"
   ]
  },
  {
   "cell_type": "code",
   "execution_count": 4,
   "metadata": {},
   "outputs": [],
   "source": [
    "def load_words_as_list(path: Path) -> list[str]:\n",
    "    with open(path, 'r') as f:\n",
    "        return [word.strip() for word in f.readlines()]\n",
    "\n",
    " def load_words_as_dict(path: Path) -> dict[str, float]:\n",
    "    words = load_words_as_list(path)\n",
    "    return {word: 1. for word in words}\n",
    "\n",
    "allowed_words = load_words_as_dict(DATA_PATH / ALLOWED_WORDS_FNAME)\n",
    "\n",
    "possible_words = load_words_as_list(DATA_PATH / POSSIBLE_WORDS_FNAME)"
   ]
  },
  {
   "attachments": {},
   "cell_type": "markdown",
   "metadata": {},
   "source": [
    "# EDA"
   ]
  },
  {
   "cell_type": "code",
   "execution_count": 5,
   "metadata": {},
   "outputs": [
    {
     "data": {
      "text/plain": [
       "12953"
      ]
     },
     "execution_count": 5,
     "metadata": {},
     "output_type": "execute_result"
    }
   ],
   "source": [
    "# number of 5 letter words\n",
    "five_letter_words = pd.Series(allowed_words.keys())\n",
    "len(five_letter_words)"
   ]
  },
  {
   "cell_type": "code",
   "execution_count": 6,
   "metadata": {},
   "outputs": [
    {
     "data": {
      "image/png": "[encoded data removed]",
      "text/plain": [
       "<Figure size 640x480 with 1 Axes>"
      ]
     },
     "metadata": {},
     "output_type": "display_data"
    }
   ],
   "source": [
    "# letter prevalence as a whole\n",
    "(five_letter_words\n",
    "    .apply(lambda x: list(x))\n",
    "    .explode()\n",
    "    .value_counts()\n",
    "    .plot(\n",
    "        kind=\"bar\",\n",
    "        title=\"letter frequency in 5-letter words\",\n",
    "        ));"
   ]
  },
  {
   "cell_type": "code",
   "execution_count": 7,
   "metadata": {},
   "outputs": [
    {
     "data": {
      "text/plain": [
       "<Axes: title={'center': 'How often does a letter appear in a 5 letter word?'}>"
      ]
     },
     "execution_count": 7,
     "metadata": {},
     "output_type": "execute_result"
    },
    {
     "data": {
      "image/png": "[encoded data removed]",
      "text/plain": [
       "<Figure size 2000x500 with 2 Axes>"
      ]
     },
     "metadata": {},
     "output_type": "display_data"
    }
   ],
   "source": [
    "ALPHABET = \"abcdefghijklmnopqrstuvwxyz\"\n",
    "# how often does a letter appear in a 5 letter word?\n",
    "letter_frequency = pd.Series({letter: five_letter_words.str.contains(letter).mean() for letter in ALPHABET})\n",
    "\n",
    "fig, ax = plt.subplots(1,2, figsize=(20,5))\n",
    "letter_frequency.plot.bar(title=\"How often does a letter appear in a 5 letter word?\", ax=ax[0])\n",
    "letter_frequency.sort_values(ascending=False).plot.bar(title=\"How often does a letter appear in a 5 letter word?\", ax=ax[1])"
   ]
  },
  {
   "cell_type": "code",
   "execution_count": 8,
   "metadata": {},
   "outputs": [],
   "source": [
    "sample_words = np.random.choice(list(allowed_words.keys()), 200, replace=False)\n",
    "sample_words = {word: allowed_words[word] for word in sample_words}"
   ]
  },
  {
   "attachments": {},
   "cell_type": "markdown",
   "metadata": {},
   "source": [
    "## Building a map of possible solutions given a guess outcome\n",
    "### v1: no prior assumption about actual possible solutions"
   ]
  },
  {
   "cell_type": "code",
   "execution_count": 9,
   "metadata": {},
   "outputs": [
    {
     "data": {
      "application/vnd.jupyter.widget-view+json": {
       "model_id": "13f718b9085840f5bccb877d22d96c21",
       "version_major": 2,
       "version_minor": 0
      },
      "text/plain": [
       "  0%|          | 0/12953 [00:00<?, ?it/s]"
      ]
     },
     "metadata": {},
     "output_type": "display_data"
    },
    {
     "name": "stdout",
     "output_type": "stream",
     "text": [
      "CPU times: user 24min 39s, sys: 45.1 s, total: 25min 24s\n",
      "Wall time: 25min 1s\n",
      "PossibleSolutionsMap(n_solutions=12953,n_allowed=12953,entropy=13.66)\n",
      "CPU times: user 12.1 ms, sys: 41.2 ms, total: 53.3 ms\n",
      "Wall time: 62.9 ms\n"
     ]
    }
   ],
   "source": [
    "psm = wd.PossibleSolutionsMap(allowed_words, list(allowed_words))\n",
    "%time psm.build_map()\n",
    "print(psm)\n",
    "\n",
    "%time psm.to_pickle(DATA_PATH / WORDS_PAIRS_FNAME.format(version=\"v1\"))"
   ]
  },
  {
   "attachments": {},
   "cell_type": "markdown",
   "metadata": {},
   "source": [
    "### v2: using prior knowledge about actual possible words"
   ]
  },
  {
   "cell_type": "code",
   "execution_count": 10,
   "metadata": {},
   "outputs": [
    {
     "data": {
      "application/vnd.jupyter.widget-view+json": {
       "model_id": "e134cb33545142e29391fbcbd08cfe26",
       "version_major": 2,
       "version_minor": 0
      },
      "text/plain": [
       "  0%|          | 0/2309 [00:00<?, ?it/s]"
      ]
     },
     "metadata": {},
     "output_type": "display_data"
    },
    {
     "name": "stdout",
     "output_type": "stream",
     "text": [
      "CPU times: user 4min 25s, sys: 9.94 s, total: 4min 35s\n",
      "Wall time: 4min 30s\n",
      "PossibleSolutionsMap(n_solutions=2309,n_allowed=12953,entropy=11.17)\n",
      "CPU times: user 3.23 ms, sys: 7.96 ms, total: 11.2 ms\n",
      "Wall time: 12.4 ms\n"
     ]
    }
   ],
   "source": [
    "psm_v2 = wd.PossibleSolutionsMap({word: 1.0 for word in possible_words}, list(allowed_words))\n",
    "%time psm_v2.build_map()\n",
    "print(psm_v2)\n",
    "\n",
    "%time psm_v2.to_pickle(DATA_PATH / WORDS_PAIRS_FNAME.format(version=\"v2\"))"
   ]
  },
  {
   "attachments": {},
   "cell_type": "markdown",
   "metadata": {},
   "source": [
    "# Reload"
   ]
  },
  {
   "cell_type": "code",
   "execution_count": 5,
   "metadata": {},
   "outputs": [],
   "source": [
    "# reload\n",
    "psm = wd.PossibleSolutionsMap.from_pickle(DATA_PATH / WORDS_PAIRS_FNAME.format(version=\"v1\"))\n",
    "psm_v2 = wd.PossibleSolutionsMap.from_pickle(DATA_PATH / WORDS_PAIRS_FNAME.format(version=\"v2\"))"
   ]
  },
  {
   "cell_type": "code",
   "execution_count": 23,
   "metadata": {},
   "outputs": [],
   "source": [
    "def simulate_game_so_far(solution: str, guesses: list[str]):\n",
    "    game = wd.WordleGame(solution)\n",
    "    for guess in guesses:\n",
    "        game.record_player_guess(guess)\n",
    "        wd.display_wordle_guess_outcome(game.guesses_so_far[-1])\n",
    "    \n",
    "    return game"
   ]
  },
  {
   "attachments": {},
   "cell_type": "markdown",
   "metadata": {},
   "source": [
    "## test performance with caching of entropies calculation for all candidates"
   ]
  },
  {
   "cell_type": "code",
   "execution_count": 13,
   "metadata": {},
   "outputs": [
    {
     "name": "stdout",
     "output_type": "stream",
     "text": [
      "CPU times: user 12.1 s, sys: 2.19 s, total: 14.3 s\n",
      "Wall time: 15.2 s\n",
      "CPU times: user 520 µs, sys: 26 µs, total: 546 µs\n",
      "Wall time: 549 µs\n",
      "CPU times: user 3.28 s, sys: 207 ms, total: 3.49 s\n",
      "Wall time: 3.58 s\n"
     ]
    }
   ],
   "source": [
    "# game start: all words are possible solutions (map = 13k x 13k)\n",
    "%time candidate_entropies = wd.player.get_all_candidate_entropies(psm)\n",
    "%time candidate_entropies = wd.player.get_all_candidate_entropies(psm)\n",
    "\n",
    "# after one guess: \n",
    "%time candidate_entropies = wd.player.get_all_candidate_entropies(psm2)"
   ]
  },
  {
   "cell_type": "code",
   "execution_count": 11,
   "metadata": {},
   "outputs": [
    {
     "data": {
      "text/html": [
       "<font size=\"7\" style=\"font-family:Monospace\"><span style=\"background-color:black\">S</span><span style=\"background-color:#098710\">O</span><span style=\"background-color:black\">A</span><span style=\"background-color:#b89d02\">R</span><span style=\"background-color:black\">E</span>"
      ],
      "text/plain": [
       "<IPython.core.display.HTML object>"
      ]
     },
     "metadata": {},
     "output_type": "display_data"
    },
    {
     "data": {
      "text/html": [
       "<font size=\"7\" style=\"font-family:Monospace\"><span style=\"background-color:black\">C</span><span style=\"background-color:black\">Y</span><span style=\"background-color:black\">T</span><span style=\"background-color:#b89d02\">O</span><span style=\"background-color:#b89d02\">N</span>"
      ],
      "text/plain": [
       "<IPython.core.display.HTML object>"
      ]
     },
     "metadata": {},
     "output_type": "display_data"
    },
    {
     "data": {
      "text/html": [
       "<font size=\"7\" style=\"font-family:Monospace\"><span style=\"background-color:#098710\">R</span><span style=\"background-color:#098710\">O</span><span style=\"background-color:#098710\">U</span><span style=\"background-color:#098710\">N</span><span style=\"background-color:#098710\">D</span>"
      ],
      "text/plain": [
       "<IPython.core.display.HTML object>"
      ]
     },
     "metadata": {},
     "output_type": "display_data"
    },
    {
     "name": "stdout",
     "output_type": "stream",
     "text": [
      "CPU times: user 7.02 s, sys: 79.6 ms, total: 7.1 s\n",
      "Wall time: 7.1 s\n"
     ]
    },
    {
     "data": {
      "text/plain": [
       "WordleGame(target_word='ROUND', max_guesses=6, number_of_guesses=3, is_over=True, solved=True)"
      ]
     },
     "execution_count": 11,
     "metadata": {},
     "output_type": "execute_result"
    }
   ],
   "source": [
    "player = wd.player.GreedyPlayer(psm_v2)\n",
    "game = wd.WordleGame(\"round\")\n",
    "%time wd.player.play_game(player, game=game)\n",
    "\n"
   ]
  },
  {
   "attachments": {},
   "cell_type": "markdown",
   "metadata": {},
   "source": [
    "# Visualizing outcome distributions\n",
    "## best starter guesses"
   ]
  },
  {
   "cell_type": "code",
   "execution_count": 102,
   "metadata": {},
   "outputs": [
    {
     "data": {
      "text/plain": [
       "soare    5.885203\n",
       "roate    5.884856\n",
       "raise    5.878303\n",
       "reast    5.867738\n",
       "raile    5.865154\n",
       "dtype: float64"
      ]
     },
     "execution_count": 102,
     "metadata": {},
     "output_type": "execute_result"
    }
   ],
   "source": [
    "wd.player.get_all_candidate_entropies(psm_v2).head(5)"
   ]
  },
  {
   "cell_type": "code",
   "execution_count": 123,
   "metadata": {},
   "outputs": [
    {
     "data": {
      "application/vnd.plotly.v1+json": {
       "config": {
        "plotlyServerURL": "https://plot.ly"
       },
       "data": [
        {
         "alignmentgroup": "True",
         "customdata": [
          [
           182,
           [
            "chick",
            "chump",
            "clung",
            "ditch",
            "duchy",
            "flint",
            "hutch",
            "mimic",
            "pygmy",
            "thick",
            "tight",
            "tulip"
           ]
          ],
          [
           137,
           [
            "align",
            "antic",
            "aphid",
            "batch",
            "fault",
            "gawky",
            "jaunt",
            "magma",
            "manga",
            "patch",
            "pizza",
            "taffy"
           ]
          ],
          [
           119,
           [
            "beefy",
            "belly",
            "blend",
            "depth",
            "dwelt",
            "expel",
            "fiend",
            "fleck",
            "impel",
            "jewel",
            "needy",
            "wheel"
           ]
          ],
          [
           117,
           [
            "beret",
            "buyer",
            "crept",
            "erect",
            "grief",
            "meter",
            "newer",
            "nicer",
            "reign",
            "revel",
            "rivet",
            "tuber"
           ]
          ],
          [
           87,
           [
            "comfy",
            "comic",
            "cough",
            "count",
            "donut",
            "folly",
            "going",
            "motif",
            "motto",
            "polyp",
            "topic",
            "toxic"
           ]
          ],
          [
           79,
           [
            "bugle",
            "chute",
            "delve",
            "femme",
            "glide",
            "lithe",
            "nudge",
            "pique",
            "plume",
            "queue",
            "twice",
            "undue"
           ]
          ],
          [
           68,
           [
            "alien",
            "angel",
            "bagel",
            "clean",
            "gleam",
            "hazel",
            "ideal",
            "lapel",
            "pedal",
            "penal",
            "tweak",
            "valet"
           ]
          ],
          [
           63,
           [
            "shuck",
            "shunt",
            "skill",
            "skimp",
            "skulk",
            "skull",
            "slyly",
            "smith",
            "spiny",
            "split",
            "suing",
            "swift"
           ]
          ],
          [
           61,
           [
            "after",
            "alter",
            "clear",
            "gamer",
            "gayer",
            "great",
            "maker",
            "parer",
            "rebar",
            "relax",
            "relay",
            "treat"
           ]
          ],
          [
           59,
           [
            "crown",
            "droit",
            "drown",
            "juror",
            "minor",
            "occur",
            "proof",
            "rhino",
            "troop",
            "trout",
            "turbo",
            "wrong"
           ]
          ],
          [
           57,
           [
            "birch",
            "burly",
            "burnt",
            "crimp",
            "dirty",
            "drill",
            "drunk",
            "grunt",
            "lurid",
            "privy",
            "right",
            "trunk"
           ]
          ],
          [
           56,
           [
            "blown",
            "dingo",
            "ditto",
            "gloom",
            "gumbo",
            "hippo",
            "idiom",
            "junto",
            "lingo",
            "optic",
            "outdo",
            "thong"
           ]
          ],
          [
           44,
           [
            "about",
            "agony",
            "baton",
            "bayou",
            "bloat",
            "canon",
            "havoc",
            "mango",
            "octal",
            "quota",
            "taboo",
            "viola"
           ]
          ],
          [
           42,
           [
            "augur",
            "cigar",
            "circa",
            "harpy",
            "lunar",
            "rabid",
            "ratty",
            "tapir",
            "triad",
            "trial",
            "vicar",
            "viral"
           ]
          ],
          [
           41,
           [
            "scald",
            "scaly",
            "shack",
            "slack",
            "slain",
            "slang",
            "slash",
            "snaky",
            "staid",
            "stand",
            "stank",
            "swash"
           ]
          ],
          [
           40,
           [
            "agile",
            "anime",
            "apple",
            "cable",
            "eagle",
            "gauze",
            "ladle",
            "lance",
            "lathe",
            "mauve",
            "payee",
            "value"
           ]
          ],
          [
           40,
           [
            "aback",
            "chaff",
            "champ",
            "chant",
            "clack",
            "clang",
            "knack",
            "llama",
            "plain",
            "plait",
            "plaza",
            "whack"
           ]
          ],
          [
           40,
           [
            "crack",
            "draft",
            "drawl",
            "frail",
            "frank",
            "graft",
            "graph",
            "prank",
            "tract",
            "trail",
            "trait",
            "trawl"
           ]
          ],
          [
           39,
           [
            "creme",
            "curve",
            "grime",
            "prime",
            "prude",
            "purge",
            "revue",
            "rifle",
            "three",
            "trice",
            "truce",
            "verge"
           ]
          ],
          [
           37,
           [
            "scoff",
            "shock",
            "shoot",
            "shown",
            "sloop",
            "sloth",
            "smoky",
            "snout",
            "stock",
            "stomp",
            "stool",
            "stoop"
           ]
          ],
          [
           35,
           [
            "scent",
            "seedy",
            "sheik",
            "shied",
            "slept",
            "smell",
            "smelt",
            "spelt",
            "spent",
            "steep",
            "sweet",
            "swept"
           ]
          ],
          [
           33,
           [
            "bliss",
            "bushy",
            "fishy",
            "flush",
            "gipsy",
            "missy",
            "music",
            "musty",
            "pushy",
            "tipsy",
            "twist",
            "wispy"
           ]
          ],
          [
           28,
           [
            "abate",
            "agate",
            "amaze",
            "awake",
            "blade",
            "blame",
            "blaze",
            "flake",
            "heave",
            "inane",
            "leave",
            "whale"
           ]
          ],
          [
           27,
           [
            "abhor",
            "ardor",
            "armor",
            "arrow",
            "broad",
            "croak",
            "favor",
            "labor",
            "organ",
            "radio",
            "ratio",
            "vapor"
           ]
          ],
          [
           26,
           [
            "coven",
            "covey",
            "dopey",
            "dowel",
            "dozen",
            "golem",
            "honey",
            "hovel",
            "modem",
            "money",
            "towel",
            "vowel"
           ]
          ],
          [
           26,
           [
            "corny",
            "forgo",
            "forth",
            "forty",
            "honor",
            "horny",
            "motor",
            "north",
            "robin",
            "robot",
            "rough",
            "round"
           ]
          ],
          [
           25,
           [
            "below",
            "cello",
            "demon",
            "detox",
            "elbow",
            "endow",
            "epoxy",
            "hello",
            "melon",
            "octet",
            "olden",
            "video"
           ]
          ],
          [
           23,
           [
            "segue",
            "sense",
            "shine",
            "siege",
            "since",
            "slice",
            "slime",
            "smite",
            "snipe",
            "spike",
            "spine",
            "suite"
           ]
          ],
          [
           23,
           [
            "angst",
            "basal",
            "basic",
            "basil",
            "basin",
            "basis",
            "daisy",
            "nasal",
            "palsy",
            "pasta",
            "pasty",
            "patsy"
           ]
          ],
          [
           22,
           [
            "boxer",
            "corer",
            "foyer",
            "lover",
            "mower",
            "poker",
            "power",
            "rodeo",
            "roger",
            "rower",
            "voter",
            "wooer"
           ]
          ],
          [
           21,
           [
            "dealt",
            "heady",
            "heath",
            "heavy",
            "leach",
            "leafy",
            "leaky",
            "leant",
            "leapt",
            "meaty",
            "peach",
            "teach"
           ]
          ],
          [
           21,
           [
            "comma",
            "dogma",
            "focal",
            "local",
            "mocha",
            "nomad",
            "tonga",
            "topaz",
            "total",
            "vodka",
            "voila",
            "woman"
           ]
          ],
          [
           20,
           [
            "biome",
            "bloke",
            "choke",
            "clone",
            "clove",
            "diode",
            "elope",
            "opine",
            "ounce",
            "phone",
            "quote",
            "whole"
           ]
          ],
          [
           19,
           [
            "beset",
            "bused",
            "chest",
            "exist",
            "flesh",
            "guess",
            "guest",
            "islet",
            "testy",
            "unset",
            "welsh",
            "zesty"
           ]
          ],
          [
           19,
           [
            "brake",
            "brave",
            "crane",
            "crate",
            "crave",
            "craze",
            "drake",
            "grace",
            "grape",
            "grate",
            "graze",
            "trace"
           ]
          ],
          [
           19,
           [
            "saint",
            "sally",
            "salsa",
            "sandy",
            "sassy",
            "satin",
            "saucy",
            "sauna",
            "savvy",
            "sigma",
            "splat",
            "sumac"
           ]
          ],
          [
           18,
           [
            "scale",
            "shade",
            "shame",
            "shape",
            "shave",
            "snake",
            "space",
            "spade",
            "stage",
            "stale",
            "state",
            "stave"
           ]
          ],
          [
           16,
           [
            "brisk",
            "brush",
            "burst",
            "crush",
            "first",
            "frisk",
            "rusty",
            "truss",
            "trust",
            "tryst",
            "virus",
            "wrist"
           ]
          ],
          [
           15,
           [
            "cress",
            "crest",
            "dress",
            "fresh",
            "rebus",
            "reset",
            "resin",
            "risen",
            "riser",
            "usher",
            "wiser",
            "wrest"
           ]
          ],
          [
           15,
           [
            "abuse",
            "aisle",
            "amuse",
            "caste",
            "cause",
            "false",
            "haste",
            "masse",
            "paste",
            "pause",
            "taste",
            "waste"
           ]
          ],
          [
           15,
           [
            "bosom",
            "bossy",
            "focus",
            "foist",
            "hoist",
            "joist",
            "joust",
            "locus",
            "lousy",
            "moist",
            "mossy",
            "noisy"
           ]
          ],
          [
           14,
           [
            "amass",
            "awash",
            "blast",
            "chasm",
            "clash",
            "clasp",
            "class",
            "flash",
            "flask",
            "glass",
            "gnash",
            "quash"
           ]
          ],
          [
           14,
           [
            "clerk",
            "decry",
            "entry",
            "every",
            "exert",
            "ferry",
            "fiery",
            "inert",
            "leery",
            "merry",
            "query",
            "retry"
           ]
          ],
          [
           14,
           [
            "broke",
            "crone",
            "drone",
            "drove",
            "erode",
            "grope",
            "grove",
            "probe",
            "prove",
            "trope",
            "trove",
            "wrote"
           ]
          ],
          [
           13,
           [
            "blurb",
            "blurt",
            "chirp",
            "churn",
            "flirt",
            "furry",
            "hurry",
            "myrrh",
            "quirk",
            "third",
            "twirl",
            "whirl"
           ]
          ],
          [
           13,
           [
            "credo",
            "decor",
            "error",
            "heron",
            "odder",
            "offer",
            "older",
            "order",
            "otter",
            "outer",
            "owner",
            "tenor"
           ]
          ],
          [
           13,
           [
            "screw",
            "serif",
            "serum",
            "sever",
            "sewer",
            "sheer",
            "shrew",
            "siren",
            "sneer",
            "steer",
            "super",
            "surer"
           ]
          ],
          [
           13,
           [
            "alarm",
            "apart",
            "award",
            "chard",
            "charm",
            "chart",
            "diary",
            "dwarf",
            "guard",
            "quark",
            "quart",
            "wharf"
           ]
          ],
          [
           12,
           [
            "scone",
            "scope",
            "shone",
            "shove",
            "slope",
            "smoke",
            "smote",
            "spoke",
            "stoke",
            "stole",
            "stone",
            "stove"
           ]
          ],
          [
           11,
           [
            "copse",
            "goose",
            "house",
            "loose",
            "louse",
            "moose",
            "mouse",
            "noise",
            "noose",
            "poise",
            "posse"
           ]
          ],
          [
           11,
           [
            "angry",
            "cairn",
            "carry",
            "dairy",
            "fairy",
            "hairy",
            "harry",
            "marry",
            "parry",
            "ultra",
            "umbra"
           ]
          ],
          [
           11,
           [
            "scarf",
            "scary",
            "shard",
            "shark",
            "sharp",
            "smart",
            "snarl",
            "spark",
            "stark",
            "start",
            "swarm"
           ]
          ],
          [
           10,
           [
            "scorn",
            "shorn",
            "short",
            "snort",
            "sport",
            "stork",
            "storm",
            "story",
            "sword",
            "sworn"
           ]
          ],
          [
           10,
           [
            "booze",
            "boule",
            "coupe",
            "dodge",
            "gouge",
            "lodge",
            "movie",
            "noble",
            "vogue",
            "voice"
           ]
          ],
          [
           9,
           [
            "beard",
            "heard",
            "heart",
            "learn",
            "pearl",
            "rearm",
            "teary",
            "weary",
            "yearn"
           ]
          ],
          [
           9,
           [
            "sedan",
            "sepia",
            "sneak",
            "speak",
            "stead",
            "steak",
            "steal",
            "steam",
            "sweat"
           ]
          ],
          [
           9,
           [
            "scrub",
            "scrum",
            "shrub",
            "shrug",
            "sprig",
            "strip",
            "strut",
            "surly",
            "syrup"
           ]
          ],
          [
           9,
           [
            "borne",
            "force",
            "forge",
            "forte",
            "gorge",
            "horde",
            "rogue",
            "rouge",
            "route"
           ]
          ],
          [
           8,
           [
            "shirk",
            "shirt",
            "skirt",
            "slurp",
            "smirk",
            "spurn",
            "spurt",
            "swirl"
           ]
          ],
          [
           8,
           [
            "dense",
            "ensue",
            "geese",
            "guise",
            "issue",
            "pulse",
            "tense",
            "these"
           ]
          ],
          [
           8,
           [
            "abode",
            "above",
            "adobe",
            "alone",
            "anode",
            "atone",
            "awoke",
            "canoe"
           ]
          ],
          [
           8,
           [
            "aorta",
            "borax",
            "coral",
            "foray",
            "molar",
            "moral",
            "polar",
            "royal"
           ]
          ],
          [
           8,
           [
            "chord",
            "fjord",
            "glory",
            "hydro",
            "intro",
            "ivory",
            "micro",
            "thorn"
           ]
          ],
          [
           8,
           [
            "satyr",
            "scram",
            "scrap",
            "spray",
            "strap",
            "straw",
            "stray",
            "sugar"
           ]
          ],
          [
           7,
           [
            "soggy",
            "solid",
            "sonic",
            "sooth",
            "sooty",
            "sound",
            "south"
           ]
          ],
          [
           7,
           [
            "brash",
            "brass",
            "crash",
            "crass",
            "grasp",
            "grass",
            "trash"
           ]
          ],
          [
           7,
           [
            "abase",
            "cease",
            "chase",
            "lease",
            "phase",
            "tease",
            "usage"
           ]
          ],
          [
           7,
           [
            "bison",
            "disco",
            "floss",
            "ghost",
            "gloss",
            "gusto",
            "kiosk"
           ]
          ],
          [
           7,
           [
            "curse",
            "nurse",
            "purse",
            "reuse",
            "rinse",
            "terse",
            "verse"
           ]
          ],
          [
           7,
           [
            "agree",
            "argue",
            "barge",
            "carve",
            "farce",
            "large",
            "range"
           ]
          ],
          [
           6,
           [
            "court",
            "dowry",
            "gourd",
            "lorry",
            "mourn",
            "worry"
           ]
          ],
          [
           6,
           [
            "score",
            "shore",
            "snore",
            "spore",
            "store",
            "swore"
           ]
          ],
          [
           6,
           [
            "safer",
            "saner",
            "shear",
            "smear",
            "spear",
            "swear"
           ]
          ],
          [
           5,
           [
            "chose",
            "close",
            "obese",
            "those",
            "whose"
           ]
          ],
          [
           5,
           [
            "cross",
            "dross",
            "frost",
            "gross",
            "visor"
           ]
          ],
          [
           5,
           [
            "alert",
            "avert",
            "extra",
            "terra",
            "zebra"
           ]
          ],
          [
           5,
           [
            "scare",
            "share",
            "snare",
            "spare",
            "stare"
           ]
          ],
          [
           5,
           [
            "abort",
            "acorn",
            "adorn",
            "flora",
            "macro"
           ]
          ],
          [
           5,
           [
            "ashen",
            "askew",
            "asset",
            "easel",
            "essay"
           ]
          ],
          [
           5,
           [
            "coach",
            "foamy",
            "koala",
            "loamy",
            "loath"
           ]
          ],
          [
           5,
           [
            "beast",
            "feast",
            "leash",
            "least",
            "yeast"
           ]
          ],
          [
           4,
           [
            "scree",
            "serve",
            "spree",
            "surge"
           ]
          ],
          [
           4,
           [
            "artsy",
            "harsh",
            "marsh",
            "raspy"
           ]
          ],
          [
           4,
           [
            "cameo",
            "oaken",
            "ocean",
            "omega"
           ]
          ],
          [
           4,
           [
            "reach",
            "react",
            "ready",
            "realm"
           ]
          ],
          [
           4,
           [
            "salon",
            "salvo",
            "savoy",
            "shoal"
           ]
          ],
          [
           4,
           [
            "aware",
            "blare",
            "flare",
            "glare"
           ]
          ],
          [
           4,
           [
            "roost",
            "torso",
            "torus",
            "worst"
           ]
          ],
          [
           3,
           [
            "ascot",
            "lasso",
            "mason"
           ]
          ],
          [
           3,
           [
            "horse",
            "rouse",
            "worse"
           ]
          ],
          [
           3,
           [
            "arise",
            "parse",
            "raise"
           ]
          ],
          [
           3,
           [
            "salve",
            "sauce",
            "saute"
           ]
          ],
          [
           3,
           [
            "genre",
            "there",
            "where"
           ]
          ],
          [
           3,
           [
            "boast",
            "coast",
            "toast"
           ]
          ],
          [
           3,
           [
            "ethos",
            "onset",
            "pesto"
           ]
          ],
          [
           3,
           [
            "metro",
            "overt",
            "retro"
           ]
          ],
          [
           2,
           [
            "nosey",
            "poesy"
           ]
          ],
          [
           2,
           [
            "loser",
            "poser"
           ]
          ],
          [
           2,
           [
            "sober",
            "sower"
           ]
          ],
          [
           2,
           [
            "sperm",
            "stern"
           ]
          ],
          [
           2,
           [
            "solar",
            "sonar"
           ]
          ],
          [
           2,
           [
            "chore",
            "ombre"
           ]
          ],
          [
           2,
           [
            "afire",
            "azure"
           ]
          ],
          [
           2,
           [
            "board",
            "hoard"
           ]
          ],
          [
           2,
           [
            "shire",
            "spire"
           ]
          ],
          [
           1,
           [
            "scour"
           ]
          ],
          [
           1,
           [
            "adore"
           ]
          ],
          [
           1,
           [
            "arose"
           ]
          ],
          [
           1,
           [
            "soapy"
           ]
          ],
          [
           1,
           [
            "erase"
           ]
          ],
          [
           1,
           [
            "prose"
           ]
          ],
          [
           1,
           [
            "bravo"
           ]
          ],
          [
           1,
           [
            "arson"
           ]
          ],
          [
           1,
           [
            "savor"
           ]
          ],
          [
           1,
           [
            "ovate"
           ]
          ],
          [
           1,
           [
            "stair"
           ]
          ],
          [
           1,
           [
            "roach"
           ]
          ],
          [
           1,
           [
            "roast"
           ]
          ],
          [
           1,
           [
            "solve"
           ]
          ],
          [
           1,
           [
            "usurp"
           ]
          ],
          [
           1,
           [
            "sorry"
           ]
          ],
          [
           1,
           [
            "cobra"
           ]
          ],
          [
           1,
           [
            "ovary"
           ]
          ],
          [
           1,
           [
            "chaos"
           ]
          ],
          [
           1,
           [
            "piano"
           ]
          ],
          [
           1,
           [
            "opera"
           ]
          ],
          [
           1,
           [
            "verso"
           ]
          ]
         ],
         "hovertemplate": "pattern=%{x}<br>probability=%{y}<br>n_words_matching=%{customdata[0]}<br>possible_solutions=%{customdata[1]}<extra></extra>",
         "legendgroup": "",
         "marker": {
          "color": "#636efa",
          "pattern": {
           "shape": ""
          }
         },
         "name": "",
         "offsetgroup": "",
         "orientation": "v",
         "showlegend": false,
         "textposition": "auto",
         "type": "bar",
         "x": [
          "0",
          "00100",
          "10000",
          "11000",
          "00020",
          "20000",
          "10100",
          "00002",
          "11100",
          "01010",
          "01000",
          "00010",
          "00110",
          "01100",
          "00202",
          "20100",
          "00200",
          "01200",
          "21000",
          "00012",
          "10002",
          "00001",
          "20200",
          "01110",
          "10020",
          "01020",
          "10010",
          "20002",
          "00101",
          "11020",
          "10200",
          "00120",
          "20010",
          "10001",
          "21200",
          "00102",
          "20202",
          "01001",
          "11001",
          "20101",
          "00021",
          "00201",
          "12000",
          "21010",
          "02000",
          "11010",
          "11002",
          "02200",
          "20012",
          "20021",
          "02100",
          "02202",
          "02012",
          "20020",
          "12200",
          "10102",
          "01002",
          "21020",
          "02002",
          "20001",
          "20110",
          "01120",
          "02010",
          "01102",
          "00022",
          "01201",
          "20201",
          "00011",
          "21001",
          "21100",
          "02020",
          "22012",
          "11102",
          "20011",
          "01011",
          "12100",
          "22202",
          "02110",
          "10101",
          "00220",
          "10201",
          "21002",
          "01101",
          "10110",
          "11200",
          "00112",
          "22200",
          "01021",
          "00111",
          "21021",
          "21101",
          "20102",
          "22000",
          "00221",
          "10011",
          "12010",
          "10021",
          "11021",
          "11022",
          "12002",
          "01122",
          "22010",
          "22100",
          "02220",
          "22002",
          "01012",
          "22110",
          "21111",
          "00222",
          "21201",
          "21011",
          "01210",
          "01111",
          "01112",
          "20210",
          "01202",
          "01220",
          "01221",
          "20022",
          "02001",
          "02022",
          "02120",
          "02210",
          "00211",
          "00210",
          "12110",
          "11011"
         ],
         "xaxis": "x",
         "y": [
          0.07882200086617583,
          0.059333044608055434,
          0.05153746210480727,
          0.05067128627111304,
          0.037678648765699436,
          0.034213945430922474,
          0.029449978345604158,
          0.02728453876136856,
          0.026418362927674317,
          0.025552187093980078,
          0.02468601126028584,
          0.024252923343438718,
          0.019055868341273277,
          0.018189692507579038,
          0.017756604590731917,
          0.0173235166738848,
          0.0173235166738848,
          0.0173235166738848,
          0.016890428757037678,
          0.01602425292334344,
          0.015158077089649198,
          0.01429190125595496,
          0.012126461671719359,
          0.01169337375487224,
          0.01126028583802512,
          0.01126028583802512,
          0.010827197921177999,
          0.00996102208748376,
          0.00996102208748376,
          0.009527934170636639,
          0.009094846253789519,
          0.009094846253789519,
          0.0086617583369424,
          0.00822867042009528,
          0.00822867042009528,
          0.00822867042009528,
          0.007795582503248159,
          0.006929406669553919,
          0.0064963187527068,
          0.0064963187527068,
          0.0064963187527068,
          0.006063230835859679,
          0.006063230835859679,
          0.006063230835859679,
          0.00563014291901256,
          0.00563014291901256,
          0.00563014291901256,
          0.00563014291901256,
          0.00519705500216544,
          0.004763967085318319,
          0.004763967085318319,
          0.004763967085318319,
          0.0043308791684712,
          0.0043308791684712,
          0.0038977912516240795,
          0.0038977912516240795,
          0.0038977912516240795,
          0.0038977912516240795,
          0.0034647033347769596,
          0.0034647033347769596,
          0.0034647033347769596,
          0.0034647033347769596,
          0.0034647033347769596,
          0.0034647033347769596,
          0.0030316154179298397,
          0.0030316154179298397,
          0.0030316154179298397,
          0.0030316154179298397,
          0.0030316154179298397,
          0.0030316154179298397,
          0.00259852750108272,
          0.00259852750108272,
          0.00259852750108272,
          0.0021654395842356,
          0.0021654395842356,
          0.0021654395842356,
          0.0021654395842356,
          0.0021654395842356,
          0.0021654395842356,
          0.0021654395842356,
          0.0021654395842356,
          0.0017323516673884798,
          0.0017323516673884798,
          0.0017323516673884798,
          0.0017323516673884798,
          0.0017323516673884798,
          0.0017323516673884798,
          0.0017323516673884798,
          0.00129926375054136,
          0.00129926375054136,
          0.00129926375054136,
          0.00129926375054136,
          0.00129926375054136,
          0.00129926375054136,
          0.00129926375054136,
          0.00129926375054136,
          0.0008661758336942399,
          0.0008661758336942399,
          0.0008661758336942399,
          0.0008661758336942399,
          0.0008661758336942399,
          0.0008661758336942399,
          0.0008661758336942399,
          0.0008661758336942399,
          0.0008661758336942399,
          0.00043308791684711995,
          0.00043308791684711995,
          0.00043308791684711995,
          0.00043308791684711995,
          0.00043308791684711995,
          0.00043308791684711995,
          0.00043308791684711995,
          0.00043308791684711995,
          0.00043308791684711995,
          0.00043308791684711995,
          0.00043308791684711995,
          0.00043308791684711995,
          0.00043308791684711995,
          0.00043308791684711995,
          0.00043308791684711995,
          0.00043308791684711995,
          0.00043308791684711995,
          0.00043308791684711995,
          0.00043308791684711995,
          0.00043308791684711995,
          0.00043308791684711995,
          0.00043308791684711995
         ],
         "yaxis": "y"
        }
       ],
       "layout": {
        "barmode": "relative",
        "legend": {
         "tracegroupgap": 0
        },
        "template": {
         "data": {
          "bar": [
           {
            "error_x": {
             "color": "#f2f5fa"
            },
            "error_y": {
             "color": "#f2f5fa"
            },
            "marker": {
             "line": {
              "color": "rgb(17,17,17)",
              "width": 0.5
             },
             "pattern": {
              "fillmode": "overlay",
              "size": 10,
              "solidity": 0.2
             }
            },
            "type": "bar"
           }
          ],
          "barpolar": [
           {
            "marker": {
             "line": {
              "color": "rgb(17,17,17)",
              "width": 0.5
             },
             "pattern": {
              "fillmode": "overlay",
              "size": 10,
              "solidity": 0.2
             }
            },
            "type": "barpolar"
           }
          ],
          "carpet": [
           {
            "aaxis": {
             "endlinecolor": "#A2B1C6",
             "gridcolor": "#506784",
             "linecolor": "#506784",
             "minorgridcolor": "#506784",
             "startlinecolor": "#A2B1C6"
            },
            "baxis": {
             "endlinecolor": "#A2B1C6",
             "gridcolor": "#506784",
             "linecolor": "#506784",
             "minorgridcolor": "#506784",
             "startlinecolor": "#A2B1C6"
            },
            "type": "carpet"
           }
          ],
          "choropleth": [
           {
            "colorbar": {
             "outlinewidth": 0,
             "ticks": ""
            },
            "type": "choropleth"
           }
          ],
          "contour": [
           {
            "colorbar": {
             "outlinewidth": 0,
             "ticks": ""
            },
            "colorscale": [
             [
              0,
              "#0d0887"
             ],
             [
              0.1111111111111111,
              "#46039f"
             ],
             [
              0.2222222222222222,
              "#7201a8"
             ],
             [
              0.3333333333333333,
              "#9c179e"
             ],
             [
              0.4444444444444444,
              "#bd3786"
             ],
             [
              0.5555555555555556,
              "#d8576b"
             ],
             [
              0.6666666666666666,
              "#ed7953"
             ],
             [
              0.7777777777777778,
              "#fb9f3a"
             ],
             [
              0.8888888888888888,
              "#fdca26"
             ],
             [
              1,
              "#f0f921"
             ]
            ],
            "type": "contour"
           }
          ],
          "contourcarpet": [
           {
            "colorbar": {
             "outlinewidth": 0,
             "ticks": ""
            },
            "type": "contourcarpet"
           }
          ],
          "heatmap": [
           {
            "colorbar": {
             "outlinewidth": 0,
             "ticks": ""
            },
            "colorscale": [
             [
              0,
              "#0d0887"
             ],
             [
              0.1111111111111111,
              "#46039f"
             ],
             [
              0.2222222222222222,
              "#7201a8"
             ],
             [
              0.3333333333333333,
              "#9c179e"
             ],
             [
              0.4444444444444444,
              "#bd3786"
             ],
             [
              0.5555555555555556,
              "#d8576b"
             ],
             [
              0.6666666666666666,
              "#ed7953"
             ],
             [
              0.7777777777777778,
              "#fb9f3a"
             ],
             [
              0.8888888888888888,
              "#fdca26"
             ],
             [
              1,
              "#f0f921"
             ]
            ],
            "type": "heatmap"
           }
          ],
          "heatmapgl": [
           {
            "colorbar": {
             "outlinewidth": 0,
             "ticks": ""
            },
            "colorscale": [
             [
              0,
              "#0d0887"
             ],
             [
              0.1111111111111111,
              "#46039f"
             ],
             [
              0.2222222222222222,
              "#7201a8"
             ],
             [
              0.3333333333333333,
              "#9c179e"
             ],
             [
              0.4444444444444444,
              "#bd3786"
             ],
             [
              0.5555555555555556,
              "#d8576b"
             ],
             [
              0.6666666666666666,
              "#ed7953"
             ],
             [
              0.7777777777777778,
              "#fb9f3a"
             ],
             [
              0.8888888888888888,
              "#fdca26"
             ],
             [
              1,
              "#f0f921"
             ]
            ],
            "type": "heatmapgl"
           }
          ],
          "histogram": [
           {
            "marker": {
             "pattern": {
              "fillmode": "overlay",
              "size": 10,
              "solidity": 0.2
             }
            },
            "type": "histogram"
           }
          ],
          "histogram2d": [
           {
            "colorbar": {
             "outlinewidth": 0,
             "ticks": ""
            },
            "colorscale": [
             [
              0,
              "#0d0887"
             ],
             [
              0.1111111111111111,
              "#46039f"
             ],
             [
              0.2222222222222222,
              "#7201a8"
             ],
             [
              0.3333333333333333,
              "#9c179e"
             ],
             [
              0.4444444444444444,
              "#bd3786"
             ],
             [
              0.5555555555555556,
              "#d8576b"
             ],
             [
              0.6666666666666666,
              "#ed7953"
             ],
             [
              0.7777777777777778,
              "#fb9f3a"
             ],
             [
              0.8888888888888888,
              "#fdca26"
             ],
             [
              1,
              "#f0f921"
             ]
            ],
            "type": "histogram2d"
           }
          ],
          "histogram2dcontour": [
           {
            "colorbar": {
             "outlinewidth": 0,
             "ticks": ""
            },
            "colorscale": [
             [
              0,
              "#0d0887"
             ],
             [
              0.1111111111111111,
              "#46039f"
             ],
             [
              0.2222222222222222,
              "#7201a8"
             ],
             [
              0.3333333333333333,
              "#9c179e"
             ],
             [
              0.4444444444444444,
              "#bd3786"
             ],
             [
              0.5555555555555556,
              "#d8576b"
             ],
             [
              0.6666666666666666,
              "#ed7953"
             ],
             [
              0.7777777777777778,
              "#fb9f3a"
             ],
             [
              0.8888888888888888,
              "#fdca26"
             ],
             [
              1,
              "#f0f921"
             ]
            ],
            "type": "histogram2dcontour"
           }
          ],
          "mesh3d": [
           {
            "colorbar": {
             "outlinewidth": 0,
             "ticks": ""
            },
            "type": "mesh3d"
           }
          ],
          "parcoords": [
           {
            "line": {
             "colorbar": {
              "outlinewidth": 0,
              "ticks": ""
             }
            },
            "type": "parcoords"
           }
          ],
          "pie": [
           {
            "automargin": true,
            "type": "pie"
           }
          ],
          "scatter": [
           {
            "marker": {
             "line": {
              "color": "#283442"
             }
            },
            "type": "scatter"
           }
          ],
          "scatter3d": [
           {
            "line": {
             "colorbar": {
              "outlinewidth": 0,
              "ticks": ""
             }
            },
            "marker": {
             "colorbar": {
              "outlinewidth": 0,
              "ticks": ""
             }
            },
            "type": "scatter3d"
           }
          ],
          "scattercarpet": [
           {
            "marker": {
             "colorbar": {
              "outlinewidth": 0,
              "ticks": ""
             }
            },
            "type": "scattercarpet"
           }
          ],
          "scattergeo": [
           {
            "marker": {
             "colorbar": {
              "outlinewidth": 0,
              "ticks": ""
             }
            },
            "type": "scattergeo"
           }
          ],
          "scattergl": [
           {
            "marker": {
             "line": {
              "color": "#283442"
             }
            },
            "type": "scattergl"
           }
          ],
          "scattermapbox": [
           {
            "marker": {
             "colorbar": {
              "outlinewidth": 0,
              "ticks": ""
             }
            },
            "type": "scattermapbox"
           }
          ],
          "scatterpolar": [
           {
            "marker": {
             "colorbar": {
              "outlinewidth": 0,
              "ticks": ""
             }
            },
            "type": "scatterpolar"
           }
          ],
          "scatterpolargl": [
           {
            "marker": {
             "colorbar": {
              "outlinewidth": 0,
              "ticks": ""
             }
            },
            "type": "scatterpolargl"
           }
          ],
          "scatterternary": [
           {
            "marker": {
             "colorbar": {
              "outlinewidth": 0,
              "ticks": ""
             }
            },
            "type": "scatterternary"
           }
          ],
          "surface": [
           {
            "colorbar": {
             "outlinewidth": 0,
             "ticks": ""
            },
            "colorscale": [
             [
              0,
              "#0d0887"
             ],
             [
              0.1111111111111111,
              "#46039f"
             ],
             [
              0.2222222222222222,
              "#7201a8"
             ],
             [
              0.3333333333333333,
              "#9c179e"
             ],
             [
              0.4444444444444444,
              "#bd3786"
             ],
             [
              0.5555555555555556,
              "#d8576b"
             ],
             [
              0.6666666666666666,
              "#ed7953"
             ],
             [
              0.7777777777777778,
              "#fb9f3a"
             ],
             [
              0.8888888888888888,
              "#fdca26"
             ],
             [
              1,
              "#f0f921"
             ]
            ],
            "type": "surface"
           }
          ],
          "table": [
           {
            "cells": {
             "fill": {
              "color": "#506784"
             },
             "line": {
              "color": "rgb(17,17,17)"
             }
            },
            "header": {
             "fill": {
              "color": "#2a3f5f"
             },
             "line": {
              "color": "rgb(17,17,17)"
             }
            },
            "type": "table"
           }
          ]
         },
         "layout": {
          "annotationdefaults": {
           "arrowcolor": "#f2f5fa",
           "arrowhead": 0,
           "arrowwidth": 1
          },
          "autotypenumbers": "strict",
          "coloraxis": {
           "colorbar": {
            "outlinewidth": 0,
            "ticks": ""
           }
          },
          "colorscale": {
           "diverging": [
            [
             0,
             "#8e0152"
            ],
            [
             0.1,
             "#c51b7d"
            ],
            [
             0.2,
             "#de77ae"
            ],
            [
             0.3,
             "#f1b6da"
            ],
            [
             0.4,
             "#fde0ef"
            ],
            [
             0.5,
             "#f7f7f7"
            ],
            [
             0.6,
             "#e6f5d0"
            ],
            [
             0.7,
             "#b8e186"
            ],
            [
             0.8,
             "#7fbc41"
            ],
            [
             0.9,
             "#4d9221"
            ],
            [
             1,
             "#276419"
            ]
           ],
           "sequential": [
            [
             0,
             "#0d0887"
            ],
            [
             0.1111111111111111,
             "#46039f"
            ],
            [
             0.2222222222222222,
             "#7201a8"
            ],
            [
             0.3333333333333333,
             "#9c179e"
            ],
            [
             0.4444444444444444,
             "#bd3786"
            ],
            [
             0.5555555555555556,
             "#d8576b"
            ],
            [
             0.6666666666666666,
             "#ed7953"
            ],
            [
             0.7777777777777778,
             "#fb9f3a"
            ],
            [
             0.8888888888888888,
             "#fdca26"
            ],
            [
             1,
             "#f0f921"
            ]
           ],
           "sequentialminus": [
            [
             0,
             "#0d0887"
            ],
            [
             0.1111111111111111,
             "#46039f"
            ],
            [
             0.2222222222222222,
             "#7201a8"
            ],
            [
             0.3333333333333333,
             "#9c179e"
            ],
            [
             0.4444444444444444,
             "#bd3786"
            ],
            [
             0.5555555555555556,
             "#d8576b"
            ],
            [
             0.6666666666666666,
             "#ed7953"
            ],
            [
             0.7777777777777778,
             "#fb9f3a"
            ],
            [
             0.8888888888888888,
             "#fdca26"
            ],
            [
             1,
             "#f0f921"
            ]
           ]
          },
          "colorway": [
           "#636efa",
           "#EF553B",
           "#00cc96",
           "#ab63fa",
           "#FFA15A",
           "#19d3f3",
           "#FF6692",
           "#B6E880",
           "#FF97FF",
           "#FECB52"
          ],
          "font": {
           "color": "#f2f5fa"
          },
          "geo": {
           "bgcolor": "rgb(17,17,17)",
           "lakecolor": "rgb(17,17,17)",
           "landcolor": "rgb(17,17,17)",
           "showlakes": true,
           "showland": true,
           "subunitcolor": "#506784"
          },
          "hoverlabel": {
           "align": "left"
          },
          "hovermode": "closest",
          "mapbox": {
           "style": "dark"
          },
          "paper_bgcolor": "rgb(17,17,17)",
          "plot_bgcolor": "rgb(17,17,17)",
          "polar": {
           "angularaxis": {
            "gridcolor": "#506784",
            "linecolor": "#506784",
            "ticks": ""
           },
           "bgcolor": "rgb(17,17,17)",
           "radialaxis": {
            "gridcolor": "#506784",
            "linecolor": "#506784",
            "ticks": ""
           }
          },
          "scene": {
           "xaxis": {
            "backgroundcolor": "rgb(17,17,17)",
            "gridcolor": "#506784",
            "gridwidth": 2,
            "linecolor": "#506784",
            "showbackground": true,
            "ticks": "",
            "zerolinecolor": "#C8D4E3"
           },
           "yaxis": {
            "backgroundcolor": "rgb(17,17,17)",
            "gridcolor": "#506784",
            "gridwidth": 2,
            "linecolor": "#506784",
            "showbackground": true,
            "ticks": "",
            "zerolinecolor": "#C8D4E3"
           },
           "zaxis": {
            "backgroundcolor": "rgb(17,17,17)",
            "gridcolor": "#506784",
            "gridwidth": 2,
            "linecolor": "#506784",
            "showbackground": true,
            "ticks": "",
            "zerolinecolor": "#C8D4E3"
           }
          },
          "shapedefaults": {
           "line": {
            "color": "#f2f5fa"
           }
          },
          "sliderdefaults": {
           "bgcolor": "#C8D4E3",
           "bordercolor": "rgb(17,17,17)",
           "borderwidth": 1,
           "tickwidth": 0
          },
          "ternary": {
           "aaxis": {
            "gridcolor": "#506784",
            "linecolor": "#506784",
            "ticks": ""
           },
           "baxis": {
            "gridcolor": "#506784",
            "linecolor": "#506784",
            "ticks": ""
           },
           "bgcolor": "rgb(17,17,17)",
           "caxis": {
            "gridcolor": "#506784",
            "linecolor": "#506784",
            "ticks": ""
           }
          },
          "title": {
           "x": 0.05
          },
          "updatemenudefaults": {
           "bgcolor": "#506784",
           "borderwidth": 0
          },
          "xaxis": {
           "automargin": true,
           "gridcolor": "#283442",
           "linecolor": "#506784",
           "ticks": "",
           "title": {
            "standoff": 15
           },
           "zerolinecolor": "#283442",
           "zerolinewidth": 2
          },
          "yaxis": {
           "automargin": true,
           "gridcolor": "#283442",
           "linecolor": "#506784",
           "ticks": "",
           "title": {
            "standoff": 15
           },
           "zerolinecolor": "#283442",
           "zerolinewidth": 2
          }
         }
        },
        "title": {
         "text": "\n        Wordle outcome distribution with starting guess `soare`\n<br>prior entropy:       11.17\n<br>candidate expected information gain:  5.89"
        },
        "xaxis": {
         "anchor": "y",
         "domain": [
          0,
          1
         ],
         "title": {
          "text": "pattern"
         }
        },
        "yaxis": {
         "anchor": "x",
         "domain": [
          0,
          1
         ],
         "title": {
          "text": "probability"
         }
        }
       }
      }
     },
     "metadata": {},
     "output_type": "display_data"
    }
   ],
   "source": [
    "wd.display.plot_distrib(\"soare\", psm_v2)"
   ]
  },
  {
   "attachments": {},
   "cell_type": "markdown",
   "metadata": {},
   "source": [
    "Comments: no outcome is more than 8% likely to happen.\n",
    "## worst starting guesses"
   ]
  },
  {
   "cell_type": "code",
   "execution_count": 105,
   "metadata": {},
   "outputs": [
    {
     "data": {
      "text/plain": [
       "yukky    2.205343\n",
       "xylyl    2.189638\n",
       "immix    2.055325\n",
       "jujus    2.039470\n",
       "qajaq    1.890193\n",
       "dtype: float64"
      ]
     },
     "execution_count": 105,
     "metadata": {},
     "output_type": "execute_result"
    }
   ],
   "source": [
    "wd.player.get_all_candidate_entropies(psm_v2).tail(5)"
   ]
  },
  {
   "cell_type": "code",
   "execution_count": 124,
   "metadata": {},
   "outputs": [
    {
     "data": {
      "application/vnd.plotly.v1+json": {
       "config": {
        "plotlyServerURL": "https://plot.ly"
       },
       "data": [
        {
         "alignmentgroup": "True",
         "customdata": [
          [
           1364,
           [
            "awash",
            "below",
            "drown",
            "harem",
            "other",
            "peril",
            "rabid",
            "refer",
            "score",
            "since",
            "topaz",
            "trove"
           ]
          ],
          [
           268,
           [
            "angry",
            "array",
            "epoxy",
            "fanny",
            "foamy",
            "lorry",
            "mammy",
            "reply",
            "rowdy",
            "sissy",
            "story",
            "tipsy"
           ]
          ],
          [
           239,
           [
            "album",
            "brute",
            "gruff",
            "input",
            "occur",
            "opium",
            "prude",
            "route",
            "thrum",
            "truce",
            "uncle",
            "utile"
           ]
          ],
          [
           121,
           [
            "bugle",
            "built",
            "burst",
            "curse",
            "fugue",
            "humph",
            "purse",
            "qualm",
            "suave",
            "suing",
            "tulip",
            "turbo"
           ]
          ],
          [
           107,
           [
            "brick",
            "chick",
            "clank",
            "crook",
            "knelt",
            "knife",
            "known",
            "plank",
            "skier",
            "sleek",
            "slick",
            "tweak"
           ]
          ],
          [
           48,
           [
            "buddy",
            "buggy",
            "curry",
            "duchy",
            "juicy",
            "jumpy",
            "muddy",
            "puffy",
            "pushy",
            "ruddy",
            "rusty",
            "sully"
           ]
          ],
          [
           42,
           [
            "cyber",
            "dying",
            "eying",
            "gayer",
            "glyph",
            "hydro",
            "layer",
            "nymph",
            "rhyme",
            "style",
            "tryst",
            "tying"
           ]
          ],
          [
           21,
           [
            "awoke",
            "brake",
            "broke",
            "choke",
            "evoke",
            "parka",
            "shake",
            "smoke",
            "snake",
            "spoke",
            "stoke",
            "vodka"
           ]
          ],
          [
           20,
           [
            "flaky",
            "jerky",
            "lanky",
            "leaky",
            "milky",
            "perky",
            "pesky",
            "picky",
            "pinky",
            "risky",
            "shaky",
            "silky"
           ]
          ],
          [
           17,
           [
            "chunk",
            "cluck",
            "drunk",
            "pluck",
            "plunk",
            "shuck",
            "skull",
            "slunk",
            "snuck",
            "spunk",
            "stuck",
            "trunk"
           ]
          ],
          [
           12,
           [
            "ankle",
            "askew",
            "baker",
            "joker",
            "liken",
            "maker",
            "oaken",
            "poker",
            "taken",
            "taker",
            "token",
            "woken"
           ]
          ],
          [
           10,
           [
            "bulky",
            "dusky",
            "funky",
            "hunky",
            "husky",
            "lucky",
            "mucky",
            "murky",
            "musky",
            "sulky"
           ]
          ],
          [
           8,
           [
            "coyly",
            "dryly",
            "gayly",
            "gypsy",
            "pygmy",
            "shyly",
            "slyly",
            "wryly"
           ]
          ],
          [
           8,
           [
            "gaudy",
            "lousy",
            "pouty",
            "saucy",
            "study",
            "truly",
            "unify",
            "unity"
           ]
          ],
          [
           4,
           [
            "yacht",
            "yearn",
            "yeast",
            "yield"
           ]
          ],
          [
           4,
           [
            "quack",
            "quark",
            "quick",
            "quirk"
           ]
          ],
          [
           3,
           [
            "kiosk",
            "knack",
            "knock"
           ]
          ],
          [
           2,
           [
            "skulk",
            "skunk"
           ]
          ],
          [
           2,
           [
            "young",
            "youth"
           ]
          ],
          [
           2,
           [
            "bayou",
            "syrup"
           ]
          ],
          [
           1,
           [
            "kitty"
           ]
          ],
          [
           1,
           [
            "kayak"
           ]
          ],
          [
           1,
           [
            "khaki"
           ]
          ],
          [
           1,
           [
            "quake"
           ]
          ],
          [
           1,
           [
            "fluke"
           ]
          ],
          [
           1,
           [
            "buyer"
           ]
          ],
          [
           1,
           [
            "kinky"
           ]
          ]
         ],
         "hovertemplate": "pattern=%{x}<br>probability=%{y}<br>n_words_matching=%{customdata[0]}<br>possible_solutions=%{customdata[1]}<extra></extra>",
         "legendgroup": "",
         "marker": {
          "color": "#636efa",
          "pattern": {
           "shape": ""
          }
         },
         "name": "",
         "offsetgroup": "",
         "orientation": "v",
         "showlegend": false,
         "textposition": "auto",
         "type": "bar",
         "x": [
          "0",
          "20000",
          "00010",
          "00020",
          "00100",
          "20020",
          "00001",
          "02000",
          "22000",
          "00110",
          "00200",
          "22020",
          "20001",
          "20010",
          "00002",
          "00120",
          "01100",
          "01110",
          "00012",
          "00011",
          "20100",
          "01101",
          "02100",
          "02020",
          "02010",
          "00021",
          "22100"
         ],
         "xaxis": "x",
         "y": [
          0.5907319185794716,
          0.11606756171502815,
          0.10350801212646167,
          0.052403637938501516,
          0.04634040710264184,
          0.02078822000866176,
          0.018189692507579038,
          0.009094846253789519,
          0.0086617583369424,
          0.0073624945864010395,
          0.00519705500216544,
          0.0043308791684712,
          0.0034647033347769596,
          0.0034647033347769596,
          0.0017323516673884798,
          0.0017323516673884798,
          0.00129926375054136,
          0.0008661758336942399,
          0.0008661758336942399,
          0.0008661758336942399,
          0.00043308791684711995,
          0.00043308791684711995,
          0.00043308791684711995,
          0.00043308791684711995,
          0.00043308791684711995,
          0.00043308791684711995,
          0.00043308791684711995
         ],
         "yaxis": "y"
        }
       ],
       "layout": {
        "barmode": "relative",
        "legend": {
         "tracegroupgap": 0
        },
        "template": {
         "data": {
          "bar": [
           {
            "error_x": {
             "color": "#f2f5fa"
            },
            "error_y": {
             "color": "#f2f5fa"
            },
            "marker": {
             "line": {
              "color": "rgb(17,17,17)",
              "width": 0.5
             },
             "pattern": {
              "fillmode": "overlay",
              "size": 10,
              "solidity": 0.2
             }
            },
            "type": "bar"
           }
          ],
          "barpolar": [
           {
            "marker": {
             "line": {
              "color": "rgb(17,17,17)",
              "width": 0.5
             },
             "pattern": {
              "fillmode": "overlay",
              "size": 10,
              "solidity": 0.2
             }
            },
            "type": "barpolar"
           }
          ],
          "carpet": [
           {
            "aaxis": {
             "endlinecolor": "#A2B1C6",
             "gridcolor": "#506784",
             "linecolor": "#506784",
             "minorgridcolor": "#506784",
             "startlinecolor": "#A2B1C6"
            },
            "baxis": {
             "endlinecolor": "#A2B1C6",
             "gridcolor": "#506784",
             "linecolor": "#506784",
             "minorgridcolor": "#506784",
             "startlinecolor": "#A2B1C6"
            },
            "type": "carpet"
           }
          ],
          "choropleth": [
           {
            "colorbar": {
             "outlinewidth": 0,
             "ticks": ""
            },
            "type": "choropleth"
           }
          ],
          "contour": [
           {
            "colorbar": {
             "outlinewidth": 0,
             "ticks": ""
            },
            "colorscale": [
             [
              0,
              "#0d0887"
             ],
             [
              0.1111111111111111,
              "#46039f"
             ],
             [
              0.2222222222222222,
              "#7201a8"
             ],
             [
              0.3333333333333333,
              "#9c179e"
             ],
             [
              0.4444444444444444,
              "#bd3786"
             ],
             [
              0.5555555555555556,
              "#d8576b"
             ],
             [
              0.6666666666666666,
              "#ed7953"
             ],
             [
              0.7777777777777778,
              "#fb9f3a"
             ],
             [
              0.8888888888888888,
              "#fdca26"
             ],
             [
              1,
              "#f0f921"
             ]
            ],
            "type": "contour"
           }
          ],
          "contourcarpet": [
           {
            "colorbar": {
             "outlinewidth": 0,
             "ticks": ""
            },
            "type": "contourcarpet"
           }
          ],
          "heatmap": [
           {
            "colorbar": {
             "outlinewidth": 0,
             "ticks": ""
            },
            "colorscale": [
             [
              0,
              "#0d0887"
             ],
             [
              0.1111111111111111,
              "#46039f"
             ],
             [
              0.2222222222222222,
              "#7201a8"
             ],
             [
              0.3333333333333333,
              "#9c179e"
             ],
             [
              0.4444444444444444,
              "#bd3786"
             ],
             [
              0.5555555555555556,
              "#d8576b"
             ],
             [
              0.6666666666666666,
              "#ed7953"
             ],
             [
              0.7777777777777778,
              "#fb9f3a"
             ],
             [
              0.8888888888888888,
              "#fdca26"
             ],
             [
              1,
              "#f0f921"
             ]
            ],
            "type": "heatmap"
           }
          ],
          "heatmapgl": [
           {
            "colorbar": {
             "outlinewidth": 0,
             "ticks": ""
            },
            "colorscale": [
             [
              0,
              "#0d0887"
             ],
             [
              0.1111111111111111,
              "#46039f"
             ],
             [
              0.2222222222222222,
              "#7201a8"
             ],
             [
              0.3333333333333333,
              "#9c179e"
             ],
             [
              0.4444444444444444,
              "#bd3786"
             ],
             [
              0.5555555555555556,
              "#d8576b"
             ],
             [
              0.6666666666666666,
              "#ed7953"
             ],
             [
              0.7777777777777778,
              "#fb9f3a"
             ],
             [
              0.8888888888888888,
              "#fdca26"
             ],
             [
              1,
              "#f0f921"
             ]
            ],
            "type": "heatmapgl"
           }
          ],
          "histogram": [
           {
            "marker": {
             "pattern": {
              "fillmode": "overlay",
              "size": 10,
              "solidity": 0.2
             }
            },
            "type": "histogram"
           }
          ],
          "histogram2d": [
           {
            "colorbar": {
             "outlinewidth": 0,
             "ticks": ""
            },
            "colorscale": [
             [
              0,
              "#0d0887"
             ],
             [
              0.1111111111111111,
              "#46039f"
             ],
             [
              0.2222222222222222,
              "#7201a8"
             ],
             [
              0.3333333333333333,
              "#9c179e"
             ],
             [
              0.4444444444444444,
              "#bd3786"
             ],
             [
              0.5555555555555556,
              "#d8576b"
             ],
             [
              0.6666666666666666,
              "#ed7953"
             ],
             [
              0.7777777777777778,
              "#fb9f3a"
             ],
             [
              0.8888888888888888,
              "#fdca26"
             ],
             [
              1,
              "#f0f921"
             ]
            ],
            "type": "histogram2d"
           }
          ],
          "histogram2dcontour": [
           {
            "colorbar": {
             "outlinewidth": 0,
             "ticks": ""
            },
            "colorscale": [
             [
              0,
              "#0d0887"
             ],
             [
              0.1111111111111111,
              "#46039f"
             ],
             [
              0.2222222222222222,
              "#7201a8"
             ],
             [
              0.3333333333333333,
              "#9c179e"
             ],
             [
              0.4444444444444444,
              "#bd3786"
             ],
             [
              0.5555555555555556,
              "#d8576b"
             ],
             [
              0.6666666666666666,
              "#ed7953"
             ],
             [
              0.7777777777777778,
              "#fb9f3a"
             ],
             [
              0.8888888888888888,
              "#fdca26"
             ],
             [
              1,
              "#f0f921"
             ]
            ],
            "type": "histogram2dcontour"
           }
          ],
          "mesh3d": [
           {
            "colorbar": {
             "outlinewidth": 0,
             "ticks": ""
            },
            "type": "mesh3d"
           }
          ],
          "parcoords": [
           {
            "line": {
             "colorbar": {
              "outlinewidth": 0,
              "ticks": ""
             }
            },
            "type": "parcoords"
           }
          ],
          "pie": [
           {
            "automargin": true,
            "type": "pie"
           }
          ],
          "scatter": [
           {
            "marker": {
             "line": {
              "color": "#283442"
             }
            },
            "type": "scatter"
           }
          ],
          "scatter3d": [
           {
            "line": {
             "colorbar": {
              "outlinewidth": 0,
              "ticks": ""
             }
            },
            "marker": {
             "colorbar": {
              "outlinewidth": 0,
              "ticks": ""
             }
            },
            "type": "scatter3d"
           }
          ],
          "scattercarpet": [
           {
            "marker": {
             "colorbar": {
              "outlinewidth": 0,
              "ticks": ""
             }
            },
            "type": "scattercarpet"
           }
          ],
          "scattergeo": [
           {
            "marker": {
             "colorbar": {
              "outlinewidth": 0,
              "ticks": ""
             }
            },
            "type": "scattergeo"
           }
          ],
          "scattergl": [
           {
            "marker": {
             "line": {
              "color": "#283442"
             }
            },
            "type": "scattergl"
           }
          ],
          "scattermapbox": [
           {
            "marker": {
             "colorbar": {
              "outlinewidth": 0,
              "ticks": ""
             }
            },
            "type": "scattermapbox"
           }
          ],
          "scatterpolar": [
           {
            "marker": {
             "colorbar": {
              "outlinewidth": 0,
              "ticks": ""
             }
            },
            "type": "scatterpolar"
           }
          ],
          "scatterpolargl": [
           {
            "marker": {
             "colorbar": {
              "outlinewidth": 0,
              "ticks": ""
             }
            },
            "type": "scatterpolargl"
           }
          ],
          "scatterternary": [
           {
            "marker": {
             "colorbar": {
              "outlinewidth": 0,
              "ticks": ""
             }
            },
            "type": "scatterternary"
           }
          ],
          "surface": [
           {
            "colorbar": {
             "outlinewidth": 0,
             "ticks": ""
            },
            "colorscale": [
             [
              0,
              "#0d0887"
             ],
             [
              0.1111111111111111,
              "#46039f"
             ],
             [
              0.2222222222222222,
              "#7201a8"
             ],
             [
              0.3333333333333333,
              "#9c179e"
             ],
             [
              0.4444444444444444,
              "#bd3786"
             ],
             [
              0.5555555555555556,
              "#d8576b"
             ],
             [
              0.6666666666666666,
              "#ed7953"
             ],
             [
              0.7777777777777778,
              "#fb9f3a"
             ],
             [
              0.8888888888888888,
              "#fdca26"
             ],
             [
              1,
              "#f0f921"
             ]
            ],
            "type": "surface"
           }
          ],
          "table": [
           {
            "cells": {
             "fill": {
              "color": "#506784"
             },
             "line": {
              "color": "rgb(17,17,17)"
             }
            },
            "header": {
             "fill": {
              "color": "#2a3f5f"
             },
             "line": {
              "color": "rgb(17,17,17)"
             }
            },
            "type": "table"
           }
          ]
         },
         "layout": {
          "annotationdefaults": {
           "arrowcolor": "#f2f5fa",
           "arrowhead": 0,
           "arrowwidth": 1
          },
          "autotypenumbers": "strict",
          "coloraxis": {
           "colorbar": {
            "outlinewidth": 0,
            "ticks": ""
           }
          },
          "colorscale": {
           "diverging": [
            [
             0,
             "#8e0152"
            ],
            [
             0.1,
             "#c51b7d"
            ],
            [
             0.2,
             "#de77ae"
            ],
            [
             0.3,
             "#f1b6da"
            ],
            [
             0.4,
             "#fde0ef"
            ],
            [
             0.5,
             "#f7f7f7"
            ],
            [
             0.6,
             "#e6f5d0"
            ],
            [
             0.7,
             "#b8e186"
            ],
            [
             0.8,
             "#7fbc41"
            ],
            [
             0.9,
             "#4d9221"
            ],
            [
             1,
             "#276419"
            ]
           ],
           "sequential": [
            [
             0,
             "#0d0887"
            ],
            [
             0.1111111111111111,
             "#46039f"
            ],
            [
             0.2222222222222222,
             "#7201a8"
            ],
            [
             0.3333333333333333,
             "#9c179e"
            ],
            [
             0.4444444444444444,
             "#bd3786"
            ],
            [
             0.5555555555555556,
             "#d8576b"
            ],
            [
             0.6666666666666666,
             "#ed7953"
            ],
            [
             0.7777777777777778,
             "#fb9f3a"
            ],
            [
             0.8888888888888888,
             "#fdca26"
            ],
            [
             1,
             "#f0f921"
            ]
           ],
           "sequentialminus": [
            [
             0,
             "#0d0887"
            ],
            [
             0.1111111111111111,
             "#46039f"
            ],
            [
             0.2222222222222222,
             "#7201a8"
            ],
            [
             0.3333333333333333,
             "#9c179e"
            ],
            [
             0.4444444444444444,
             "#bd3786"
            ],
            [
             0.5555555555555556,
             "#d8576b"
            ],
            [
             0.6666666666666666,
             "#ed7953"
            ],
            [
             0.7777777777777778,
             "#fb9f3a"
            ],
            [
             0.8888888888888888,
             "#fdca26"
            ],
            [
             1,
             "#f0f921"
            ]
           ]
          },
          "colorway": [
           "#636efa",
           "#EF553B",
           "#00cc96",
           "#ab63fa",
           "#FFA15A",
           "#19d3f3",
           "#FF6692",
           "#B6E880",
           "#FF97FF",
           "#FECB52"
          ],
          "font": {
           "color": "#f2f5fa"
          },
          "geo": {
           "bgcolor": "rgb(17,17,17)",
           "lakecolor": "rgb(17,17,17)",
           "landcolor": "rgb(17,17,17)",
           "showlakes": true,
           "showland": true,
           "subunitcolor": "#506784"
          },
          "hoverlabel": {
           "align": "left"
          },
          "hovermode": "closest",
          "mapbox": {
           "style": "dark"
          },
          "paper_bgcolor": "rgb(17,17,17)",
          "plot_bgcolor": "rgb(17,17,17)",
          "polar": {
           "angularaxis": {
            "gridcolor": "#506784",
            "linecolor": "#506784",
            "ticks": ""
           },
           "bgcolor": "rgb(17,17,17)",
           "radialaxis": {
            "gridcolor": "#506784",
            "linecolor": "#506784",
            "ticks": ""
           }
          },
          "scene": {
           "xaxis": {
            "backgroundcolor": "rgb(17,17,17)",
            "gridcolor": "#506784",
            "gridwidth": 2,
            "linecolor": "#506784",
            "showbackground": true,
            "ticks": "",
            "zerolinecolor": "#C8D4E3"
           },
           "yaxis": {
            "backgroundcolor": "rgb(17,17,17)",
            "gridcolor": "#506784",
            "gridwidth": 2,
            "linecolor": "#506784",
            "showbackground": true,
            "ticks": "",
            "zerolinecolor": "#C8D4E3"
           },
           "zaxis": {
            "backgroundcolor": "rgb(17,17,17)",
            "gridcolor": "#506784",
            "gridwidth": 2,
            "linecolor": "#506784",
            "showbackground": true,
            "ticks": "",
            "zerolinecolor": "#C8D4E3"
           }
          },
          "shapedefaults": {
           "line": {
            "color": "#f2f5fa"
           }
          },
          "sliderdefaults": {
           "bgcolor": "#C8D4E3",
           "bordercolor": "rgb(17,17,17)",
           "borderwidth": 1,
           "tickwidth": 0
          },
          "ternary": {
           "aaxis": {
            "gridcolor": "#506784",
            "linecolor": "#506784",
            "ticks": ""
           },
           "baxis": {
            "gridcolor": "#506784",
            "linecolor": "#506784",
            "ticks": ""
           },
           "bgcolor": "rgb(17,17,17)",
           "caxis": {
            "gridcolor": "#506784",
            "linecolor": "#506784",
            "ticks": ""
           }
          },
          "title": {
           "x": 0.05
          },
          "updatemenudefaults": {
           "bgcolor": "#506784",
           "borderwidth": 0
          },
          "xaxis": {
           "automargin": true,
           "gridcolor": "#283442",
           "linecolor": "#506784",
           "ticks": "",
           "title": {
            "standoff": 15
           },
           "zerolinecolor": "#283442",
           "zerolinewidth": 2
          },
          "yaxis": {
           "automargin": true,
           "gridcolor": "#283442",
           "linecolor": "#506784",
           "ticks": "",
           "title": {
            "standoff": 15
           },
           "zerolinecolor": "#283442",
           "zerolinewidth": 2
          }
         }
        },
        "title": {
         "text": "\n        Wordle outcome distribution with starting guess `yukky`\n<br>prior entropy:       11.17\n<br>candidate expected information gain:  2.21"
        },
        "xaxis": {
         "anchor": "y",
         "domain": [
          0,
          1
         ],
         "title": {
          "text": "pattern"
         }
        },
        "yaxis": {
         "anchor": "x",
         "domain": [
          0,
          1
         ],
         "title": {
          "text": "probability"
         }
        }
       }
      }
     },
     "metadata": {},
     "output_type": "display_data"
    }
   ],
   "source": [
    "wd.display.plot_distrib(\"yukky\", psm_v2)"
   ]
  },
  {
   "attachments": {},
   "cell_type": "markdown",
   "metadata": {},
   "source": [
    "**Comments**: the distribution is very unbalanced with almost 60% chance to get zero letters matching and the two next outcomes being matched by over 10% of the possible solutions.\n",
    "\n",
    "# Evaluation\n",
    "* **goal**: maximize average score"
   ]
  },
  {
   "cell_type": "code",
   "execution_count": 110,
   "metadata": {},
   "outputs": [],
   "source": [
    "def run_eval(config) -> tuple[wd.eval.EvalResults, go.Figure]:\n",
    "\n",
    "    wd.player.get_all_candidate_entropies.cache_clear()\n",
    "    eval_words_list = load_words_as_list(config[\"path_to_eval_words_list\"])\n",
    "    \n",
    "    results = wd.eval.eval_player(\n",
    "        eval_words_list, \n",
    "        config[\"player\"], \n",
    "        pool_size=1)\n",
    "\n",
    "    # save results\n",
    "    results.to_json(config[\"path_to_json_output\"])\n",
    "    print(f\"results saved in `{config['path_to_json_output']}`\")\n",
    "\n",
    "    fig = results.barplot(title=config[\"fig_title\"])\n",
    "    fig.write_image(config[\"fig_name\"])\n",
    "\n",
    "    return results, fig"
   ]
  },
  {
   "attachments": {},
   "cell_type": "markdown",
   "metadata": {},
   "source": [
    "## Evaluating v1 - no prior"
   ]
  },
  {
   "cell_type": "code",
   "execution_count": 47,
   "metadata": {},
   "outputs": [
    {
     "name": "stdout",
     "output_type": "stream",
     "text": [
      "EvalResults(size=2,309, avg_score=2.99, dist=[   0   22  414 1443  425    5    0], success_rate=100.0%)\n",
      "results saved in `../data/outputs/eval_results_v1.json`\n"
     ]
    },
    {
     "data": {
      "application/vnd.plotly.v1+json": {
       "config": {
        "plotlyServerURL": "https://plot.ly"
       },
       "data": [
        {
         "alignmentgroup": "True",
         "hovertemplate": "game score (points)=%{x}<br>number of evaluated games=%{y}<extra></extra>",
         "legendgroup": "",
         "marker": {
          "color": "#636efa",
          "pattern": {
           "shape": ""
          }
         },
         "name": "",
         "offsetgroup": "",
         "orientation": "v",
         "showlegend": false,
         "textposition": "auto",
         "type": "bar",
         "x": [
          0,
          1,
          2,
          3,
          4,
          5,
          6
         ],
         "xaxis": "x",
         "y": [
          0,
          22,
          414,
          1443,
          425,
          5,
          0
         ],
         "yaxis": "y"
        }
       ],
       "layout": {
        "barmode": "relative",
        "legend": {
         "tracegroupgap": 0
        },
        "template": {
         "data": {
          "bar": [
           {
            "error_x": {
             "color": "#f2f5fa"
            },
            "error_y": {
             "color": "#f2f5fa"
            },
            "marker": {
             "line": {
              "color": "rgb(17,17,17)",
              "width": 0.5
             },
             "pattern": {
              "fillmode": "overlay",
              "size": 10,
              "solidity": 0.2
             }
            },
            "type": "bar"
           }
          ],
          "barpolar": [
           {
            "marker": {
             "line": {
              "color": "rgb(17,17,17)",
              "width": 0.5
             },
             "pattern": {
              "fillmode": "overlay",
              "size": 10,
              "solidity": 0.2
             }
            },
            "type": "barpolar"
           }
          ],
          "carpet": [
           {
            "aaxis": {
             "endlinecolor": "#A2B1C6",
             "gridcolor": "#506784",
             "linecolor": "#506784",
             "minorgridcolor": "#506784",
             "startlinecolor": "#A2B1C6"
            },
            "baxis": {
             "endlinecolor": "#A2B1C6",
             "gridcolor": "#506784",
             "linecolor": "#506784",
             "minorgridcolor": "#506784",
             "startlinecolor": "#A2B1C6"
            },
            "type": "carpet"
           }
          ],
          "choropleth": [
           {
            "colorbar": {
             "outlinewidth": 0,
             "ticks": ""
            },
            "type": "choropleth"
           }
          ],
          "contour": [
           {
            "colorbar": {
             "outlinewidth": 0,
             "ticks": ""
            },
            "colorscale": [
             [
              0,
              "#0d0887"
             ],
             [
              0.1111111111111111,
              "#46039f"
             ],
             [
              0.2222222222222222,
              "#7201a8"
             ],
             [
              0.3333333333333333,
              "#9c179e"
             ],
             [
              0.4444444444444444,
              "#bd3786"
             ],
             [
              0.5555555555555556,
              "#d8576b"
             ],
             [
              0.6666666666666666,
              "#ed7953"
             ],
             [
              0.7777777777777778,
              "#fb9f3a"
             ],
             [
              0.8888888888888888,
              "#fdca26"
             ],
             [
              1,
              "#f0f921"
             ]
            ],
            "type": "contour"
           }
          ],
          "contourcarpet": [
           {
            "colorbar": {
             "outlinewidth": 0,
             "ticks": ""
            },
            "type": "contourcarpet"
           }
          ],
          "heatmap": [
           {
            "colorbar": {
             "outlinewidth": 0,
             "ticks": ""
            },
            "colorscale": [
             [
              0,
              "#0d0887"
             ],
             [
              0.1111111111111111,
              "#46039f"
             ],
             [
              0.2222222222222222,
              "#7201a8"
             ],
             [
              0.3333333333333333,
              "#9c179e"
             ],
             [
              0.4444444444444444,
              "#bd3786"
             ],
             [
              0.5555555555555556,
              "#d8576b"
             ],
             [
              0.6666666666666666,
              "#ed7953"
             ],
             [
              0.7777777777777778,
              "#fb9f3a"
             ],
             [
              0.8888888888888888,
              "#fdca26"
             ],
             [
              1,
              "#f0f921"
             ]
            ],
            "type": "heatmap"
           }
          ],
          "heatmapgl": [
           {
            "colorbar": {
             "outlinewidth": 0,
             "ticks": ""
            },
            "colorscale": [
             [
              0,
              "#0d0887"
             ],
             [
              0.1111111111111111,
              "#46039f"
             ],
             [
              0.2222222222222222,
              "#7201a8"
             ],
             [
              0.3333333333333333,
              "#9c179e"
             ],
             [
              0.4444444444444444,
              "#bd3786"
             ],
             [
              0.5555555555555556,
              "#d8576b"
             ],
             [
              0.6666666666666666,
              "#ed7953"
             ],
             [
              0.7777777777777778,
              "#fb9f3a"
             ],
             [
              0.8888888888888888,
              "#fdca26"
             ],
             [
              1,
              "#f0f921"
             ]
            ],
            "type": "heatmapgl"
           }
          ],
          "histogram": [
           {
            "marker": {
             "pattern": {
              "fillmode": "overlay",
              "size": 10,
              "solidity": 0.2
             }
            },
            "type": "histogram"
           }
          ],
          "histogram2d": [
           {
            "colorbar": {
             "outlinewidth": 0,
             "ticks": ""
            },
            "colorscale": [
             [
              0,
              "#0d0887"
             ],
             [
              0.1111111111111111,
              "#46039f"
             ],
             [
              0.2222222222222222,
              "#7201a8"
             ],
             [
              0.3333333333333333,
              "#9c179e"
             ],
             [
              0.4444444444444444,
              "#bd3786"
             ],
             [
              0.5555555555555556,
              "#d8576b"
             ],
             [
              0.6666666666666666,
              "#ed7953"
             ],
             [
              0.7777777777777778,
              "#fb9f3a"
             ],
             [
              0.8888888888888888,
              "#fdca26"
             ],
             [
              1,
              "#f0f921"
             ]
            ],
            "type": "histogram2d"
           }
          ],
          "histogram2dcontour": [
           {
            "colorbar": {
             "outlinewidth": 0,
             "ticks": ""
            },
            "colorscale": [
             [
              0,
              "#0d0887"
             ],
             [
              0.1111111111111111,
              "#46039f"
             ],
             [
              0.2222222222222222,
              "#7201a8"
             ],
             [
              0.3333333333333333,
              "#9c179e"
             ],
             [
              0.4444444444444444,
              "#bd3786"
             ],
             [
              0.5555555555555556,
              "#d8576b"
             ],
             [
              0.6666666666666666,
              "#ed7953"
             ],
             [
              0.7777777777777778,
              "#fb9f3a"
             ],
             [
              0.8888888888888888,
              "#fdca26"
             ],
             [
              1,
              "#f0f921"
             ]
            ],
            "type": "histogram2dcontour"
           }
          ],
          "mesh3d": [
           {
            "colorbar": {
             "outlinewidth": 0,
             "ticks": ""
            },
            "type": "mesh3d"
           }
          ],
          "parcoords": [
           {
            "line": {
             "colorbar": {
              "outlinewidth": 0,
              "ticks": ""
             }
            },
            "type": "parcoords"
           }
          ],
          "pie": [
           {
            "automargin": true,
            "type": "pie"
           }
          ],
          "scatter": [
           {
            "marker": {
             "line": {
              "color": "#283442"
             }
            },
            "type": "scatter"
           }
          ],
          "scatter3d": [
           {
            "line": {
             "colorbar": {
              "outlinewidth": 0,
              "ticks": ""
             }
            },
            "marker": {
             "colorbar": {
              "outlinewidth": 0,
              "ticks": ""
             }
            },
            "type": "scatter3d"
           }
          ],
          "scattercarpet": [
           {
            "marker": {
             "colorbar": {
              "outlinewidth": 0,
              "ticks": ""
             }
            },
            "type": "scattercarpet"
           }
          ],
          "scattergeo": [
           {
            "marker": {
             "colorbar": {
              "outlinewidth": 0,
              "ticks": ""
             }
            },
            "type": "scattergeo"
           }
          ],
          "scattergl": [
           {
            "marker": {
             "line": {
              "color": "#283442"
             }
            },
            "type": "scattergl"
           }
          ],
          "scattermapbox": [
           {
            "marker": {
             "colorbar": {
              "outlinewidth": 0,
              "ticks": ""
             }
            },
            "type": "scattermapbox"
           }
          ],
          "scatterpolar": [
           {
            "marker": {
             "colorbar": {
              "outlinewidth": 0,
              "ticks": ""
             }
            },
            "type": "scatterpolar"
           }
          ],
          "scatterpolargl": [
           {
            "marker": {
             "colorbar": {
              "outlinewidth": 0,
              "ticks": ""
             }
            },
            "type": "scatterpolargl"
           }
          ],
          "scatterternary": [
           {
            "marker": {
             "colorbar": {
              "outlinewidth": 0,
              "ticks": ""
             }
            },
            "type": "scatterternary"
           }
          ],
          "surface": [
           {
            "colorbar": {
             "outlinewidth": 0,
             "ticks": ""
            },
            "colorscale": [
             [
              0,
              "#0d0887"
             ],
             [
              0.1111111111111111,
              "#46039f"
             ],
             [
              0.2222222222222222,
              "#7201a8"
             ],
             [
              0.3333333333333333,
              "#9c179e"
             ],
             [
              0.4444444444444444,
              "#bd3786"
             ],
             [
              0.5555555555555556,
              "#d8576b"
             ],
             [
              0.6666666666666666,
              "#ed7953"
             ],
             [
              0.7777777777777778,
              "#fb9f3a"
             ],
             [
              0.8888888888888888,
              "#fdca26"
             ],
             [
              1,
              "#f0f921"
             ]
            ],
            "type": "surface"
           }
          ],
          "table": [
           {
            "cells": {
             "fill": {
              "color": "#506784"
             },
             "line": {
              "color": "rgb(17,17,17)"
             }
            },
            "header": {
             "fill": {
              "color": "#2a3f5f"
             },
             "line": {
              "color": "rgb(17,17,17)"
             }
            },
            "type": "table"
           }
          ]
         },
         "layout": {
          "annotationdefaults": {
           "arrowcolor": "#f2f5fa",
           "arrowhead": 0,
           "arrowwidth": 1
          },
          "autotypenumbers": "strict",
          "coloraxis": {
           "colorbar": {
            "outlinewidth": 0,
            "ticks": ""
           }
          },
          "colorscale": {
           "diverging": [
            [
             0,
             "#8e0152"
            ],
            [
             0.1,
             "#c51b7d"
            ],
            [
             0.2,
             "#de77ae"
            ],
            [
             0.3,
             "#f1b6da"
            ],
            [
             0.4,
             "#fde0ef"
            ],
            [
             0.5,
             "#f7f7f7"
            ],
            [
             0.6,
             "#e6f5d0"
            ],
            [
             0.7,
             "#b8e186"
            ],
            [
             0.8,
             "#7fbc41"
            ],
            [
             0.9,
             "#4d9221"
            ],
            [
             1,
             "#276419"
            ]
           ],
           "sequential": [
            [
             0,
             "#0d0887"
            ],
            [
             0.1111111111111111,
             "#46039f"
            ],
            [
             0.2222222222222222,
             "#7201a8"
            ],
            [
             0.3333333333333333,
             "#9c179e"
            ],
            [
             0.4444444444444444,
             "#bd3786"
            ],
            [
             0.5555555555555556,
             "#d8576b"
            ],
            [
             0.6666666666666666,
             "#ed7953"
            ],
            [
             0.7777777777777778,
             "#fb9f3a"
            ],
            [
             0.8888888888888888,
             "#fdca26"
            ],
            [
             1,
             "#f0f921"
            ]
           ],
           "sequentialminus": [
            [
             0,
             "#0d0887"
            ],
            [
             0.1111111111111111,
             "#46039f"
            ],
            [
             0.2222222222222222,
             "#7201a8"
            ],
            [
             0.3333333333333333,
             "#9c179e"
            ],
            [
             0.4444444444444444,
             "#bd3786"
            ],
            [
             0.5555555555555556,
             "#d8576b"
            ],
            [
             0.6666666666666666,
             "#ed7953"
            ],
            [
             0.7777777777777778,
             "#fb9f3a"
            ],
            [
             0.8888888888888888,
             "#fdca26"
            ],
            [
             1,
             "#f0f921"
            ]
           ]
          },
          "colorway": [
           "#636efa",
           "#EF553B",
           "#00cc96",
           "#ab63fa",
           "#FFA15A",
           "#19d3f3",
           "#FF6692",
           "#B6E880",
           "#FF97FF",
           "#FECB52"
          ],
          "font": {
           "color": "#f2f5fa"
          },
          "geo": {
           "bgcolor": "rgb(17,17,17)",
           "lakecolor": "rgb(17,17,17)",
           "landcolor": "rgb(17,17,17)",
           "showlakes": true,
           "showland": true,
           "subunitcolor": "#506784"
          },
          "hoverlabel": {
           "align": "left"
          },
          "hovermode": "closest",
          "mapbox": {
           "style": "dark"
          },
          "paper_bgcolor": "rgb(17,17,17)",
          "plot_bgcolor": "rgb(17,17,17)",
          "polar": {
           "angularaxis": {
            "gridcolor": "#506784",
            "linecolor": "#506784",
            "ticks": ""
           },
           "bgcolor": "rgb(17,17,17)",
           "radialaxis": {
            "gridcolor": "#506784",
            "linecolor": "#506784",
            "ticks": ""
           }
          },
          "scene": {
           "xaxis": {
            "backgroundcolor": "rgb(17,17,17)",
            "gridcolor": "#506784",
            "gridwidth": 2,
            "linecolor": "#506784",
            "showbackground": true,
            "ticks": "",
            "zerolinecolor": "#C8D4E3"
           },
           "yaxis": {
            "backgroundcolor": "rgb(17,17,17)",
            "gridcolor": "#506784",
            "gridwidth": 2,
            "linecolor": "#506784",
            "showbackground": true,
            "ticks": "",
            "zerolinecolor": "#C8D4E3"
           },
           "zaxis": {
            "backgroundcolor": "rgb(17,17,17)",
            "gridcolor": "#506784",
            "gridwidth": 2,
            "linecolor": "#506784",
            "showbackground": true,
            "ticks": "",
            "zerolinecolor": "#C8D4E3"
           }
          },
          "shapedefaults": {
           "line": {
            "color": "#f2f5fa"
           }
          },
          "sliderdefaults": {
           "bgcolor": "#C8D4E3",
           "bordercolor": "rgb(17,17,17)",
           "borderwidth": 1,
           "tickwidth": 0
          },
          "ternary": {
           "aaxis": {
            "gridcolor": "#506784",
            "linecolor": "#506784",
            "ticks": ""
           },
           "baxis": {
            "gridcolor": "#506784",
            "linecolor": "#506784",
            "ticks": ""
           },
           "bgcolor": "rgb(17,17,17)",
           "caxis": {
            "gridcolor": "#506784",
            "linecolor": "#506784",
            "ticks": ""
           }
          },
          "title": {
           "x": 0.05
          },
          "updatemenudefaults": {
           "bgcolor": "#506784",
           "borderwidth": 0
          },
          "xaxis": {
           "automargin": true,
           "gridcolor": "#283442",
           "linecolor": "#506784",
           "ticks": "",
           "title": {
            "standoff": 15
           },
           "zerolinecolor": "#283442",
           "zerolinewidth": 2
          },
          "yaxis": {
           "automargin": true,
           "gridcolor": "#283442",
           "linecolor": "#506784",
           "ticks": "",
           "title": {
            "standoff": 15
           },
           "zerolinecolor": "#283442",
           "zerolinewidth": 2
          }
         }
        },
        "title": {
         "text": "v1 - no prior on potential solutions - avg. score: 2.99 - success rate: 100%"
        },
        "xaxis": {
         "anchor": "y",
         "domain": [
          0,
          1
         ],
         "title": {
          "text": "game score (points)"
         }
        },
        "yaxis": {
         "anchor": "x",
         "domain": [
          0,
          1
         ],
         "title": {
          "text": "number of evaluated games"
         }
        }
       }
      }
     },
     "metadata": {},
     "output_type": "display_data"
    }
   ],
   "source": [
    "config = {\n",
    "    \"player\": wd.player.GreedyPlayer(starting_psm=psm),\n",
    "    \"path_to_eval_words_list\": DATA_PATH / \"raw/possible_words.txt\",\n",
    "    \"path_to_json_output\": DATA_PATH / \"outputs/eval_results_v1.json\",\n",
    "    \"fig_title\": \"v1 - no prior on potential solutions\",\n",
    "    \"fig_name\": IMG_PATH / \"eval_v1.png\",\n",
    "}\n",
    "\n",
    "res, fig = run_eval(config)"
   ]
  },
  {
   "cell_type": "markdown",
   "metadata": {},
   "source": [
    "## Evaluating v2 - prior knowledge about exact list of potential solutions"
   ]
  },
  {
   "cell_type": "code",
   "execution_count": null,
   "metadata": {},
   "outputs": [
    {
     "name": "stdout",
     "output_type": "stream",
     "text": [
      "EvalResults(size=2,309, avg_score=3.47, dist=[   0    1   67 1111 1098   32    0], success_rate=100.0%)\n",
      "CPU times: user 48min 30s, sys: 33.9 s, total: 49min 4s\n",
      "Wall time: 3h 27min 39s\n"
     ]
    },
    {
     "data": {
      "application/vnd.plotly.v1+json": {
       "config": {
        "plotlyServerURL": "https://plot.ly"
       },
       "data": [
        {
         "alignmentgroup": "True",
         "hovertemplate": "game score (points)=%{x}<br>number of evaluated games=%{y}<extra></extra>",
         "legendgroup": "",
         "marker": {
          "color": "#636efa",
          "pattern": {
           "shape": ""
          }
         },
         "name": "",
         "offsetgroup": "",
         "orientation": "v",
         "showlegend": false,
         "textposition": "auto",
         "type": "bar",
         "x": [
          0,
          1,
          2,
          3,
          4,
          5,
          6
         ],
         "xaxis": "x",
         "y": [
          0,
          1,
          67,
          1111,
          1098,
          32,
          0
         ],
         "yaxis": "y"
        }
       ],
       "layout": {
        "barmode": "relative",
        "legend": {
         "tracegroupgap": 0
        },
        "template": {
         "data": {
          "bar": [
           {
            "error_x": {
             "color": "#f2f5fa"
            },
            "error_y": {
             "color": "#f2f5fa"
            },
            "marker": {
             "line": {
              "color": "rgb(17,17,17)",
              "width": 0.5
             },
             "pattern": {
              "fillmode": "overlay",
              "size": 10,
              "solidity": 0.2
             }
            },
            "type": "bar"
           }
          ],
          "barpolar": [
           {
            "marker": {
             "line": {
              "color": "rgb(17,17,17)",
              "width": 0.5
             },
             "pattern": {
              "fillmode": "overlay",
              "size": 10,
              "solidity": 0.2
             }
            },
            "type": "barpolar"
           }
          ],
          "carpet": [
           {
            "aaxis": {
             "endlinecolor": "#A2B1C6",
             "gridcolor": "#506784",
             "linecolor": "#506784",
             "minorgridcolor": "#506784",
             "startlinecolor": "#A2B1C6"
            },
            "baxis": {
             "endlinecolor": "#A2B1C6",
             "gridcolor": "#506784",
             "linecolor": "#506784",
             "minorgridcolor": "#506784",
             "startlinecolor": "#A2B1C6"
            },
            "type": "carpet"
           }
          ],
          "choropleth": [
           {
            "colorbar": {
             "outlinewidth": 0,
             "ticks": ""
            },
            "type": "choropleth"
           }
          ],
          "contour": [
           {
            "colorbar": {
             "outlinewidth": 0,
             "ticks": ""
            },
            "colorscale": [
             [
              0,
              "#0d0887"
             ],
             [
              0.1111111111111111,
              "#46039f"
             ],
             [
              0.2222222222222222,
              "#7201a8"
             ],
             [
              0.3333333333333333,
              "#9c179e"
             ],
             [
              0.4444444444444444,
              "#bd3786"
             ],
             [
              0.5555555555555556,
              "#d8576b"
             ],
             [
              0.6666666666666666,
              "#ed7953"
             ],
             [
              0.7777777777777778,
              "#fb9f3a"
             ],
             [
              0.8888888888888888,
              "#fdca26"
             ],
             [
              1,
              "#f0f921"
             ]
            ],
            "type": "contour"
           }
          ],
          "contourcarpet": [
           {
            "colorbar": {
             "outlinewidth": 0,
             "ticks": ""
            },
            "type": "contourcarpet"
           }
          ],
          "heatmap": [
           {
            "colorbar": {
             "outlinewidth": 0,
             "ticks": ""
            },
            "colorscale": [
             [
              0,
              "#0d0887"
             ],
             [
              0.1111111111111111,
              "#46039f"
             ],
             [
              0.2222222222222222,
              "#7201a8"
             ],
             [
              0.3333333333333333,
              "#9c179e"
             ],
             [
              0.4444444444444444,
              "#bd3786"
             ],
             [
              0.5555555555555556,
              "#d8576b"
             ],
             [
              0.6666666666666666,
              "#ed7953"
             ],
             [
              0.7777777777777778,
              "#fb9f3a"
             ],
             [
              0.8888888888888888,
              "#fdca26"
             ],
             [
              1,
              "#f0f921"
             ]
            ],
            "type": "heatmap"
           }
          ],
          "heatmapgl": [
           {
            "colorbar": {
             "outlinewidth": 0,
             "ticks": ""
            },
            "colorscale": [
             [
              0,
              "#0d0887"
             ],
             [
              0.1111111111111111,
              "#46039f"
             ],
             [
              0.2222222222222222,
              "#7201a8"
             ],
             [
              0.3333333333333333,
              "#9c179e"
             ],
             [
              0.4444444444444444,
              "#bd3786"
             ],
             [
              0.5555555555555556,
              "#d8576b"
             ],
             [
              0.6666666666666666,
              "#ed7953"
             ],
             [
              0.7777777777777778,
              "#fb9f3a"
             ],
             [
              0.8888888888888888,
              "#fdca26"
             ],
             [
              1,
              "#f0f921"
             ]
            ],
            "type": "heatmapgl"
           }
          ],
          "histogram": [
           {
            "marker": {
             "pattern": {
              "fillmode": "overlay",
              "size": 10,
              "solidity": 0.2
             }
            },
            "type": "histogram"
           }
          ],
          "histogram2d": [
           {
            "colorbar": {
             "outlinewidth": 0,
             "ticks": ""
            },
            "colorscale": [
             [
              0,
              "#0d0887"
             ],
             [
              0.1111111111111111,
              "#46039f"
             ],
             [
              0.2222222222222222,
              "#7201a8"
             ],
             [
              0.3333333333333333,
              "#9c179e"
             ],
             [
              0.4444444444444444,
              "#bd3786"
             ],
             [
              0.5555555555555556,
              "#d8576b"
             ],
             [
              0.6666666666666666,
              "#ed7953"
             ],
             [
              0.7777777777777778,
              "#fb9f3a"
             ],
             [
              0.8888888888888888,
              "#fdca26"
             ],
             [
              1,
              "#f0f921"
             ]
            ],
            "type": "histogram2d"
           }
          ],
          "histogram2dcontour": [
           {
            "colorbar": {
             "outlinewidth": 0,
             "ticks": ""
            },
            "colorscale": [
             [
              0,
              "#0d0887"
             ],
             [
              0.1111111111111111,
              "#46039f"
             ],
             [
              0.2222222222222222,
              "#7201a8"
             ],
             [
              0.3333333333333333,
              "#9c179e"
             ],
             [
              0.4444444444444444,
              "#bd3786"
             ],
             [
              0.5555555555555556,
              "#d8576b"
             ],
             [
              0.6666666666666666,
              "#ed7953"
             ],
             [
              0.7777777777777778,
              "#fb9f3a"
             ],
             [
              0.8888888888888888,
              "#fdca26"
             ],
             [
              1,
              "#f0f921"
             ]
            ],
            "type": "histogram2dcontour"
           }
          ],
          "mesh3d": [
           {
            "colorbar": {
             "outlinewidth": 0,
             "ticks": ""
            },
            "type": "mesh3d"
           }
          ],
          "parcoords": [
           {
            "line": {
             "colorbar": {
              "outlinewidth": 0,
              "ticks": ""
             }
            },
            "type": "parcoords"
           }
          ],
          "pie": [
           {
            "automargin": true,
            "type": "pie"
           }
          ],
          "scatter": [
           {
            "marker": {
             "line": {
              "color": "#283442"
             }
            },
            "type": "scatter"
           }
          ],
          "scatter3d": [
           {
            "line": {
             "colorbar": {
              "outlinewidth": 0,
              "ticks": ""
             }
            },
            "marker": {
             "colorbar": {
              "outlinewidth": 0,
              "ticks": ""
             }
            },
            "type": "scatter3d"
           }
          ],
          "scattercarpet": [
           {
            "marker": {
             "colorbar": {
              "outlinewidth": 0,
              "ticks": ""
             }
            },
            "type": "scattercarpet"
           }
          ],
          "scattergeo": [
           {
            "marker": {
             "colorbar": {
              "outlinewidth": 0,
              "ticks": ""
             }
            },
            "type": "scattergeo"
           }
          ],
          "scattergl": [
           {
            "marker": {
             "line": {
              "color": "#283442"
             }
            },
            "type": "scattergl"
           }
          ],
          "scattermapbox": [
           {
            "marker": {
             "colorbar": {
              "outlinewidth": 0,
              "ticks": ""
             }
            },
            "type": "scattermapbox"
           }
          ],
          "scatterpolar": [
           {
            "marker": {
             "colorbar": {
              "outlinewidth": 0,
              "ticks": ""
             }
            },
            "type": "scatterpolar"
           }
          ],
          "scatterpolargl": [
           {
            "marker": {
             "colorbar": {
              "outlinewidth": 0,
              "ticks": ""
             }
            },
            "type": "scatterpolargl"
           }
          ],
          "scatterternary": [
           {
            "marker": {
             "colorbar": {
              "outlinewidth": 0,
              "ticks": ""
             }
            },
            "type": "scatterternary"
           }
          ],
          "surface": [
           {
            "colorbar": {
             "outlinewidth": 0,
             "ticks": ""
            },
            "colorscale": [
             [
              0,
              "#0d0887"
             ],
             [
              0.1111111111111111,
              "#46039f"
             ],
             [
              0.2222222222222222,
              "#7201a8"
             ],
             [
              0.3333333333333333,
              "#9c179e"
             ],
             [
              0.4444444444444444,
              "#bd3786"
             ],
             [
              0.5555555555555556,
              "#d8576b"
             ],
             [
              0.6666666666666666,
              "#ed7953"
             ],
             [
              0.7777777777777778,
              "#fb9f3a"
             ],
             [
              0.8888888888888888,
              "#fdca26"
             ],
             [
              1,
              "#f0f921"
             ]
            ],
            "type": "surface"
           }
          ],
          "table": [
           {
            "cells": {
             "fill": {
              "color": "#506784"
             },
             "line": {
              "color": "rgb(17,17,17)"
             }
            },
            "header": {
             "fill": {
              "color": "#2a3f5f"
             },
             "line": {
              "color": "rgb(17,17,17)"
             }
            },
            "type": "table"
           }
          ]
         },
         "layout": {
          "annotationdefaults": {
           "arrowcolor": "#f2f5fa",
           "arrowhead": 0,
           "arrowwidth": 1
          },
          "autotypenumbers": "strict",
          "coloraxis": {
           "colorbar": {
            "outlinewidth": 0,
            "ticks": ""
           }
          },
          "colorscale": {
           "diverging": [
            [
             0,
             "#8e0152"
            ],
            [
             0.1,
             "#c51b7d"
            ],
            [
             0.2,
             "#de77ae"
            ],
            [
             0.3,
             "#f1b6da"
            ],
            [
             0.4,
             "#fde0ef"
            ],
            [
             0.5,
             "#f7f7f7"
            ],
            [
             0.6,
             "#e6f5d0"
            ],
            [
             0.7,
             "#b8e186"
            ],
            [
             0.8,
             "#7fbc41"
            ],
            [
             0.9,
             "#4d9221"
            ],
            [
             1,
             "#276419"
            ]
           ],
           "sequential": [
            [
             0,
             "#0d0887"
            ],
            [
             0.1111111111111111,
             "#46039f"
            ],
            [
             0.2222222222222222,
             "#7201a8"
            ],
            [
             0.3333333333333333,
             "#9c179e"
            ],
            [
             0.4444444444444444,
             "#bd3786"
            ],
            [
             0.5555555555555556,
             "#d8576b"
            ],
            [
             0.6666666666666666,
             "#ed7953"
            ],
            [
             0.7777777777777778,
             "#fb9f3a"
            ],
            [
             0.8888888888888888,
             "#fdca26"
            ],
            [
             1,
             "#f0f921"
            ]
           ],
           "sequentialminus": [
            [
             0,
             "#0d0887"
            ],
            [
             0.1111111111111111,
             "#46039f"
            ],
            [
             0.2222222222222222,
             "#7201a8"
            ],
            [
             0.3333333333333333,
             "#9c179e"
            ],
            [
             0.4444444444444444,
             "#bd3786"
            ],
            [
             0.5555555555555556,
             "#d8576b"
            ],
            [
             0.6666666666666666,
             "#ed7953"
            ],
            [
             0.7777777777777778,
             "#fb9f3a"
            ],
            [
             0.8888888888888888,
             "#fdca26"
            ],
            [
             1,
             "#f0f921"
            ]
           ]
          },
          "colorway": [
           "#636efa",
           "#EF553B",
           "#00cc96",
           "#ab63fa",
           "#FFA15A",
           "#19d3f3",
           "#FF6692",
           "#B6E880",
           "#FF97FF",
           "#FECB52"
          ],
          "font": {
           "color": "#f2f5fa"
          },
          "geo": {
           "bgcolor": "rgb(17,17,17)",
           "lakecolor": "rgb(17,17,17)",
           "landcolor": "rgb(17,17,17)",
           "showlakes": true,
           "showland": true,
           "subunitcolor": "#506784"
          },
          "hoverlabel": {
           "align": "left"
          },
          "hovermode": "closest",
          "mapbox": {
           "style": "dark"
          },
          "paper_bgcolor": "rgb(17,17,17)",
          "plot_bgcolor": "rgb(17,17,17)",
          "polar": {
           "angularaxis": {
            "gridcolor": "#506784",
            "linecolor": "#506784",
            "ticks": ""
           },
           "bgcolor": "rgb(17,17,17)",
           "radialaxis": {
            "gridcolor": "#506784",
            "linecolor": "#506784",
            "ticks": ""
           }
          },
          "scene": {
           "xaxis": {
            "backgroundcolor": "rgb(17,17,17)",
            "gridcolor": "#506784",
            "gridwidth": 2,
            "linecolor": "#506784",
            "showbackground": true,
            "ticks": "",
            "zerolinecolor": "#C8D4E3"
           },
           "yaxis": {
            "backgroundcolor": "rgb(17,17,17)",
            "gridcolor": "#506784",
            "gridwidth": 2,
            "linecolor": "#506784",
            "showbackground": true,
            "ticks": "",
            "zerolinecolor": "#C8D4E3"
           },
           "zaxis": {
            "backgroundcolor": "rgb(17,17,17)",
            "gridcolor": "#506784",
            "gridwidth": 2,
            "linecolor": "#506784",
            "showbackground": true,
            "ticks": "",
            "zerolinecolor": "#C8D4E3"
           }
          },
          "shapedefaults": {
           "line": {
            "color": "#f2f5fa"
           }
          },
          "sliderdefaults": {
           "bgcolor": "#C8D4E3",
           "bordercolor": "rgb(17,17,17)",
           "borderwidth": 1,
           "tickwidth": 0
          },
          "ternary": {
           "aaxis": {
            "gridcolor": "#506784",
            "linecolor": "#506784",
            "ticks": ""
           },
           "baxis": {
            "gridcolor": "#506784",
            "linecolor": "#506784",
            "ticks": ""
           },
           "bgcolor": "rgb(17,17,17)",
           "caxis": {
            "gridcolor": "#506784",
            "linecolor": "#506784",
            "ticks": ""
           }
          },
          "title": {
           "x": 0.05
          },
          "updatemenudefaults": {
           "bgcolor": "#506784",
           "borderwidth": 0
          },
          "xaxis": {
           "automargin": true,
           "gridcolor": "#283442",
           "linecolor": "#506784",
           "ticks": "",
           "title": {
            "standoff": 15
           },
           "zerolinecolor": "#283442",
           "zerolinewidth": 2
          },
          "yaxis": {
           "automargin": true,
           "gridcolor": "#283442",
           "linecolor": "#506784",
           "ticks": "",
           "title": {
            "standoff": 15
           },
           "zerolinecolor": "#283442",
           "zerolinewidth": 2
          }
         }
        },
        "title": {
         "text": "v2 - strong prior on potential solutions - avg. score: 3.47 - success rate: 100%"
        },
        "xaxis": {
         "anchor": "y",
         "domain": [
          0,
          1
         ],
         "title": {
          "text": "game score (points)"
         }
        },
        "yaxis": {
         "anchor": "x",
         "domain": [
          0,
          1
         ],
         "title": {
          "text": "number of evaluated games"
         }
        }
       }
      }
     },
     "metadata": {},
     "output_type": "display_data"
    }
   ],
   "source": [
    "config = {\n",
    "    \"player\": wd.player.GreedyPlayer(starting_psm=psm_v2),\n",
    "    \"path_to_eval_words_list\": DATA_PATH / \"raw/possible_words.txt\",\n",
    "    \"path_to_json_output\": DATA_PATH / \"outputs/eval_results_v2.json\",\n",
    "    \"fig_title\": \"v2 - strong prior on potential solutions\",\n",
    "    \"fig_name\": IMG_PATH / \"eval_v2.png\",\n",
    "}\n",
    "\n",
    "results, fig = run_eval(config)\n",
    "\n"
   ]
  },
  {
   "attachments": {},
   "cell_type": "markdown",
   "metadata": {},
   "source": [
    "### words with highest and lowest scores"
   ]
  },
  {
   "cell_type": "code",
   "execution_count": null,
   "metadata": {},
   "outputs": [
    {
     "data": {
      "text/plain": [
       "ovate    5\n",
       "chaos    5\n",
       "arson    5\n",
       "bravo    5\n",
       "adore    5\n",
       "dtype: int64"
      ]
     },
     "metadata": {},
     "output_type": "display_data"
    }
   ],
   "source": [
    "scores = pd.Series(results.scores).sort_values(ascending=False)\n",
    "scores.head()"
   ]
  },
  {
   "cell_type": "code",
   "execution_count": null,
   "metadata": {},
   "outputs": [
    {
     "data": {
      "text/html": [
       "<font size=\"7\" style=\"font-family:Monospace\"><span style=\"background-color:#b89d02\">S</span><span style=\"background-color:#b89d02\">O</span><span style=\"background-color:#098710\">A</span><span style=\"background-color:black\">R</span><span style=\"background-color:black\">E</span>"
      ],
      "text/plain": [
       "<IPython.core.display.HTML object>"
      ]
     },
     "metadata": {},
     "output_type": "display_data"
    },
    {
     "data": {
      "text/html": [
       "<font size=\"7\" style=\"font-family:Monospace\"><span style=\"background-color:#098710\">C</span><span style=\"background-color:#098710\">H</span><span style=\"background-color:#098710\">A</span><span style=\"background-color:#098710\">O</span><span style=\"background-color:#098710\">S</span>"
      ],
      "text/plain": [
       "<IPython.core.display.HTML object>"
      ]
     },
     "metadata": {},
     "output_type": "display_data"
    },
    {
     "data": {
      "text/plain": [
       "WordleGame(target_word='CHAOS', max_guesses=6, number_of_guesses=2, is_over=True, solved=True)"
      ]
     },
     "metadata": {},
     "output_type": "display_data"
    }
   ],
   "source": [
    "wd.play_game(player, wd.WordleGame(\"chaos\"))"
   ]
  },
  {
   "cell_type": "code",
   "execution_count": 125,
   "metadata": {},
   "outputs": [
    {
     "data": {
      "text/plain": [
       "cover    2\n",
       "witty    2\n",
       "fever    2\n",
       "parer    2\n",
       "waver    1\n",
       "dtype: int64"
      ]
     },
     "execution_count": 125,
     "metadata": {},
     "output_type": "execute_result"
    }
   ],
   "source": [
    "# lowest scores\n",
    "scores.tail()"
   ]
  },
  {
   "cell_type": "code",
   "execution_count": 120,
   "metadata": {},
   "outputs": [
    {
     "data": {
      "text/html": [
       "<font size=\"7\" style=\"font-family:Monospace\"><span style=\"background-color:black\">S</span><span style=\"background-color:black\">O</span><span style=\"background-color:#b89d02\">A</span><span style=\"background-color:#b89d02\">R</span><span style=\"background-color:#b89d02\">E</span>"
      ],
      "text/plain": [
       "<IPython.core.display.HTML object>"
      ]
     },
     "metadata": {},
     "output_type": "display_data"
    },
    {
     "data": {
      "text/html": [
       "<font size=\"7\" style=\"font-family:Monospace\"><span style=\"background-color:black\">T</span><span style=\"background-color:#098710\">A</span><span style=\"background-color:black\">L</span><span style=\"background-color:black\">A</span><span style=\"background-color:#098710\">R</span>"
      ],
      "text/plain": [
       "<IPython.core.display.HTML object>"
      ]
     },
     "metadata": {},
     "output_type": "display_data"
    },
    {
     "data": {
      "text/html": [
       "<font size=\"7\" style=\"font-family:Monospace\"><span style=\"background-color:black\">P</span><span style=\"background-color:black\">I</span><span style=\"background-color:black\">G</span><span style=\"background-color:black\">M</span><span style=\"background-color:black\">Y</span>"
      ],
      "text/plain": [
       "<IPython.core.display.HTML object>"
      ]
     },
     "metadata": {},
     "output_type": "display_data"
    },
    {
     "data": {
      "text/html": [
       "<font size=\"7\" style=\"font-family:Monospace\"><span style=\"background-color:black\">S</span><span style=\"background-color:#b89d02\">W</span><span style=\"background-color:#b89d02\">A</span><span style=\"background-color:black\">C</span><span style=\"background-color:black\">K</span>"
      ],
      "text/plain": [
       "<IPython.core.display.HTML object>"
      ]
     },
     "metadata": {},
     "output_type": "display_data"
    },
    {
     "data": {
      "text/html": [
       "<font size=\"7\" style=\"font-family:Monospace\"><span style=\"background-color:#098710\">W</span><span style=\"background-color:#098710\">A</span><span style=\"background-color:black\">F</span><span style=\"background-color:#098710\">E</span><span style=\"background-color:#098710\">R</span>"
      ],
      "text/plain": [
       "<IPython.core.display.HTML object>"
      ]
     },
     "metadata": {},
     "output_type": "display_data"
    },
    {
     "data": {
      "text/html": [
       "<font size=\"7\" style=\"font-family:Monospace\"><span style=\"background-color:#098710\">W</span><span style=\"background-color:#098710\">A</span><span style=\"background-color:#098710\">V</span><span style=\"background-color:#098710\">E</span><span style=\"background-color:#098710\">R</span>"
      ],
      "text/plain": [
       "<IPython.core.display.HTML object>"
      ]
     },
     "metadata": {},
     "output_type": "display_data"
    },
    {
     "data": {
      "text/plain": [
       "WordleGame(target_word='WAVER', max_guesses=6, number_of_guesses=6, is_over=True, solved=True)"
      ]
     },
     "execution_count": 120,
     "metadata": {},
     "output_type": "execute_result"
    }
   ],
   "source": [
    "wd.player.play_game(player, wd.WordleGame(\"waver\"))"
   ]
  },
  {
   "attachments": {},
   "cell_type": "markdown",
   "metadata": {},
   "source": [
    "## Bonus: Comparing object sizes depending on outcome encoding technique\n"
   ]
  },
  {
   "cell_type": "code",
   "execution_count": 121,
   "metadata": {},
   "outputs": [
    {
     "name": "stdout",
     "output_type": "stream",
     "text": [
      "np.uint8  : 16.0 Mb\n",
      "np.int64  : 128.0 Mb\n",
      "np.string : 320.0 Mb\n",
      "pd.string : 992.2 Mb\n",
      "pd.uint8  : 16.2 Mb\n"
     ]
    }
   ],
   "source": [
    "import sys\n",
    "import numpy as np\n",
    "import pandas as pd\n",
    "\n",
    "n = 4_000\n",
    "\n",
    "objs = {\n",
    "    \"np.uint8\": np.random.randint(256, size=(n,n), dtype=np.uint8),\n",
    "    \"np.int64\": np.random.randint(256, size=(n,n), dtype=np.int64),\n",
    "    \"np.string\": np.array([[\"11012\" for _ in range(n)] for _ in range(n)]),\n",
    "    \"pd.string\": pd.DataFrame(np.array([[\"11012\" for _ in range(n)] for _ in range(n)]), columns=[f\"c{i}\" for i in range(n)], index=[f\"c{i}\" for i in range(n)]),\n",
    "    \"pd.uint8\": pd.DataFrame(np.random.randint(256, size=(n,n), dtype=np.uint8), columns=[f\"c{i}\" for i in range(n)], index=[f\"c{i}\" for i in range(n)]),\n",
    "    }\n",
    "\n",
    "for key, obj in objs.items():\n",
    "    print(f\"{key:<10}: {sys.getsizeof(obj) /1e6:,.1f} Mb\")"
   ]
  },
  {
   "attachments": {},
   "cell_type": "markdown",
   "metadata": {},
   "source": [
    "**Conclusion**: moving from string to uint8 allowes to reduce objects size by ~40x"
   ]
  }
 ],
 "metadata": {
  "kernelspec": {
   "display_name": "wordle",
   "language": "python",
   "name": "python3"
  },
  "language_info": {
   "codemirror_mode": {
    "name": "ipython",
    "version": 3
   },
   "file_extension": ".py",
   "mimetype": "text/x-python",
   "name": "python",
   "nbconvert_exporter": "python",
   "pygments_lexer": "ipython3",
   "version": "3.11.0"
  },
  "orig_nbformat": 4,
  "vscode": {
   "interpreter": {
    "hash": "85dea77ca567992bc01902591d4635137ff7aa65e402f3d1c251b37a491cd579"
   }
  }
 },
 "nbformat": 4,
 "nbformat_minor": 2
}
