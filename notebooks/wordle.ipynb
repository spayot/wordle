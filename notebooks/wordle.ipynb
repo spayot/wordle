{
 "cells": [
  {
   "cell_type": "code",
   "execution_count": 1,
   "metadata": {},
   "outputs": [],
   "source": [
    "import sys\n",
    "import json\n",
    "import pandas as pd\n",
    "import matplotlib.pyplot as plt\n",
    "\n",
    "import wordle as wd\n",
    "\n",
    "%load_ext autoreload\n",
    "%autoreload 2"
   ]
  },
  {
   "cell_type": "code",
   "execution_count": 14,
   "metadata": {},
   "outputs": [
    {
     "data": {
      "text/html": [
       "<font size=\"7\" style=\"font-family:Monospace\"><span style=\"background-color:black\">T</span><span style=\"background-color:#098710\">R</span><span style=\"background-color:#b89d02\">E</span><span style=\"background-color:#098710\">T</span><span style=\"background-color:#b89d02\">A</span>"
      ],
      "text/plain": [
       "<IPython.core.display.HTML object>"
      ]
     },
     "metadata": {},
     "output_type": "display_data"
    }
   ],
   "source": [
    "game = wd.WordleGame(\"crate\")\n",
    "wd.display_wordle_guess_outcome(game.evaluate_guess(\"treta\"))"
   ]
  },
  {
   "cell_type": "code",
   "execution_count": 19,
   "metadata": {},
   "outputs": [
    {
     "data": {
      "text/html": [
       "<font size=\"7\" style=\"font-family:Monospace\"><span style=\"background-color:black\">T</span><span style=\"background-color:#098710\">R</span><span style=\"background-color:#b89d02\">E</span><span style=\"background-color:#098710\">T</span><span style=\"background-color:#b89d02\">A</span>"
      ],
      "text/plain": [
       "<IPython.core.display.HTML object>"
      ]
     },
     "metadata": {},
     "output_type": "display_data"
    },
    {
     "name": "stdout",
     "output_type": "stream",
     "text": [
      "candidate word: grate\n"
     ]
    },
    {
     "data": {
      "text/plain": [
       "(False, 'Missing Correct Letter `R`')"
      ]
     },
     "execution_count": 19,
     "metadata": {},
     "output_type": "execute_result"
    }
   ],
   "source": [
    "game = wd.WordleGame(\"crate\")\n",
    "outcome = game.evaluate_guess(\"treta\")\n",
    "wd.display_wordle_guess_outcome(outcome)\n",
    "candidate_word = \"grate\"\n",
    "print(f\"candidate word: {candidate_word}\")\n",
    "wd.player.is_word_possible_given_guess_outcome(candidate_word, outcome)"
   ]
  },
  {
   "cell_type": "code",
   "execution_count": 17,
   "metadata": {},
   "outputs": [
    {
     "data": {
      "text/plain": [
       "GuessOutcome(TRETA, _COCO)"
      ]
     },
     "execution_count": 17,
     "metadata": {},
     "output_type": "execute_result"
    }
   ],
   "source": [
    "outcome"
   ]
  },
  {
   "cell_type": "code",
   "execution_count": 3,
   "metadata": {},
   "outputs": [],
   "source": [
    "word = \"paper\""
   ]
  },
  {
   "cell_type": "code",
   "execution_count": 12,
   "metadata": {},
   "outputs": [
    {
     "name": "stdout",
     "output_type": "stream",
     "text": [
      "WordleGame(target_word='CRATE', max_guesses=6, number_of_guesses=2, is_over=False, solved=False)\n"
     ]
    },
    {
     "data": {
      "text/html": [
       "<font size=\"7\" style=\"font-family:Monospace\"><span style=\"background-color:#b89d02\">T</span><span style=\"background-color:#098710\">R</span><span style=\"background-color:#b89d02\">E</span><span style=\"background-color:#b89d02\">A</span><span style=\"background-color:black\">T</span>"
      ],
      "text/plain": [
       "<IPython.core.display.HTML object>"
      ]
     },
     "metadata": {},
     "output_type": "display_data"
    },
    {
     "name": "stdout",
     "output_type": "stream",
     "text": [
      "WordleGame(target_word='CRATE', max_guesses=6, number_of_guesses=3, is_over=True, solved=True)\n"
     ]
    },
    {
     "data": {
      "text/html": [
       "<font size=\"7\" style=\"font-family:Monospace\"><span style=\"background-color:#098710\">C</span><span style=\"background-color:#098710\">R</span><span style=\"background-color:#098710\">A</span><span style=\"background-color:#098710\">T</span><span style=\"background-color:#098710\">E</span>"
      ],
      "text/plain": [
       "<IPython.core.display.HTML object>"
      ]
     },
     "metadata": {},
     "output_type": "display_data"
    }
   ],
   "source": [
    "game = wd.WordleGame(\"crate\")\n",
    "game.record_player_guess(\"fusil\")\n",
    "game.record_player_guess(\"treat\")\n",
    "\n",
    "wd.display_wordle_guess_outcome(game.guesses_so_far[-1])\n",
    "game.record_player_guess(\"crate\")\n",
    "print(game)\n",
    "wd.display_wordle_guess_outcome(game.guesses_so_far[-1])\n"
   ]
  },
  {
   "cell_type": "code",
   "execution_count": 13,
   "metadata": {},
   "outputs": [],
   "source": [
    "def make_guess(guess):\n",
    "    guess_outcome = game.record_player_guess(guess)\n",
    "    wd.display_wordle_guess_outcome(guess_outcome)\n",
    "    if game.is_over:\n",
    "        print(\"the game is over!\")\n",
    "        if game.solved:\n",
    "            print(f\"you won in {game.number_of_guesses} guesses\")\n",
    "        else:\n",
    "            print(f\"you have used your {game.max_guesses} guesses.\")"
   ]
  },
  {
   "cell_type": "code",
   "execution_count": 12,
   "metadata": {},
   "outputs": [
    {
     "data": {
      "text/html": [
       "<font size=\"7\" style=\"font-family:Monospace\"><span style=\"background-color:black\">W</span><span style=\"background-color:black\">O</span><span style=\"background-color:#b89d02\">R</span><span style=\"background-color:black\">D</span><span style=\"background-color:black\">S</span>"
      ],
      "text/plain": [
       "<IPython.core.display.HTML object>"
      ]
     },
     "metadata": {},
     "output_type": "display_data"
    },
    {
     "data": {
      "text/html": [
       "<font size=\"7\" style=\"font-family:Monospace\"><span style=\"background-color:black\">R</span><span style=\"background-color:#098710\">A</span><span style=\"background-color:black\">C</span><span style=\"background-color:#098710\">E</span><span style=\"background-color:#098710\">R</span>"
      ],
      "text/plain": [
       "<IPython.core.display.HTML object>"
      ]
     },
     "metadata": {},
     "output_type": "display_data"
    },
    {
     "data": {
      "text/html": [
       "<font size=\"7\" style=\"font-family:Monospace\"><span style=\"background-color:black\">L</span><span style=\"background-color:#098710\">A</span><span style=\"background-color:black\">T</span><span style=\"background-color:#098710\">E</span><span style=\"background-color:#098710\">R</span>"
      ],
      "text/plain": [
       "<IPython.core.display.HTML object>"
      ]
     },
     "metadata": {},
     "output_type": "display_data"
    },
    {
     "data": {
      "text/html": [
       "<font size=\"7\" style=\"font-family:Monospace\"><span style=\"background-color:#b89d02\">A</span><span style=\"background-color:#b89d02\">P</span><span style=\"background-color:#098710\">P</span><span style=\"background-color:black\">L</span><span style=\"background-color:#b89d02\">E</span>"
      ],
      "text/plain": [
       "<IPython.core.display.HTML object>"
      ]
     },
     "metadata": {},
     "output_type": "display_data"
    },
    {
     "data": {
      "text/html": [
       "<font size=\"7\" style=\"font-family:Monospace\"><span style=\"background-color:#098710\">P</span><span style=\"background-color:#098710\">A</span><span style=\"background-color:#098710\">P</span><span style=\"background-color:#098710\">E</span><span style=\"background-color:#098710\">R</span>"
      ],
      "text/plain": [
       "<IPython.core.display.HTML object>"
      ]
     },
     "metadata": {},
     "output_type": "display_data"
    },
    {
     "name": "stdout",
     "output_type": "stream",
     "text": [
      "the game is over!\n",
      "you won in 5 guesses\n"
     ]
    }
   ],
   "source": [
    "game = wd.WordleGame(word)\n",
    "\n",
    "make_guess(\"words\")\n",
    "make_guess(\"racer\")\n",
    "make_guess(\"later\")\n",
    "make_guess(\"apple\")\n",
    "make_guess(\"paper\")"
   ]
  },
  {
   "cell_type": "code",
   "execution_count": 17,
   "metadata": {},
   "outputs": [
    {
     "data": {
      "text/plain": [
       "WordleGame(target_word='CRATE', max_guesses=6, number_of_guesses=6, is_over=True, solved=False)"
      ]
     },
     "execution_count": 17,
     "metadata": {},
     "output_type": "execute_result"
    }
   ],
   "source": [
    "game = wd.WordleGame(\"crate\")\n",
    "for _ in range(6):\n",
    "    game.record_player_guess(\"fusil\")\n",
    "game"
   ]
  },
  {
   "cell_type": "code",
   "execution_count": 18,
   "metadata": {},
   "outputs": [
    {
     "ename": "GameOverException",
     "evalue": "this game is already over: \nWordleGame(target_word='CRATE', max_guesses=6, number_of_guesses=6, is_over=True, solved=False)",
     "output_type": "error",
     "traceback": [
      "\u001b[0;31m---------------------------------------------------------------------------\u001b[0m",
      "\u001b[0;31mGameOverException\u001b[0m                         Traceback (most recent call last)",
      "Cell \u001b[0;32mIn[18], line 1\u001b[0m\n\u001b[0;32m----> 1\u001b[0m game\u001b[39m.\u001b[39;49mrecord_player_guess(\u001b[39m\"\u001b[39;49m\u001b[39mfusil\u001b[39;49m\u001b[39m\"\u001b[39;49m)\n",
      "File \u001b[0;32m~/projects/wordle/src/wordle/game.py:84\u001b[0m, in \u001b[0;36mWordleGame.record_player_guess\u001b[0;34m(self, guess_word)\u001b[0m\n\u001b[1;32m     82\u001b[0m \u001b[39mdef\u001b[39;00m \u001b[39mrecord_player_guess\u001b[39m(\u001b[39mself\u001b[39m, guess_word: \u001b[39mstr\u001b[39m) \u001b[39m-\u001b[39m\u001b[39m>\u001b[39m GuessOutcome:\n\u001b[1;32m     83\u001b[0m     \u001b[39mif\u001b[39;00m \u001b[39mself\u001b[39m\u001b[39m.\u001b[39mis_over:\n\u001b[0;32m---> 84\u001b[0m         \u001b[39mraise\u001b[39;00m GameOverException(\u001b[39mf\u001b[39m\u001b[39m\"\u001b[39m\u001b[39mthis game is already over: \u001b[39m\u001b[39m\\n\u001b[39;00m\u001b[39m{\u001b[39;00m\u001b[39mself\u001b[39m\u001b[39m}\u001b[39;00m\u001b[39m\"\u001b[39m)\n\u001b[1;32m     86\u001b[0m     guess_outcome \u001b[39m=\u001b[39m \u001b[39mself\u001b[39m\u001b[39m.\u001b[39mevaluate_guess(guess_word)\n\u001b[1;32m     87\u001b[0m     \u001b[39mself\u001b[39m\u001b[39m.\u001b[39mguesses_so_far\u001b[39m.\u001b[39mappend(guess_outcome)\n",
      "\u001b[0;31mGameOverException\u001b[0m: this game is already over: \nWordleGame(target_word='CRATE', max_guesses=6, number_of_guesses=6, is_over=True, solved=False)"
     ]
    }
   ],
   "source": [
    " game.record_player_guess(\"fusil\")"
   ]
  },
  {
   "cell_type": "code",
   "execution_count": 69,
   "metadata": {},
   "outputs": [
    {
     "data": {
      "text/plain": [
       "{3: 'c', 0: 'g'}"
      ]
     },
     "execution_count": 69,
     "metadata": {},
     "output_type": "execute_result"
    }
   ],
   "source": [
    "d = {1: 'a', 2: 'b', 3: 'c', 4: 'b', 0: 'g'}\n",
    "dict(filter(lambda x: x[1] > 'b', d.items()))"
   ]
  },
  {
   "cell_type": "code",
   "execution_count": 56,
   "metadata": {},
   "outputs": [
    {
     "name": "stdout",
     "output_type": "stream",
     "text": [
      "target word: crate\n",
      "guess:     : treta\n"
     ]
    },
    {
     "data": {
      "text/html": [
       "<font size=\"7\" style=\"font-family:Monospace\"><span style=\"background-color:black\">T</span><span style=\"background-color:#098710\">R</span><span style=\"background-color:#b89d02\">E</span><span style=\"background-color:#098710\">T</span><span style=\"background-color:#b89d02\">A</span>"
      ],
      "text/plain": [
       "<IPython.core.display.HTML object>"
      ]
     },
     "metadata": {},
     "output_type": "display_data"
    },
    {
     "name": "stdout",
     "output_type": "stream",
     "text": [
      "is `grate` a possible solution?\n"
     ]
    },
    {
     "data": {
      "text/plain": [
       "(False, 't', 0, 1)"
      ]
     },
     "execution_count": 56,
     "metadata": {},
     "output_type": "execute_result"
    }
   ],
   "source": [
    "def is_word_possible_from_single_guess_result(guess_result: list, word: str) -> bool:\n",
    "    leftover_word = word\n",
    "    for i, (character, char_result) in enumerate(guess_result):\n",
    "        # print(character, char_result, leftover_word) # TEMP\n",
    "        \n",
    "        if (char_result.name == \"ABSENT\") & (character in leftover_word):\n",
    "            return False, character, i, 1\n",
    "        if (char_result.name == \"CORRECT\"):\n",
    "            if word[i] != character:\n",
    "                return False, character, i, 2\n",
    "            else:\n",
    "                leftover_word = leftover_word.replace(character, \"\", 1)\n",
    "        if char_result.name == \"OOP\":\n",
    "            if (character not in word) | (word[i] == character):\n",
    "                return False, character, i, 3\n",
    "            else:\n",
    "                leftover_word = leftover_word.replace(character, \"\", 1)\n",
    "    return True\n",
    "\n",
    "\n",
    "game = wd.WordleGame(\"crate\")\n",
    "previous_guess = \"treta\"\n",
    "new_candidate = \"grate\"\n",
    "print(f\"target word: {game.target_word}\")\n",
    "print(f\"guess:     : {previous_guess}\")\n",
    "\n",
    "results = game.evaluate_guess(previous_guess)\n",
    "wd.display_wordle_guess_outcome(results)\n",
    "print(f\"is `{new_candidate}` a possible solution?\")\n",
    "is_word_possible_from_single_guess_result(results, new_candidate)\n",
    "\n",
    "# TODO: need to fix issue where a character that may be present twice gets an ABSENT like the 2nd t in TREAT for CRATE"
   ]
  },
  {
   "cell_type": "code",
   "execution_count": 53,
   "metadata": {},
   "outputs": [
    {
     "data": {
      "text/plain": [
       "{0: ('a', <CharacterResult.OOP: 1>),\n",
       " 1: ('t', <CharacterResult.ABSENT: 0>),\n",
       " 2: ('e', <CharacterResult.OOP: 1>),\n",
       " 3: ('t', <CharacterResult.CORRECT: 2>),\n",
       " 4: ('r', <CharacterResult.OOP: 1>)}"
      ]
     },
     "execution_count": 53,
     "metadata": {},
     "output_type": "execute_result"
    }
   ],
   "source": [
    "outcome = {i: result for i, result in enumerate(results)}\n",
    "outcome"
   ]
  },
  {
   "attachments": {},
   "cell_type": "markdown",
   "metadata": {},
   "source": [
    "* find all correctly positioned letters > \n",
    "* remove them from guess word and target word\n",
    "* go through left over letters\n",
    "    * if absent > tag as absent\n",
    "    * if oop > remove from leftover letters\n",
    "\n",
    "    "
   ]
  },
  {
   "cell_type": "code",
   "execution_count": 3,
   "metadata": {},
   "outputs": [],
   "source": [
    "# load dataset\n",
    "WORDS_DIC_PATH = \"../data/raw/words_dictionary.json\"\n",
    "FIVE_LETTER_WORDS_PATH = \"../data/transformed/words.txt\"\n",
    "!wget -q -O {WORDS_DIC_PATH} \"https://github.com/dwyl/english-words/blob/master/words_dictionary.json?raw=true\" "
   ]
  },
  {
   "cell_type": "code",
   "execution_count": 7,
   "metadata": {},
   "outputs": [],
   "source": [
    "WORDS_DIC_PATH = \"../data/raw/words_dictionary.json\"\n",
    "\n",
    "\n",
    "with open(WORDS_DIC_PATH, 'r') as f:\n",
    "    words_dic = json.load(f)\n",
    "\n",
    "five_letter_words = [word for word in words_dic if len(word) == 5]"
   ]
  },
  {
   "attachments": {},
   "cell_type": "markdown",
   "metadata": {},
   "source": [
    "# EDA"
   ]
  },
  {
   "cell_type": "code",
   "execution_count": 11,
   "metadata": {},
   "outputs": [
    {
     "data": {
      "text/plain": [
       "15918"
      ]
     },
     "execution_count": 11,
     "metadata": {},
     "output_type": "execute_result"
    }
   ],
   "source": [
    "# number of 5 letter words\n",
    "five_letter_words = pd.Series(five_letter_words)\n",
    "len(five_letter_words)"
   ]
  },
  {
   "cell_type": "code",
   "execution_count": 21,
   "metadata": {},
   "outputs": [
    {
     "data": {
      "image/png": "[encoded data removed]",
      "text/plain": [
       "<Figure size 640x480 with 1 Axes>"
      ]
     },
     "metadata": {},
     "output_type": "display_data"
    }
   ],
   "source": [
    "# letter prevalence as a whole\n",
    "(five_letter_words\n",
    "    .apply(lambda x: list(x))\n",
    "    .explode()\n",
    "    .value_counts()\n",
    "    .plot(\n",
    "        kind=\"bar\",\n",
    "        title=\"letter frequency in 5-letter words\",\n",
    "        ));"
   ]
  },
  {
   "cell_type": "code",
   "execution_count": 30,
   "metadata": {},
   "outputs": [
    {
     "data": {
      "text/plain": [
       "<AxesSubplot:title={'center':'How often does a letter appear in a 5 letter word?'}>"
      ]
     },
     "execution_count": 30,
     "metadata": {},
     "output_type": "execute_result"
    },
    {
     "data": {
      "image/png": "[encoded data removed]",
      "text/plain": [
       "<Figure size 2000x500 with 2 Axes>"
      ]
     },
     "metadata": {},
     "output_type": "display_data"
    }
   ],
   "source": [
    "ALPHABET = \"abcdefghijklmnopqrstuvwxyz\"\n",
    "# how often does a letter appear in a 5 letter word?\n",
    "letter_frequency = pd.Series({letter: five_letter_words.str.contains(letter).mean() for letter in ALPHABET})\n",
    "\n",
    "fig, ax = plt.subplots(1,2, figsize=(20,5))\n",
    "letter_frequency.plot.bar(title=\"How often does a letter appear in a 5 letter word?\", ax=ax[0])\n",
    "letter_frequency.sort_values(ascending=False).plot.bar(title=\"How often does a letter appear in a 5 letter word?\", ax=ax[1])"
   ]
  },
  {
   "cell_type": "code",
   "execution_count": 44,
   "metadata": {},
   "outputs": [
    {
     "name": "stdout",
     "output_type": "stream",
     "text": [
      "0 a\n"
     ]
    },
    {
     "data": {
      "text/plain": [
       "1       aalii\n",
       "4       abaca\n",
       "5       abaci\n",
       "6       aback\n",
       "7       abada\n",
       "        ...  \n",
       "1132    awiwi\n",
       "1133    awkly\n",
       "1141    axial\n",
       "1145    axing\n",
       "1151    axman\n",
       "Length: 249, dtype: object"
      ]
     },
     "execution_count": 44,
     "metadata": {},
     "output_type": "execute_result"
    }
   ],
   "source": [
    "def filter_flw_by(candidates, includes: str = None, excludes: str = None, found: dict[int, str] = None):\n",
    "    words = candidates.copy()\n",
    "    if not found:\n",
    "        found = {}\n",
    "    if not includes:\n",
    "        includes = \"\"\n",
    "    if not excludes:\n",
    "        excludes =\"\"\n",
    "    \n",
    "    for pos, letter in found.items():\n",
    "        print(pos, letter)\n",
    "        words = words.loc[words.str[pos] == letter]\n",
    "    \n",
    "    for letter in includes:\n",
    "        words =  words[check_series_that_include(words, letter, found)]\n",
    "    \n",
    "    for letter in excludes:\n",
    "        words =  words[~check_series_that_include(words, letter, found)]\n",
    "\n",
    "    return words\n",
    "\n",
    "def exclude_founds(word: str, found: dict[int, str] = None):\n",
    "    if not found:\n",
    "        return word\n",
    "    return \"\".join([char for i, char in enumerate(word) if i not in found])\n",
    "\n",
    "def check_series_that_include(words, letter, found):\n",
    "    return words.apply(lambda x: exclude_founds(x, found)).str.contains(letter)\n",
    "\n",
    "\n",
    "exclude_founds(\"words\", found={0: \"w\", 3: \"d\"})\n",
    "\n",
    "filter_flw_by(five_letter_words, found={0: 'a'}, excludes='rose')\n"
   ]
  },
  {
   "cell_type": "code",
   "execution_count": 14,
   "metadata": {},
   "outputs": [
    {
     "data": {
      "text/plain": [
       "[('t', <CharacterResult.OOP: 1>),\n",
       " ('r', <CharacterResult.CORRECT: 2>),\n",
       " ('e', <CharacterResult.OOP: 1>),\n",
       " ('a', <CharacterResult.OOP: 1>),\n",
       " ('t', <CharacterResult.ABSENT: 0>)]"
      ]
     },
     "execution_count": 14,
     "metadata": {},
     "output_type": "execute_result"
    }
   ],
   "source": []
  },
  {
   "cell_type": "code",
   "execution_count": null,
   "metadata": {},
   "outputs": [],
   "source": []
  }
 ],
 "metadata": {
  "kernelspec": {
   "display_name": "wordle",
   "language": "python",
   "name": "python3"
  },
  "language_info": {
   "codemirror_mode": {
    "name": "ipython",
    "version": 3
   },
   "file_extension": ".py",
   "mimetype": "text/x-python",
   "name": "python",
   "nbconvert_exporter": "python",
   "pygments_lexer": "ipython3",
   "version": "3.11.0"
  },
  "orig_nbformat": 4,
  "vscode": {
   "interpreter": {
    "hash": "85dea77ca567992bc01902591d4635137ff7aa65e402f3d1c251b37a491cd579"
   }
  }
 },
 "nbformat": 4,
 "nbformat_minor": 2
}
