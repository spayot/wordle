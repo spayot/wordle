{
 "cells": [
  {
   "cell_type": "code",
   "execution_count": 1,
   "metadata": {},
   "outputs": [],
   "source": [
    "from collections import defaultdict\n",
    "from pathlib import Path\n",
    "\n",
    "import matplotlib.pyplot as plt\n",
    "import numpy as np\n",
    "import pandas as pd\n",
    "import plotly.express as px\n",
    "\n",
    "import wordle as wd\n",
    "\n",
    "\n",
    "%load_ext autoreload\n",
    "%autoreload 2\n",
    "\n",
    "DATA_PATH = Path(\"../data/\")\n",
    "ALLOWED_WORDS_FNAME = \"raw/allowed_words.txt\"\n",
    "POSSIBLE_WORDS_FNAME = \"raw/possible_words.txt\"\n",
    "WORDS_PAIRS_FNAME = \"transformed/guess_solution_map_{version}.pkl\"\n",
    "\n",
    "WORD = \"crepe\""
   ]
  },
  {
   "attachments": {},
   "cell_type": "markdown",
   "metadata": {},
   "source": [
    "# Setup Game Engine\n",
    "* game rules encapsulated in `WordleGame` class\n",
    "* color-coded HTML display of guess outcome: `display_wordle_guess_outcome`\n",
    "* basic function to validate whether a guess is possible: `is_word_possible_given_guess_outcome`\n",
    "\n",
    "## TO DO\n",
    "- [ ] create full player with greedy approach on entropy-minimizing strategy\n",
    "- [ ] create evaluation suite\n",
    "    - play games with all possible_words\n",
    "    - record number of guesses\n",
    "    - generate averages\n",
    "- [ ] evaluation result visualization\n",
    "- [ ] refactor word distrib visualization\n",
    "- [ ] add improvement with non uniform entropies\n",
    "- [ ] add 2 steps look-ahead player\n",
    "- [ ] refactor `map.py`\n",
    "- [ ] write summary in README file\n"
   ]
  },
  {
   "cell_type": "code",
   "execution_count": 2,
   "metadata": {},
   "outputs": [
    {
     "data": {
      "text/html": [
       "<font size=\"7\" style=\"font-family:Monospace\"><span style=\"background-color:black\">T</span><span style=\"background-color:#098710\">R</span><span style=\"background-color:#b89d02\">E</span><span style=\"background-color:#098710\">T</span><span style=\"background-color:#b89d02\">A</span>"
      ],
      "text/plain": [
       "<IPython.core.display.HTML object>"
      ]
     },
     "metadata": {},
     "output_type": "display_data"
    }
   ],
   "source": [
    "game = wd.WordleGame(\"crate\")\n",
    "wd.display_wordle_guess_outcome(game.evaluate_guess(\"treta\"))"
   ]
  },
  {
   "cell_type": "code",
   "execution_count": 3,
   "metadata": {},
   "outputs": [
    {
     "data": {
      "text/html": [
       "<font size=\"7\" style=\"font-family:Monospace\"><span style=\"background-color:black\">T</span><span style=\"background-color:#098710\">R</span><span style=\"background-color:#b89d02\">E</span><span style=\"background-color:#098710\">T</span><span style=\"background-color:#b89d02\">A</span>"
      ],
      "text/plain": [
       "<IPython.core.display.HTML object>"
      ]
     },
     "metadata": {},
     "output_type": "display_data"
    },
    {
     "name": "stdout",
     "output_type": "stream",
     "text": [
      "candidate word: areti\n"
     ]
    },
    {
     "data": {
      "text/plain": [
       "(False, 'OOP letter `E` should have different position')"
      ]
     },
     "execution_count": 3,
     "metadata": {},
     "output_type": "execute_result"
    }
   ],
   "source": [
    "game = wd.WordleGame(\"crate\")\n",
    "outcome = game.evaluate_guess(\"treta\")\n",
    "wd.display_wordle_guess_outcome(outcome)\n",
    "candidate_word = \"areti\"\n",
    "print(f\"candidate word: {candidate_word}\")\n",
    "wd.player.is_word_possible_given_guess_outcome(candidate_word, outcome)"
   ]
  },
  {
   "attachments": {},
   "cell_type": "markdown",
   "metadata": {},
   "source": [
    "## play a game manually"
   ]
  },
  {
   "cell_type": "code",
   "execution_count": 4,
   "metadata": {},
   "outputs": [],
   "source": [
    "def make_guess(guess):\n",
    "    guess_outcome = game.record_player_guess(guess)\n",
    "    wd.display_wordle_guess_outcome(guess_outcome)\n",
    "    if game.is_over:\n",
    "        print(\"the game is over!\")\n",
    "        if game.solved:\n",
    "            print(f\"you won in {game.number_of_guesses} guesses\")\n",
    "        else:\n",
    "            print(f\"you have used your {game.max_guesses} guesses.\")"
   ]
  },
  {
   "cell_type": "code",
   "execution_count": 7,
   "metadata": {},
   "outputs": [
    {
     "data": {
      "text/html": [
       "<font size=\"7\" style=\"font-family:Monospace\"><span style=\"background-color:#098710\">C</span><span style=\"background-color:black\">L</span><span style=\"background-color:black\">A</span><span style=\"background-color:black\">I</span><span style=\"background-color:black\">M</span><span style=\"background-color:black\">S</span>"
      ],
      "text/plain": [
       "<IPython.core.display.HTML object>"
      ]
     },
     "metadata": {},
     "output_type": "display_data"
    },
    {
     "data": {
      "text/html": [
       "<font size=\"7\" style=\"font-family:Monospace\"><span style=\"background-color:black\">B</span><span style=\"background-color:black\">O</span><span style=\"background-color:black\">U</span><span style=\"background-color:black\">N</span><span style=\"background-color:black\">D</span>"
      ],
      "text/plain": [
       "<IPython.core.display.HTML object>"
      ]
     },
     "metadata": {},
     "output_type": "display_data"
    },
    {
     "data": {
      "text/html": [
       "<font size=\"7\" style=\"font-family:Monospace\"><span style=\"background-color:#098710\">C</span><span style=\"background-color:#098710\">R</span><span style=\"background-color:#098710\">E</span><span style=\"background-color:#098710\">P</span><span style=\"background-color:#098710\">E</span>"
      ],
      "text/plain": [
       "<IPython.core.display.HTML object>"
      ]
     },
     "metadata": {},
     "output_type": "display_data"
    },
    {
     "name": "stdout",
     "output_type": "stream",
     "text": [
      "the game is over!\n",
      "you won in 3 guesses\n"
     ]
    }
   ],
   "source": [
    "# `word` has been defined in first notebook cell\n",
    "game = wd.WordleGame(WORD)\n",
    "while not game.is_over:\n",
    "    guess = input(\"make a 5 letter guess:\")\n",
    "    make_guess(guess)"
   ]
  },
  {
   "attachments": {},
   "cell_type": "markdown",
   "metadata": {},
   "source": [
    "## load allowed words\n",
    "### v1\n",
    "* no integration of word likelihood based on word popularity (all words in dic have same probability = 1)\n",
    "* one step ahead lookup"
   ]
  },
  {
   "cell_type": "code",
   "execution_count": 5,
   "metadata": {},
   "outputs": [],
   "source": [
    "def load_words(path: Path) -> list[str]:\n",
    "    with open(path, 'r') as f:\n",
    "        return [word.strip() for word in f.readlines()]\n",
    "\n",
    "allowed_words = load_words(DATA_PATH / ALLOWED_WORDS_FNAME)\n",
    "allowed_words = {word: 1. for word in allowed_words}\n",
    "\n",
    "possible_words = load_words(DATA_PATH / POSSIBLE_WORDS_FNAME)\n",
    "allowed_words_v2 = {word: 1. for word in possible_words}\n",
    "allowed_words_v2.update({word: 0.01 for word in allowed_words if word not in possible_words})"
   ]
  },
  {
   "attachments": {},
   "cell_type": "markdown",
   "metadata": {},
   "source": [
    "# EDA"
   ]
  },
  {
   "cell_type": "code",
   "execution_count": 6,
   "metadata": {},
   "outputs": [
    {
     "data": {
      "text/plain": [
       "12953"
      ]
     },
     "execution_count": 6,
     "metadata": {},
     "output_type": "execute_result"
    }
   ],
   "source": [
    "# number of 5 letter words\n",
    "five_letter_words = pd.Series(allowed_words.keys())\n",
    "len(five_letter_words)"
   ]
  },
  {
   "cell_type": "code",
   "execution_count": 7,
   "metadata": {},
   "outputs": [
    {
     "data": {
      "image/png": "[encoded data removed]",
      "text/plain": [
       "<Figure size 640x480 with 1 Axes>"
      ]
     },
     "metadata": {},
     "output_type": "display_data"
    }
   ],
   "source": [
    "# letter prevalence as a whole\n",
    "(five_letter_words\n",
    "    .apply(lambda x: list(x))\n",
    "    .explode()\n",
    "    .value_counts()\n",
    "    .plot(\n",
    "        kind=\"bar\",\n",
    "        title=\"letter frequency in 5-letter words\",\n",
    "        ));"
   ]
  },
  {
   "cell_type": "code",
   "execution_count": 8,
   "metadata": {},
   "outputs": [
    {
     "data": {
      "text/plain": [
       "<Axes: title={'center': 'How often does a letter appear in a 5 letter word?'}>"
      ]
     },
     "execution_count": 8,
     "metadata": {},
     "output_type": "execute_result"
    },
    {
     "data": {
      "image/png": "[encoded data removed]",
      "text/plain": [
       "<Figure size 2000x500 with 2 Axes>"
      ]
     },
     "metadata": {},
     "output_type": "display_data"
    }
   ],
   "source": [
    "ALPHABET = \"abcdefghijklmnopqrstuvwxyz\"\n",
    "# how often does a letter appear in a 5 letter word?\n",
    "letter_frequency = pd.Series({letter: five_letter_words.str.contains(letter).mean() for letter in ALPHABET})\n",
    "\n",
    "fig, ax = plt.subplots(1,2, figsize=(20,5))\n",
    "letter_frequency.plot.bar(title=\"How often does a letter appear in a 5 letter word?\", ax=ax[0])\n",
    "letter_frequency.sort_values(ascending=False).plot.bar(title=\"How often does a letter appear in a 5 letter word?\", ax=ax[1])"
   ]
  },
  {
   "cell_type": "code",
   "execution_count": 9,
   "metadata": {},
   "outputs": [],
   "source": [
    "sample_words = np.random.choice(list(allowed_words.keys()), 200, replace=False)\n",
    "sample_words = {word: allowed_words[word] for word in sample_words}"
   ]
  },
  {
   "attachments": {},
   "cell_type": "markdown",
   "metadata": {},
   "source": [
    "## Building a map of possible solutions given a guess outcome"
   ]
  },
  {
   "cell_type": "code",
   "execution_count": 15,
   "metadata": {},
   "outputs": [
    {
     "name": "stdout",
     "output_type": "stream",
     "text": [
      "CPU times: user 14min 13s, sys: 35.9 s, total: 14min 49s\n",
      "Wall time: 15min 13s\n",
      "PossibleSolutionsMap(n_solutions=12953,n_allowed=12953,entropy=13.66)\n",
      "CPU times: user 1min 5s, sys: 2min 51s, total: 3min 57s\n",
      "Wall time: 4min 31s\n"
     ]
    }
   ],
   "source": [
    "\n",
    "psm = wd.PossibleSolutionsMap(allowed_words, list(allowed_words))\n",
    "%time psm.build_map()\n",
    "print(psm)\n",
    "\n",
    "%time psm.to_pickle(DATA_PATH / WORDS_PAIRS_FNAME.format(version=\"v1\"))"
   ]
  },
  {
   "attachments": {},
   "cell_type": "markdown",
   "metadata": {},
   "source": [
    "## Version using prior knowledge about actual possible words"
   ]
  },
  {
   "cell_type": "code",
   "execution_count": 34,
   "metadata": {},
   "outputs": [
    {
     "name": "stdout",
     "output_type": "stream",
     "text": [
      "CPU times: user 2min 25s, sys: 2.17 s, total: 2min 27s\n",
      "Wall time: 2min 27s\n",
      "PossibleSolutionsMap(n_solutions=2309,n_allowed=12953,entropy=11.17)\n",
      "CPU times: user 7.8 s, sys: 464 ms, total: 8.26 s\n",
      "Wall time: 8.4 s\n"
     ]
    }
   ],
   "source": [
    "psm_v2 = wd.PossibleSolutionsMap({word: 1.0 for word in possible_words}, list(allowed_words))\n",
    "%time psm_v2.build_map()\n",
    "print(psm_v2)\n",
    "\n",
    "%time psm_v2.to_pickle(DATA_PATH / WORDS_PAIRS_FNAME.format(version=\"v2\"))"
   ]
  },
  {
   "cell_type": "code",
   "execution_count": 10,
   "metadata": {},
   "outputs": [],
   "source": [
    "# reload\n",
    "psm = wd.PossibleSolutionsMap.from_pickle(DATA_PATH / WORDS_PAIRS_FNAME.format(version=\"v1\"))\n",
    "psm_v2 = wd.PossibleSolutionsMap.from_pickle(DATA_PATH / WORDS_PAIRS_FNAME.format(version=\"v2\"))"
   ]
  },
  {
   "cell_type": "code",
   "execution_count": 11,
   "metadata": {},
   "outputs": [],
   "source": [
    "def simulate_game_so_far(solution: str, guesses: list[str]):\n",
    "    game = wd.WordleGame(solution)\n",
    "    for guess in guesses:\n",
    "        game.record_player_guess(guess)\n",
    "        wd.display_wordle_guess_outcome(game.guesses_so_far[-1])\n",
    "    \n",
    "    return game"
   ]
  },
  {
   "cell_type": "code",
   "execution_count": 12,
   "metadata": {},
   "outputs": [
    {
     "data": {
      "text/html": [
       "<font size=\"7\" style=\"font-family:Monospace\"><span style=\"background-color:black\">C</span><span style=\"background-color:#098710\">R</span><span style=\"background-color:#b89d02\">A</span><span style=\"background-color:black\">T</span><span style=\"background-color:#b89d02\">E</span>"
      ],
      "text/plain": [
       "<IPython.core.display.HTML object>"
      ]
     },
     "metadata": {},
     "output_type": "display_data"
    },
    {
     "name": "stdout",
     "output_type": "stream",
     "text": [
      "CPU times: user 301 ms, sys: 545 ms, total: 846 ms\n",
      "Wall time: 894 ms\n",
      "PossibleSolutionsMap(n_solutions=34,n_allowed=12953,entropy=5.09)\n",
      "ardeb    1.0\n",
      "aread    1.0\n",
      "areal    1.0\n",
      "arear    1.0\n",
      "areas    1.0\n",
      "dtype: float64\n"
     ]
    }
   ],
   "source": [
    "game = simulate_game_so_far(\"bread\", [\"crate\"]) \n",
    "%time psm2 = psm.filter_based_on_guess_outcome(game.guesses_so_far[-1])\n",
    "print(psm2)\n",
    "print(psm2.possible_solutions.head())"
   ]
  },
  {
   "attachments": {},
   "cell_type": "markdown",
   "metadata": {},
   "source": [
    "## test performance with caching of entropies calculation for all candidates"
   ]
  },
  {
   "cell_type": "code",
   "execution_count": 13,
   "metadata": {},
   "outputs": [
    {
     "name": "stdout",
     "output_type": "stream",
     "text": [
      "CPU times: user 12.1 s, sys: 2.19 s, total: 14.3 s\n",
      "Wall time: 15.2 s\n",
      "CPU times: user 520 µs, sys: 26 µs, total: 546 µs\n",
      "Wall time: 549 µs\n",
      "CPU times: user 3.28 s, sys: 207 ms, total: 3.49 s\n",
      "Wall time: 3.58 s\n"
     ]
    }
   ],
   "source": [
    "# game start: all words are possible solutions (map = 13k x 13k)\n",
    "%time candidate_entropies = wd.player.get_all_candidate_entropies(psm)\n",
    "%time candidate_entropies = wd.player.get_all_candidate_entropies(psm)\n",
    "\n",
    "# after one guess: \n",
    "%time candidate_entropies = wd.player.get_all_candidate_entropies(psm2)"
   ]
  },
  {
   "cell_type": "code",
   "execution_count": 14,
   "metadata": {},
   "outputs": [
    {
     "name": "stdout",
     "output_type": "stream",
     "text": [
      "CPU times: user 5.1 s, sys: 514 ms, total: 5.62 s\n",
      "Wall time: 5.78 s\n"
     ]
    }
   ],
   "source": [
    "%time candidate_entropies = wd.player.get_all_candidate_entropies(psm_v2)"
   ]
  },
  {
   "cell_type": "code",
   "execution_count": 18,
   "metadata": {},
   "outputs": [
    {
     "data": {
      "text/html": [
       "<div>\n",
       "<style scoped>\n",
       "    .dataframe tbody tr th:only-of-type {\n",
       "        vertical-align: middle;\n",
       "    }\n",
       "\n",
       "    .dataframe tbody tr th {\n",
       "        vertical-align: top;\n",
       "    }\n",
       "\n",
       "    .dataframe thead th {\n",
       "        text-align: right;\n",
       "    }\n",
       "</style>\n",
       "<table border=\"1\" class=\"dataframe\">\n",
       "  <thead>\n",
       "    <tr style=\"text-align: right;\">\n",
       "      <th></th>\n",
       "      <th>aahed</th>\n",
       "      <th>aalii</th>\n",
       "      <th>aargh</th>\n",
       "      <th>aarti</th>\n",
       "      <th>abaca</th>\n",
       "      <th>abaci</th>\n",
       "      <th>aback</th>\n",
       "      <th>abacs</th>\n",
       "      <th>abaft</th>\n",
       "      <th>abaka</th>\n",
       "      <th>...</th>\n",
       "      <th>zulus</th>\n",
       "      <th>zupan</th>\n",
       "      <th>zupas</th>\n",
       "      <th>zuppa</th>\n",
       "      <th>zurfs</th>\n",
       "      <th>zuzim</th>\n",
       "      <th>zygal</th>\n",
       "      <th>zygon</th>\n",
       "      <th>zymes</th>\n",
       "      <th>zymic</th>\n",
       "    </tr>\n",
       "  </thead>\n",
       "  <tbody>\n",
       "    <tr>\n",
       "      <th>grown</th>\n",
       "      <td>_____</td>\n",
       "      <td>_____</td>\n",
       "      <td>__OO_</td>\n",
       "      <td>__O__</td>\n",
       "      <td>_____</td>\n",
       "      <td>_____</td>\n",
       "      <td>_____</td>\n",
       "      <td>_____</td>\n",
       "      <td>_____</td>\n",
       "      <td>_____</td>\n",
       "      <td>...</td>\n",
       "      <td>_____</td>\n",
       "      <td>____C</td>\n",
       "      <td>_____</td>\n",
       "      <td>_____</td>\n",
       "      <td>__O__</td>\n",
       "      <td>_____</td>\n",
       "      <td>__O__</td>\n",
       "      <td>__OOC</td>\n",
       "      <td>_____</td>\n",
       "      <td>_____</td>\n",
       "    </tr>\n",
       "  </tbody>\n",
       "</table>\n",
       "<p>1 rows × 12953 columns</p>\n",
       "</div>"
      ],
      "text/plain": [
       "       aahed  aalii  aargh  aarti  abaca  abaci  aback  abacs  abaft  abaka  \\\n",
       "grown  _____  _____  __OO_  __O__  _____  _____  _____  _____  _____  _____   \n",
       "\n",
       "       ...  zulus  zupan  zupas  zuppa  zurfs  zuzim  zygal  zygon  zymes  \\\n",
       "grown  ...  _____  ____C  _____  _____  __O__  _____  __O__  __OOC  _____   \n",
       "\n",
       "       zymic  \n",
       "grown  _____  \n",
       "\n",
       "[1 rows x 12953 columns]"
      ]
     },
     "execution_count": 18,
     "metadata": {},
     "output_type": "execute_result"
    }
   ],
   "source": [
    "player.psm.map"
   ]
  },
  {
   "cell_type": "code",
   "execution_count": 46,
   "metadata": {},
   "outputs": [
    {
     "data": {
      "text/plain": [
       "PossibleSolutionsMap(n_solutions=0,n_allowed=12953,entropy=-0.00)"
      ]
     },
     "execution_count": 46,
     "metadata": {},
     "output_type": "execute_result"
    }
   ],
   "source": [
    "player.psm"
   ]
  },
  {
   "cell_type": "code",
   "execution_count": 51,
   "metadata": {},
   "outputs": [
    {
     "data": {
      "text/html": [
       "<font size=\"7\" style=\"font-family:Monospace\"><span style=\"background-color:black\">S</span><span style=\"background-color:#b89d02\">O</span><span style=\"background-color:#b89d02\">A</span><span style=\"background-color:#b89d02\">R</span><span style=\"background-color:black\">E</span>"
      ],
      "text/plain": [
       "<IPython.core.display.HTML object>"
      ]
     },
     "metadata": {},
     "output_type": "display_data"
    },
    {
     "data": {
      "text/html": [
       "<font size=\"7\" style=\"font-family:Monospace\"><span style=\"background-color:black\">M</span><span style=\"background-color:#b89d02\">A</span><span style=\"background-color:#b89d02\">R</span><span style=\"background-color:#b89d02\">O</span><span style=\"background-color:black\">N</span>"
      ],
      "text/plain": [
       "<IPython.core.display.HTML object>"
      ]
     },
     "metadata": {},
     "output_type": "display_data"
    },
    {
     "data": {
      "text/html": [
       "<font size=\"7\" style=\"font-family:Monospace\"><span style=\"background-color:#098710\">B</span><span style=\"background-color:#098710\">R</span><span style=\"background-color:#098710\">O</span><span style=\"background-color:#098710\">A</span><span style=\"background-color:#098710\">D</span>"
      ],
      "text/plain": [
       "<IPython.core.display.HTML object>"
      ]
     },
     "metadata": {},
     "output_type": "display_data"
    },
    {
     "name": "stdout",
     "output_type": "stream",
     "text": [
      "CPU times: user 3.54 s, sys: 72.2 ms, total: 3.61 s\n",
      "Wall time: 3.6 s\n"
     ]
    },
    {
     "data": {
      "text/plain": [
       "WordleGame(target_word='BROAD', max_guesses=6, number_of_guesses=3, is_over=True, solved=True)"
      ]
     },
     "execution_count": 51,
     "metadata": {},
     "output_type": "execute_result"
    }
   ],
   "source": [
    "player = wd.player.GreedyPlayer(psm_v2)\n",
    "game = wd.WordleGame(\"broad\")\n",
    "%time wd.player.play_game(player, game=game)\n",
    "\n"
   ]
  },
  {
   "cell_type": "code",
   "execution_count": 24,
   "metadata": {},
   "outputs": [],
   "source": [
    "wd.player.get_all_candidate_entropies.cache_clear()"
   ]
  },
  {
   "cell_type": "code",
   "execution_count": 25,
   "metadata": {},
   "outputs": [],
   "source": [
    "player = wd.player.GreedyPlayer(psm)\n",
    "game = wd.WordleGame(\"grown\")\n",
    "guess = player.make_next_guess(game)"
   ]
  },
  {
   "cell_type": "code",
   "execution_count": 26,
   "metadata": {},
   "outputs": [
    {
     "data": {
      "text/plain": [
       "'tares'"
      ]
     },
     "execution_count": 26,
     "metadata": {},
     "output_type": "execute_result"
    }
   ],
   "source": [
    "guess"
   ]
  },
  {
   "cell_type": "code",
   "execution_count": null,
   "metadata": {},
   "outputs": [],
   "source": [
    "print(pd.Series.to_string(float_format=))"
   ]
  },
  {
   "cell_type": "code",
   "execution_count": 29,
   "metadata": {},
   "outputs": [
    {
     "name": "stdout",
     "output_type": "stream",
     "text": [
      "Guess2PossibleSolutionsMap(n_solutions=34,n_allowed=12953,entropy=5.09)\n"
     ]
    },
    {
     "data": {
      "text/plain": [
       "aread    3.402633\n",
       "arsed    3.385277\n",
       "arled    3.274265\n",
       "armed    3.112212\n",
       "bread    3.104347\n",
       "areas    3.098473\n",
       "arked    3.059942\n",
       "dream    3.035274\n",
       "dtype: float64"
      ]
     },
     "execution_count": 29,
     "metadata": {},
     "output_type": "execute_result"
    }
   ],
   "source": [
    "print(gopm2)\n",
    "candidate_entropies.head(8)"
   ]
  },
  {
   "cell_type": "code",
   "execution_count": 25,
   "metadata": {},
   "outputs": [
    {
     "name": "stdout",
     "output_type": "stream",
     "text": [
      "Guess2PossibleSolutionsMap(n_solutions=3,n_allowed=12953,entropy=1.58)\n"
     ]
    }
   ],
   "source": [
    "# outcome = game.record_player_guess(candidate_entropies.index[0])\n",
    "gopm3 = gopm2.filter_based_on_guess_outcome(outcome)\n",
    "print(gopm3)"
   ]
  },
  {
   "cell_type": "code",
   "execution_count": 26,
   "metadata": {},
   "outputs": [
    {
     "data": {
      "text/plain": [
       "bread    1.0\n",
       "dread    1.0\n",
       "oread    1.0\n",
       "dtype: float64"
      ]
     },
     "execution_count": 26,
     "metadata": {},
     "output_type": "execute_result"
    }
   ],
   "source": [
    "gopm3.possible_solutions"
   ]
  },
  {
   "cell_type": "code",
   "execution_count": 31,
   "metadata": {},
   "outputs": [],
   "source": [
    "# to be refactored\n",
    "def generate_word_distrib(word, gopm = gopm):\n",
    "    distrib = {pattern: {\"probability\": probability(possibilities), \"possibilities\": list(possibilities.keys())[:8]} for pattern, possibilities in gopm.map[word].items()}\n",
    "    distrib = pd.DataFrame(distrib).T\n",
    "    distrib = distrib.sort_values(\"probability\", ascending=False)\n",
    "    distrib.probability /= distrib.probability.sum()\n",
    "    distrib = distrib.reset_index().rename(columns={'index': 'pattern'})\n",
    "    return distrib\n",
    "\n",
    "def plot_distrib(word, gopm = gopm):\n",
    "    distrib = generate_word_distrib(word, gopm)\n",
    "    fig = px.bar(\n",
    "        distrib, \n",
    "        x='pattern', \n",
    "        y=\"probability\", \n",
    "        hover_data=distrib.columns, \n",
    "        template=\"plotly_dark\", \n",
    "        title=f\"wordle outcome distribution for first guess `{word}`\")\n",
    "    fig.show()"
   ]
  },
  {
   "cell_type": "code",
   "execution_count": 32,
   "metadata": {},
   "outputs": [
    {
     "ename": "AttributeError",
     "evalue": "'str' object has no attribute 'values'",
     "output_type": "error",
     "traceback": [
      "\u001b[0;31m---------------------------------------------------------------------------\u001b[0m",
      "\u001b[0;31mAttributeError\u001b[0m                            Traceback (most recent call last)",
      "Cell \u001b[0;32mIn[32], line 1\u001b[0m\n\u001b[0;32m----> 1\u001b[0m plot_distrib(\u001b[39m\"\u001b[39;49m\u001b[39mkayak\u001b[39;49m\u001b[39m\"\u001b[39;49m)\n",
      "Cell \u001b[0;32mIn[31], line 13\u001b[0m, in \u001b[0;36mplot_distrib\u001b[0;34m(word, gopm)\u001b[0m\n\u001b[1;32m     12\u001b[0m \u001b[39mdef\u001b[39;00m \u001b[39mplot_distrib\u001b[39m(word, gopm \u001b[39m=\u001b[39m gopm):\n\u001b[0;32m---> 13\u001b[0m     distrib \u001b[39m=\u001b[39m generate_word_distrib(word, gopm)\n\u001b[1;32m     14\u001b[0m     fig \u001b[39m=\u001b[39m px\u001b[39m.\u001b[39mbar(distrib, x\u001b[39m=\u001b[39m\u001b[39m'\u001b[39m\u001b[39mpattern\u001b[39m\u001b[39m'\u001b[39m, y\u001b[39m=\u001b[39m\u001b[39m\"\u001b[39m\u001b[39mprobability\u001b[39m\u001b[39m\"\u001b[39m, hover_data\u001b[39m=\u001b[39mdistrib\u001b[39m.\u001b[39mcolumns, template\u001b[39m=\u001b[39m\u001b[39m\"\u001b[39m\u001b[39mplotly_dark\u001b[39m\u001b[39m\"\u001b[39m, title\u001b[39m=\u001b[39m\u001b[39mf\u001b[39m\u001b[39m\"\u001b[39m\u001b[39mwordle outcome distribution for first guess `\u001b[39m\u001b[39m{\u001b[39;00mword\u001b[39m}\u001b[39;00m\u001b[39m`\u001b[39m\u001b[39m\"\u001b[39m)\n\u001b[1;32m     15\u001b[0m     fig\u001b[39m.\u001b[39mshow()\n",
      "Cell \u001b[0;32mIn[31], line 5\u001b[0m, in \u001b[0;36mgenerate_word_distrib\u001b[0;34m(word, gopm)\u001b[0m\n\u001b[1;32m      4\u001b[0m \u001b[39mdef\u001b[39;00m \u001b[39mgenerate_word_distrib\u001b[39m(word, gopm \u001b[39m=\u001b[39m gopm):\n\u001b[0;32m----> 5\u001b[0m     distrib \u001b[39m=\u001b[39m {pattern: {\u001b[39m\"\u001b[39;49m\u001b[39mprobability\u001b[39;49m\u001b[39m\"\u001b[39;49m: probability(possibilities), \u001b[39m\"\u001b[39;49m\u001b[39mpossibilities\u001b[39;49m\u001b[39m\"\u001b[39;49m: \u001b[39mlist\u001b[39;49m(possibilities\u001b[39m.\u001b[39;49mkeys())[:\u001b[39m8\u001b[39;49m]} \u001b[39mfor\u001b[39;49;00m pattern, possibilities \u001b[39min\u001b[39;49;00m gopm\u001b[39m.\u001b[39;49mmap[word]\u001b[39m.\u001b[39;49mitems()}\n\u001b[1;32m      6\u001b[0m     distrib \u001b[39m=\u001b[39m pd\u001b[39m.\u001b[39mDataFrame(distrib)\u001b[39m.\u001b[39mT\n\u001b[1;32m      7\u001b[0m     distrib \u001b[39m=\u001b[39m distrib\u001b[39m.\u001b[39msort_values(\u001b[39m\"\u001b[39m\u001b[39mprobability\u001b[39m\u001b[39m\"\u001b[39m, ascending\u001b[39m=\u001b[39m\u001b[39mFalse\u001b[39;00m)\n",
      "Cell \u001b[0;32mIn[31], line 5\u001b[0m, in \u001b[0;36m<dictcomp>\u001b[0;34m(.0)\u001b[0m\n\u001b[1;32m      4\u001b[0m \u001b[39mdef\u001b[39;00m \u001b[39mgenerate_word_distrib\u001b[39m(word, gopm \u001b[39m=\u001b[39m gopm):\n\u001b[0;32m----> 5\u001b[0m     distrib \u001b[39m=\u001b[39m {pattern: {\u001b[39m\"\u001b[39m\u001b[39mprobability\u001b[39m\u001b[39m\"\u001b[39m: probability(possibilities), \u001b[39m\"\u001b[39m\u001b[39mpossibilities\u001b[39m\u001b[39m\"\u001b[39m: \u001b[39mlist\u001b[39m(possibilities\u001b[39m.\u001b[39mkeys())[:\u001b[39m8\u001b[39m]} \u001b[39mfor\u001b[39;00m pattern, possibilities \u001b[39min\u001b[39;00m gopm\u001b[39m.\u001b[39mmap[word]\u001b[39m.\u001b[39mitems()}\n\u001b[1;32m      6\u001b[0m     distrib \u001b[39m=\u001b[39m pd\u001b[39m.\u001b[39mDataFrame(distrib)\u001b[39m.\u001b[39mT\n\u001b[1;32m      7\u001b[0m     distrib \u001b[39m=\u001b[39m distrib\u001b[39m.\u001b[39msort_values(\u001b[39m\"\u001b[39m\u001b[39mprobability\u001b[39m\u001b[39m\"\u001b[39m, ascending\u001b[39m=\u001b[39m\u001b[39mFalse\u001b[39;00m)\n",
      "Cell \u001b[0;32mIn[31], line 2\u001b[0m, in \u001b[0;36mprobability\u001b[0;34m(possibilities)\u001b[0m\n\u001b[1;32m      1\u001b[0m \u001b[39mdef\u001b[39;00m \u001b[39mprobability\u001b[39m(possibilities: \u001b[39mdict\u001b[39m):\n\u001b[0;32m----> 2\u001b[0m     \u001b[39mreturn\u001b[39;00m \u001b[39msum\u001b[39m(possibilities\u001b[39m.\u001b[39;49mvalues())\n",
      "\u001b[0;31mAttributeError\u001b[0m: 'str' object has no attribute 'values'"
     ]
    }
   ],
   "source": [
    "plot_distrib(\"kayak\")"
   ]
  },
  {
   "cell_type": "code",
   "execution_count": 56,
   "metadata": {},
   "outputs": [],
   "source": [
    "def entropy(word, gopm_map=gopm.map):\n",
    "    distrib = np.array([probability(possibilities) for possibilities in gopm_map[word].values()])\n",
    "    probabilities = distrib[distrib > 0] / distrib.sum()\n",
    "    return (-probabilities * np.log2(probabilities)).sum()\n",
    "\n",
    "entropies = pd.Series({word: entropy(word) for word in allowed_words})\n"
   ]
  },
  {
   "cell_type": "code",
   "execution_count": 35,
   "metadata": {},
   "outputs": [
    {
     "data": {
      "text/plain": [
       "tares    6.195595\n",
       "lares    6.151314\n",
       "rales    6.115942\n",
       "rates    6.097615\n",
       "teras    6.078258\n",
       "nares    6.068445\n",
       "soare    6.062303\n",
       "tales    6.056305\n",
       "reais    6.051229\n",
       "tears    6.033782\n",
       "dtype: float64"
      ]
     },
     "execution_count": 35,
     "metadata": {},
     "output_type": "execute_result"
    }
   ],
   "source": [
    "entropies.sort_values(ascending=False).head(10)"
   ]
  },
  {
   "cell_type": "code",
   "execution_count": null,
   "metadata": {},
   "outputs": [],
   "source": [
    "possibilities = gopm.get_possibilities"
   ]
  }
 ],
 "metadata": {
  "kernelspec": {
   "display_name": "wordle",
   "language": "python",
   "name": "python3"
  },
  "language_info": {
   "codemirror_mode": {
    "name": "ipython",
    "version": 3
   },
   "file_extension": ".py",
   "mimetype": "text/x-python",
   "name": "python",
   "nbconvert_exporter": "python",
   "pygments_lexer": "ipython3",
   "version": "3.11.0"
  },
  "orig_nbformat": 4,
  "vscode": {
   "interpreter": {
    "hash": "85dea77ca567992bc01902591d4635137ff7aa65e402f3d1c251b37a491cd579"
   }
  }
 },
 "nbformat": 4,
 "nbformat_minor": 2
}
